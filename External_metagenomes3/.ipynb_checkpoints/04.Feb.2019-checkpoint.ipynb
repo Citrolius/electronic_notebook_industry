{
 "cells": [
  {
   "cell_type": "markdown",
   "metadata": {},
   "source": [
    "The downloads have finished. The results from the 3 experiments are undergoing the trimmomatic and concatenation pipeline."
   ]
  }
 ],
 "metadata": {
  "kernelspec": {
   "display_name": "Python 3",
   "language": "python",
   "name": "python3"
  },
  "language_info": {
   "codemirror_mode": {
    "name": "ipython",
    "version": 3
   },
   "file_extension": ".py",
   "mimetype": "text/x-python",
   "name": "python",
   "nbconvert_exporter": "python",
   "pygments_lexer": "ipython3",
   "version": "3.7.1"
  }
 },
 "nbformat": 4,
 "nbformat_minor": 2
}
