{
 "cells": [
  {
   "cell_type": "markdown",
   "metadata": {},
   "source": [
    "# Description of procedure"
   ]
  },
  {
   "cell_type": "markdown",
   "metadata": {},
   "source": [
    "Metagenomics department requested new data to be downloaded from SRA and then aligned with diamond and annotated with megan."
   ]
  },
  {
   "cell_type": "markdown",
   "metadata": {},
   "source": [
    "Initially you have constructed a script to download from SRA which is uploaded to github. However, the script's fastq-dump (extract fastq R1 and R2 from .sra) has failed due to outdated fastx-toolkit in Rothamsted.\n",
    "\n",
    "You have therefore found the experiment SAMEA3182052 on ebi which directly enables you to download all 26 accessions in the experiment using java developed tool."
   ]
  }
 ],
 "metadata": {
  "kernelspec": {
   "display_name": "Python 2",
   "language": "python",
   "name": "python2"
  },
  "language_info": {
   "codemirror_mode": {
    "name": "ipython",
    "version": 2
   },
   "file_extension": ".py",
   "mimetype": "text/x-python",
   "name": "python",
   "nbconvert_exporter": "python",
   "pygments_lexer": "ipython2",
   "version": "2.7.15"
  }
 },
 "nbformat": 4,
 "nbformat_minor": 2
}
