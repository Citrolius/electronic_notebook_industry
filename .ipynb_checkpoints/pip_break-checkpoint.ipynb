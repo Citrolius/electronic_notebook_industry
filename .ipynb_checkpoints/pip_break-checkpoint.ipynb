{
 "cells": [
  {
   "cell_type": "code",
   "execution_count": null,
   "metadata": {},
   "outputs": [],
   "source": [
    "ImportError: No module named requests\n",
    "(27env) -bash-4.1$ pip install requests\n",
    "Traceback (most recent call last):\n",
    "  File \"/home/data/bioinf_training/colin/27env/bin/pip\", line 7, in <module>\n",
    "    from pip._internal import main\n",
    "ImportError: No module named _internal\n"
   ]
  },
  {
   "cell_type": "markdown",
   "metadata": {},
   "source": [
    "This always appears with prolonged virtenv usage."
   ]
  }
 ],
 "metadata": {
  "kernelspec": {
   "display_name": "Python 3",
   "language": "python",
   "name": "python3"
  },
  "language_info": {
   "codemirror_mode": {
    "name": "ipython",
    "version": 3
   },
   "file_extension": ".py",
   "mimetype": "text/x-python",
   "name": "python",
   "nbconvert_exporter": "python",
   "pygments_lexer": "ipython3",
   "version": "3.7.1"
  }
 },
 "nbformat": 4,
 "nbformat_minor": 2
}
