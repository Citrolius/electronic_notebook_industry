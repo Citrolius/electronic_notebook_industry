{
 "cells": [
  {
   "cell_type": "markdown",
   "metadata": {},
   "source": [
    "Read through any paper with exact methodology of comparative genomics.\n",
    "Read through bionano4 solve's hybrid scaffold bit.\n",
    "Confirm with Kewyan on 1) Date of visit 2) Text mining knetminer.\n",
    "Read through the presentation ppt.\n",
    "Start writing a procedure of what's been done so far. BRice."
   ]
  }
 ],
 "metadata": {
  "kernelspec": {
   "display_name": "Python 3",
   "language": "python",
   "name": "python3"
  },
  "language_info": {
   "codemirror_mode": {
    "name": "ipython",
    "version": 3
   },
   "file_extension": ".py",
   "mimetype": "text/x-python",
   "name": "python",
   "nbconvert_exporter": "python",
   "pygments_lexer": "ipython3",
   "version": "3.7.1"
  }
 },
 "nbformat": 4,
 "nbformat_minor": 2
}
