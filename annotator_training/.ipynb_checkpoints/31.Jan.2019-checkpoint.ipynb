{
 "cells": [
  {
   "cell_type": "markdown",
   "metadata": {},
   "source": [
    "The gcall runs have finished and produced AG.all.proteins.sorted.fasta\n",
    "\n",
    "The maker scores are ranked from smallest AED metric to largest.\n",
    "Hence the top 5 were chosen for the blast2go analysis."
   ]
  },
  {
   "cell_type": "markdown",
   "metadata": {},
   "source": [
    "The top 5 sequences of protein were extracted and loaded into blast2go. The parameters were specified as blastp and run against the drosophila genome"
   ]
  },
  {
   "cell_type": "markdown",
   "metadata": {},
   "source": [
    "The results from blastp demonstrated that there were wide differences between the hits number for different sequences.\n",
    "\n",
    "e.g. predicted augustus-33-processed-gene-0.8-mRNA-1 gene heat shock protein had 87 hits (the first sequence)\n",
    "\n",
    "whereas for the second and third unkonwn predicted protein sequences augustus-33-processed-gene-0.2-mRNA-1 and augustus-33-processed-gene-0.4-mRNA-1 had no matches at all\n",
    "\n",
    "The fourth sequence, augustus-33-processed-gene-0.6-mRNA-1 had 6 hits\n",
    "The fifth sequence augustus-33-processed-gene-0.9-mRNA-1 had 53 matches"
   ]
  },
  {
   "cell_type": "markdown",
   "metadata": {},
   "source": [
    "The second unknown sequence was then put through to phyre2 to deduce structures."
   ]
  },
  {
   "cell_type": "markdown",
   "metadata": {},
   "source": [
    "The process of the blast2go analysis was carried out according to the RNA-seq booklet.\n",
    "Mapping returned the GO database names of the hits. 2 and 3 did not contain any GO names.\n",
    "Annotation reveals the most reliable GO annotation for each protein sequence. Annotation results are also stored in the summary spreadsheet.\n"
   ]
  }
 ],
 "metadata": {
  "kernelspec": {
   "display_name": "Python 3",
   "language": "python",
   "name": "python3"
  },
  "language_info": {
   "codemirror_mode": {
    "name": "ipython",
    "version": 3
   },
   "file_extension": ".py",
   "mimetype": "text/x-python",
   "name": "python",
   "nbconvert_exporter": "python",
   "pygments_lexer": "ipython3",
   "version": "3.7.1"
  }
 },
 "nbformat": 4,
 "nbformat_minor": 2
}
