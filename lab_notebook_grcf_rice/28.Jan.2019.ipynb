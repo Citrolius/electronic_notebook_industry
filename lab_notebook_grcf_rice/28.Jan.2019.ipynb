{
 "cells": [
  {
   "cell_type": "markdown",
   "metadata": {},
   "source": [
    "# Objectives\n",
    "\n",
    "1) Use fork function to link to Keywan's gene discovery pipeline.\n",
    "2) Examine the file objects in the file a bit more carefully.\n",
    "3) Adjust the script to have relative paths."
   ]
  },
  {
   "cell_type": "markdown",
   "metadata": {},
   "source": [
    "## Github\n",
    "\n",
    "Version control tracks modifications to code over time with snapshots.\n",
    "Git is a version control software.\n",
    "Github is the platform of presentation.\n",
    "\n",
    "Jargon\n",
    "Repository: The storage folder for every file in project. 2 kinds:\n",
    "a) local. .git folder inside computer.\n",
    "b) .git on internet or remote server.\n",
    "\n",
    "Commit: A snapshot of repository at a point in time.\n",
    "\n",
    "Mechanism:\n",
    "A repository has a master branch.\n",
    "Experimental changes to code are set on 'feature' branches emerging from master.\n",
    "Feature branch need to be merged with master to make change permanent.\n",
    "\n",
    "Desirable changes should be saved as 'commits' good practice to label each commit with a commit message / description on why.\n",
    "\n",
    "Team collaborations are done with 'pull requests.' Pull requests show differences between your and the original master branch in green and red.\n"
   ]
  },
  {
   "cell_type": "markdown",
   "metadata": {},
   "source": [
    "## The main github training is from the official version control training course by Rothamsted\n",
    "\n",
    "Notes\n",
    "Github is a DVCS / distributed version control software.\n",
    "Each user has the whole cloned history of a repository instead of a part ot it.\n",
    "Git has an algorithm that assess the content of the file to format storage.\n",
    "Change = feature branch + master branch\n",
    "\n",
    "You either use git bash or use GUI.\n",
    "\n",
    "You either convert a pc file into a .git repository or you fork and clone a repository from github and download to computer.\n",
    "\n",
    "A fork is a cloned repository on github online. You can easily merge it with original.\n",
    "\n",
    "### Fork and clone technique\n",
    "\n",
    "1. fork a remote repository.\n",
    "\n",
    "2. clone and download the fork into pc.\n",
    "\n",
    "3. Now you have A) The original B) fork in your github C) a .git file in your computer.\n",
    "\n",
    "4. You create features off C) and commit to that.\n",
    "\n",
    "5. Push fixes to B)\n",
    "\n",
    "6. send pull request to A.\n",
    "\n",
    "The history of your command line are as below.\n"
   ]
  },
  {
   "cell_type": "code",
   "execution_count": null,
   "metadata": {},
   "outputs": [],
   "source": [
    "cd /t/colin/BRice/gwas-gene-discovery # git bash commands.\n",
    "git init #initialise a .git repository\n",
    "git remote add remote https://github.com/Citrolius/gwas-gene-discovery.git\n",
    "#in order to set up the fork as remote repository to your local pc one."
   ]
  },
  {
   "cell_type": "code",
   "execution_count": null,
   "metadata": {},
   "outputs": [],
   "source": [
    "git remote -  #to check if remote is set up or not.\n",
    "origin  https://github.com/Citrolius/gwas-gene-discovery.git (fetch)\n",
    "origin  https://github.com/Citrolius/gwas-gene-discovery.git (push)\n",
    "remote  https://github.com/Citrolius/gwas-gene-discovery.git (fetch)\n",
    "remote  https://github.com/Citrolius/gwas-gene-discovery.git (push)\n",
    "upstream        https://github.com/KeywanHP/gwas-gene-discovery.git (fetch)\n",
    "upstream        https://github.com/KeywanHP/gwas-gene-discovery.git (push)\n"
   ]
  },
  {
   "cell_type": "markdown",
   "metadata": {},
   "source": [
    "You also used GitHub Desktop GUI to first download the fork and then push from local repository to the fork on github.\n",
    "\n",
    "What you did was delete all contents of the original script: map_snp_to_gene_v2.py and paste the content from draft6 into it.\n",
    "\n",
    "Github then show what is removed and replaced for something else.\n",
    "Due to the shortness of the script. Line by line highlight is not required."
   ]
  },
  {
   "cell_type": "markdown",
   "metadata": {},
   "source": [
    "### you have now learnt the fork and clone method of github."
   ]
  },
  {
   "cell_type": "markdown",
   "metadata": {},
   "source": [
    "# validating what you've done."
   ]
  },
  {
   "cell_type": "markdown",
   "metadata": {},
   "source": [
    "test-gwas.txt + ARALIP_genes.txt --> C16_0.logP_modified.txt"
   ]
  },
  {
   "cell_type": "markdown",
   "metadata": {},
   "source": [
    "Assuming the above 2 input files give rise to that one output file. The script can't work well since ARALIP_genes.txt doesn't have columns e.g. design as the Nipponbare does."
   ]
  }
 ],
 "metadata": {
  "kernelspec": {
   "display_name": "Python 3",
   "language": "python",
   "name": "python3"
  },
  "language_info": {
   "codemirror_mode": {
    "name": "ipython",
    "version": 3
   },
   "file_extension": ".py",
   "mimetype": "text/x-python",
   "name": "python",
   "nbconvert_exporter": "python",
   "pygments_lexer": "ipython3",
   "version": "3.7.1"
  }
 },
 "nbformat": 4,
 "nbformat_minor": 2
}
