{
 "cells": [
  {
   "cell_type": "code",
   "execution_count": 0,
   "metadata": {},
   "outputs": [],
   "source": [
    "def findCloseGene(chr_snp, bp_snp):\n",
    "\tgene_file = 'W:\\\\RICE\\\\Os_Nipponbare_IRGSP_1_gene_Loci_and_designation.txt'\n",
    "\tscore_threshold = 1.0\n",
    "\tmax_distance = 1000\n",
    "\twith open(gene_file) as f:\n",
    "\t\tnext(f)\n",
    "\t\tfor line in f:\n",
    "\t\t\tcol = line.split(\"\\t\")\n",
    "\t\t\tacc = col[0]\n",
    "\t\t\tchr_gene = int(col[1])\n",
    "\t\t\tbeg_gene = int(col[2])\n",
    "\t\t\tend_gene = int(col[3])\n",
    "\t\t\tdesign = col[4]\n",
    "\t\t\t#score = float(col[6])\n",
    "\t\t\t#SNP is within gene\n",
    "\t\t\tif (chr_snp == chr_gene) & (bp_snp > beg_gene) & (bp_snp < end_gene):\n",
    "\t\t\t\t#print('Found SNP within gene {}'.format(acc)) \n",
    "\t\t\t\treturn acc\n",
    "\t\t\t#SNP is down stream of gene with < max_distance \n",
    "\t\t\telif (chr_snp == chr_gene) & (abs(bp_snp - beg_gene) < max_distance):\n",
    "\t\t\t\t#print('Found SNP downstream of {}'.format(acc)) \n",
    "\t\t\t\treturn acc\n",
    "\t\t\t#SNP is up stream of gene with < max_distance \n",
    "\t\t\telif (chr_snp == chr_gene) & (abs(bp_snp - end_gene) < max_distance):\n",
    "\t\t\t\t#print('Found SNP upstream of {}'.format(acc)) \n",
    "\t\t\t\treturn acc\n",
    "\treturn \"FooBar\""
   ]
  },
  {
   "cell_type": "code",
   "execution_count": 0,
   "metadata": {},
   "outputs": [],
   "source": [
    "Os_Nipponbare seems to be an annotation file."
   ]
  },
  {
   "cell_type": "code",
   "execution_count": 0,
   "metadata": {},
   "outputs": [],
   "source": [
    "gene_file = 'W:\\\\RICE\\\\Os_Nipponbare_IRGSP_1_gene_Loci_and_designation.txt'"
   ]
  },
  {
   "cell_type": "markdown",
   "metadata": {},
   "source": [
    "The function overall takes the parameter of chromosome number (chr_snp) and the base position (bp_snp) from DB threshold file and compare them to annotation file. If they are the same then SNP is associated with a gene / acc"
   ]
  },
  {
   "cell_type": "markdown",
   "metadata": {},
   "source": [
    "abs() returns absolute value of an integer regardless of positive or negative"
   ]
  },
  {
   "cell_type": "markdown",
   "metadata": {},
   "source": [
    "If thresholdDB's SNP position or bp_snp is larger than Nipponbare annotation's gene beginning and less than its end position the SNP is found within a gene.\n",
    "\n",
    "If the absolute difference between thresholdDB's gene position and annotation's gene beginnning < 1000 aka max_distance then SNP is downstream of gene.\n",
    "\n",
    "If the asbolute difference between thresholdDB's gene position and annnotation's gene end position < 1000 then the SNP is upstream of a gene."
   ]
  },
  {
   "cell_type": "code",
   "execution_count": 0,
   "metadata": {},
   "outputs": [],
   "source": [
    "HOW WAS PYTHON ABLE TO GRAB CHR_SNP AND BP_SNP FROM THRESHOLD DB WHEN IT HAS CLOSED IT OFF?"
   ]
  },
  {
   "cell_type": "code",
   "execution_count": 0,
   "metadata": {},
   "outputs": [],
   "source": [
    "def findCloseGeneDesign(chr_snp, bp_snp):\n",
    "\tgene_file = 'W:\\\\RICE\\\\Os_Nipponbare_IRGSP_1_gene_Loci_and_designation.txt'\n",
    "\tscore_threshold = 1.0\n",
    "\tmax_distance = 1000\n",
    "\twith open(gene_file) as f:\n",
    "\t\tnext(f)\n",
    "\t\tfor line in f:\n",
    "\t\t\tcol = line.split(\"\\t\")\n",
    "\t\t\tacc = col[0]\n",
    "\t\t\tchr_gene = int(col[1])\n",
    "\t\t\tbeg_gene = int(col[2])\n",
    "\t\t\tend_gene = int(col[3])\n",
    "\t\t\tdesign = col[4]\n",
    "\t\t\t#score = float(col[6])\n",
    "\t\t\t#SNP is within gene\n",
    "\t\t\tif (chr_snp == chr_gene) & (bp_snp > beg_gene) & (bp_snp < end_gene):\n",
    "\t\t\t\t#print('Found SNP within gene {}'.format(design)) \n",
    "\t\t\t\treturn design\n",
    "\t\t\t#SNP is down stream of gene with < max_distance \n",
    "\t\t\telif (chr_snp == chr_gene) & (abs(bp_snp - beg_gene) < max_distance):\n",
    "\t\t\t\t#print('Found SNP downstream of {}'.format(design)) \n",
    "\t\t\t\treturn design\n",
    "\t\t\t#SNP is up stream of gene with < max_distance \n",
    "\t\t\telif (chr_snp == chr_gene) & (abs(bp_snp - end_gene) < max_distance):\n",
    "\t\t\t\t#print('Found SNP upstream of {}'.format(design)) \n",
    "\t\t\t\treturn design\n",
    "\treturn \"FooBar2\""
   ]
  },
  {
   "cell_type": "markdown",
   "metadata": {},
   "source": [
    "The only difference between the functions findclosegene and findclosegenedesign is that one returns genes whereas the other one returns the maf score. Both ARE NOT being executed just yet. They are designed to collect genes and maf associated with SNPs of interest to FooBar or FooBar2."
   ]
  },
  {
   "cell_type": "code",
   "execution_count": 0,
   "metadata": {},
   "outputs": [],
   "source": [
    "if __name__ == '__main__':\n",
    "\n",
    "\n",
    "        for file in os.listdir(\".\"):\n",
    "                if file.endswith(\".Results_formated_threshold.txt\"):\n",
    "                        print(file)\n",
    "                        out_file_gwas = file.replace(\"Results_formated_threshold\",\"Results_formated_gdp_FINAL\")\n",
    "                        out_file_gene = file.replace(\"Results_formated_threshold\",\"Results_formated_gene\")\n",
    "                        out_file_genedesign = file.replace(\"Results_formated_threshold\",\"Results_formated_gene_and_designation\")\n",
    "                        gwas_new_file = open(out_file_gwas, 'w')\n",
    "                        print(\"GENE\\tCHR\\tSNPnum\\tsnpBP\\tP\\tlogP\\tdesignation\", file=gwas_new_file)\n",
    "\n",
    "                        highlight = []\n",
    "                        highlightdesign = []\n",
    "                        with open(file) as f: #was gwas_file\n",
    "                                next(f)\n",
    "                                for line in f:\n",
    "                                        col = line.split(\"\\t\")\n",
    "                                        snp = col[0]\n",
    "                                        snpnum = col[0]\n",
    "                                        chr_snp = int(col[1])\n",
    "                                        bp_snp = int(col[2])\n",
    "                                        pval = float(col[3])\n",
    "                                        logP = float(col[4])\n",
    "                                        gene = findCloseGene(chr_snp, bp_snp)\n",
    "                                        design = findCloseGeneDesign(chr_snp, bp_snp)\n",
    "                                        blank = \"-\"\n",
    "                                        if gene == \"FooBar\":\n",
    "                                                print('{}\\t{}\\t{}\\t{}\\t{}\\t{}'.format(blank,blank,blank,blank,blank,blank), file=gwas_new_file)\n",
    "                                        else:\n",
    "                                                print('{}\\t{}\\t{}\\t{}\\t{}\\t{}\\t{}'.format(gene,chr_snp,snpnum,bp_snp,pval,logP,design))\n",
    "                                                if logP > logP_threshold:\n",
    "                                                        highlight.append(gene)\n",
    "                                                        highlightdesign.append(design)\n",
    "                                                        print('{}\\t{}\\t{}\\t{}\\t{}\\t{}\\t{}'.format(gene,chr_snp,snpnum,bp_snp,pval,logP,design), file=gwas_new_file)\n",
    "                                                else:\n",
    "                                                        print('{}\\t{}\\t{}\\t{}\\t{}\\t{}'.format(snp,chr_snp,snpnum,bp_snp,pval,logP), file=gwas_new_file)\n",
    "                                                \n",
    "                        gwas_new_file.close()\n",
    "                      \n",
    "                        \n",
    "                        highlight_file = open(out_file_gene, 'w')\n",
    "\n",
    "\n",
    "                        for gene in set(highlight):\n",
    "                            print(gene, file=highlight_file)\n",
    "\n",
    "                        highlight_file.close()\n",
    "                        highlightdesign_file = open(out_file_genedesign, 'w')\n",
    "                        \n",
    "                        for design in set(highlightdesign):\n",
    "                            print(design, file=highlightdesign_file) \n",
    "                                \n",
    "                        highlightdesign_file.close()"
   ]
  },
  {
   "cell_type": "code",
   "execution_count": 0,
   "metadata": {},
   "outputs": [],
   "source": [
    "if __name__ == '__main__':\n"
   ]
  },
  {
   "cell_type": "markdown",
   "metadata": {},
   "source": [
    "designates the following code block as the main class to be run in script"
   ]
  },
  {
   "cell_type": "code",
   "execution_count": 0,
   "metadata": {},
   "outputs": [],
   "source": [
    "     for file in os.listdir(\".\"):\n",
    "                if file.endswith(\".Results_formated_threshold.txt\"):\n",
    "                        print(file)\n",
    "                        out_file_gwas = file.replace(\"Results_formated_threshold\",\"Results_formated_gdp_FINAL\")\n",
    "                        out_file_gene = file.replace(\"Results_formated_threshold\",\"Results_formated_gene\")\n",
    "                        out_file_genedesign = file.replace(\"Results_formated_threshold\",\"Results_formated_gene_and_designation\")\n",
    "                        gwas_new_file = open(out_file_gwas, 'w')\n",
    "                        print(\"GENE\\tCHR\\tSNPnum\\tsnpBP\\tP\\tlogP\\tdesignation\", file=gwas_new_file)\n",
    "                        highlight = []\n",
    "                        highlightdesign = []"
   ]
  },
  {
   "cell_type": "markdown",
   "metadata": {},
   "source": [
    "From .results_formated_threshold.txt create results_formated_gdp_Final, results_formated_gene and results_formated_gene_and_designation.\n",
    "\n",
    "Then input the 7 columns into the gwas_new_file created in the first code block containing SNPum, CHR, snpBP, p, logP\n",
    "\n",
    "The empty lists lighlight and highlight design will be appended with .append() later on.\n"
   ]
  },
  {
   "cell_type": "code",
   "execution_count": 0,
   "metadata": {},
   "outputs": [],
   "source": [
    "with open(file) as f: \n",
    "                                next(f)\n",
    "                                for line in f:\n",
    "                                        col = line.split(\"\\t\")\n",
    "                                        snp = col[0]\n",
    "                                        snpnum = col[0]\n",
    "                                        chr_snp = int(col[1])\n",
    "                                        bp_snp = int(col[2])\n",
    "                                        pval = float(col[3])\n",
    "                                        logP = float(col[4])\n",
    "                                        gene = findCloseGene(chr_snp, bp_snp)\n",
    "                                        design = findCloseGeneDesign(chr_snp, bp_snp)\n",
    "                                        blank = \"-\""
   ]
  },
  {
   "cell_type": "markdown",
   "metadata": {},
   "source": [
    "open f/thresholdDB file and use both the 'findCloseGene' and 'findCloseGendeDesign' to extract genes and maf score from the SNPs of interest."
   ]
  },
  {
   "cell_type": "code",
   "execution_count": 0,
   "metadata": {},
   "outputs": [],
   "source": [
    "                                        if gene == \"FooBar\":\n",
    "                                                print('{}\\t{}\\t{}\\t{}\\t{}\\t{}'.format(blank,blank,blank,blank,blank,blank), file=gwas_new_file)"
   ]
  },
  {
   "cell_type": "markdown",
   "metadata": {},
   "source": [
    "If the findclosegene function only returned foobar then put blank dictionaries in results. DOES THIS MAKE SENSE?"
   ]
  },
  {
   "cell_type": "code",
   "execution_count": 0,
   "metadata": {},
   "outputs": [],
   "source": [
    "              else:\n",
    "                                                print('{}\\t{}\\t{}\\t{}\\t{}\\t{}\\t{}'.format(gene,chr_snp,snpnum,bp_snp,pval,logP,design))"
   ]
  },
  {
   "cell_type": "markdown",
   "metadata": {},
   "source": [
    "If findclosegene function succeeded in recovering genes then assign the column labels to the empty dictionaries. DOES THIS MAKE SENSE?"
   ]
  },
  {
   "cell_type": "code",
   "execution_count": 0,
   "metadata": {},
   "outputs": [],
   "source": [
    "if logP > logP_threshold:\n",
    "    highlight.append(gene)\n",
    "    highlightdesign.append(design)\n",
    "    print('{}\\t{}\\t{}\\t{}\\t{}\\t{}\\t{}'.format(gene,chr_snp,snpnum,bp_snp,pval,logP,design), file=gwas_new_file)\n",
    "else:\n",
    "    print('{}\\t{}\\t{}\\t{}\\t{}\\t{}'.format(snp,chr_snp,snpnum,bp_snp,pval,logP), file=gwas_new_file)"
   ]
  },
  {
   "cell_type": "markdown",
   "metadata": {},
   "source": [
    "If the threshold is exceeded add gene and maf score to the empty lists. Add those column labels to gwas_new_File"
   ]
  },
  {
   "cell_type": "code",
   "execution_count": 0,
   "metadata": {},
   "outputs": [],
   "source": [
    "highlight_file = open(out_file_gene, 'w')\n",
    "\n",
    "\n",
    "                        for gene in set(highlight):\n",
    "                            print(gene, file=highlight_file)\n",
    "\n",
    "                        highlight_file.close()\n",
    "                        highlightdesign_file = open(out_file_genedesign, 'w')\n",
    "                        \n",
    "                        for design in set(highlightdesign):\n",
    "                            print(design, file=highlightdesign_file) \n",
    "                                \n",
    "                        highlightdesign_file.close()"
   ]
  },
  {
   "cell_type": "markdown",
   "metadata": {},
   "source": [
    "open the out gene_file in write mode and for set in hilight list print them into the highlight_file.\n",
    "open the out_file_genedesign and if the maf/design scores are in highlightdesig list, print them into highlight design file"
   ]
  }
 ],
 "metadata": {
  "kernelspec": {
   "display_name": "Python 3",
   "language": "python",
   "name": "python3"
  },
  "language_info": {
   "codemirror_mode": {
    "name": "ipython",
    "version": 3
   },
   "file_extension": ".py",
   "mimetype": "text/x-python",
   "name": "python",
   "nbconvert_exporter": "python",
   "pygments_lexer": "ipython3",
   "version": "3.7.1"
  }
 },
 "nbformat": 4,
 "nbformat_minor": 1
}
