{
 "cells": [
  {
   "cell_type": "code",
   "execution_count": 1,
   "metadata": {},
   "outputs": [],
   "source": [
    "args=\"T:\\colin\\BRice\\V2\\gwas-gene-discovery\\mock_keyword_list.txt\""
   ]
  },
  {
   "cell_type": "code",
   "execution_count": 9,
   "metadata": {},
   "outputs": [
    {
     "name": "stdout",
     "output_type": "stream",
     "text": [
      "['Mesocotyl length', 'Coleoptile length', 'Mesocotyl length', 'Coleoptile length']\n"
     ]
    }
   ],
   "source": [
    "def readlist(args):\n",
    "        with open(args, \"r\") as fl:\n",
    "            pheno = []\n",
    "            for line in fl:\n",
    "                pheno.append(line.rstrip())\n",
    "            return pheno\n",
    "        \n",
    "def twice():\n",
    "    print(readlist(args) * 2)\n",
    "\n",
    "twice()"
   ]
  },
  {
   "cell_type": "code",
   "execution_count": null,
   "metadata": {},
   "outputs": [],
   "source": []
  }
 ],
 "metadata": {
  "kernelspec": {
   "display_name": "Python 2",
   "language": "python",
   "name": "python2"
  },
  "language_info": {
   "codemirror_mode": {
    "name": "ipython",
    "version": 2
   },
   "file_extension": ".py",
   "mimetype": "text/x-python",
   "name": "python",
   "nbconvert_exporter": "python",
   "pygments_lexer": "ipython2",
   "version": "2.7.15"
  }
 },
 "nbformat": 4,
 "nbformat_minor": 2
}
