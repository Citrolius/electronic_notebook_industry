{
 "cells": [
  {
   "cell_type": "markdown",
   "metadata": {},
   "source": [
    "### Requirements of the script:\n",
    "\n",
    "1)\tChange the absolute path of script everytime the directory changes.\n",
    "2)\tSpecify the full name of the .csv gapit output and the .txt annotation file.\n",
    "\n",
    "You therefore need to:\n",
    "I)\tUse __file__ to make the pwd the relative path\n",
    "II)\tMake it so the script recognise any gapit output and annotation file by their suffix.\n"
   ]
  },
  {
   "cell_type": "code",
   "execution_count": null,
   "metadata": {},
   "outputs": [],
   "source": [
    "for file in os.listdir(\".\"):\n",
    "\tif file.endswith(\"Results.csv\"):\n",
    "\t\tfile = \"assigned variable for any gapit output\""
   ]
  },
  {
   "cell_type": "markdown",
   "metadata": {},
   "source": [
    "Or perhaps use glob module for regular expression on *.Results.csv?"
   ]
  },
  {
   "cell_type": "markdown",
   "metadata": {},
   "source": [
    "import glob\n",
    "\n",
    "glob.glob(\"*.results.csv\")"
   ]
  },
  {
   "cell_type": "markdown",
   "metadata": {},
   "source": [
    "### Knetminer search"
   ]
  },
  {
   "cell_type": "markdown",
   "metadata": {},
   "source": [
    "After that you would need to do some text analytics to use Knetminer API so that genes can be searched with keywords."
   ]
  }
 ],
 "metadata": {
  "kernelspec": {
   "display_name": "Python 2",
   "language": "python",
   "name": "python2"
  },
  "language_info": {
   "codemirror_mode": {
    "name": "ipython",
    "version": 2
   },
   "file_extension": ".py",
   "mimetype": "text/x-python",
   "name": "python",
   "nbconvert_exporter": "python",
   "pygments_lexer": "ipython2",
   "version": "2.7.15"
  }
 },
 "nbformat": 4,
 "nbformat_minor": 2
}
