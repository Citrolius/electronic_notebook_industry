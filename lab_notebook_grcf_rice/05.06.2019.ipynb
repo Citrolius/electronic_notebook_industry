{
 "cells": [
  {
   "cell_type": "code",
   "execution_count": 7,
   "metadata": {},
   "outputs": [
    {
     "name": "stdout",
     "output_type": "stream",
     "text": [
      "chinchilla_lanigera\n"
     ]
    }
   ],
   "source": [
    "import requests, sys\n",
    " \n",
    "server = \"https://rest.ensembl.org\"\n",
    "ext = \"/info/species?\"\n",
    " \n",
    "r = requests.get(server+ext, headers={ \"Content-Type\" : \"application/json\"})\n",
    " \n",
    "if not r.ok:\n",
    "  r.raise_for_status()\n",
    "  sys.exit()\n",
    " \n",
    "decoded = r.json()\n",
    "#print(repr(decoded))\n",
    "#print(type(r))\n",
    "#print(type(decoded))\n",
    "#print(type(decoded[u'species']))\n",
    "#print(decoded[u'species'])\n",
    "allsp = decoded[u'species']\n",
    "#print(allsp[0])\n",
    "subdict=allsp[2]\n",
    "print(subdict[u'name'])"
   ]
  },
  {
   "cell_type": "markdown",
   "metadata": {},
   "source": [
    "### list of res.tensembl.org species:\n",
    "https://rest.ensembl.org/documentation/info/species"
   ]
  },
  {
   "cell_type": "markdown",
   "metadata": {},
   "source": [
    "# To do\n",
    "\n",
    "- Write the Readme in step-by-step procedure on how to run script on Rothhpc4. From pull request to setting up virtual environment to options listed clearly. List the header of the GAPIT csv output so users can know how to prepare their gwas results. Mention all functions of the script and what it does.\n",
    "\n",
    "\n",
    "- Make sure you get a list of Ensembl species IDs.\n",
    "\n",
    "\n",
    " - Map the ensembl species ID to Knetminer ...Knet.\n",
    "\n",
    "\n",
    "- Make the keywords be inputs from a text file. i.e. only 2 inputs in future, a csv from gapit and an optional user defined text file.\n",
    "\n",
    "- Make -p parameter optional and add default of p = 6.\n",
    "\n",
    "\n",
    "- Avoid the need to create \"Formated_results.txt,\" read directly from csv to the next step.\n",
    "\n",
    "\n",
    "- Remove genetable.txt and genome.json outputs.\n",
    "\n",
    "\n",
    "- Merge the information in knet summary and summary_gene_discovereted together\n",
    "\n",
    "- Make distance a parameter for user\n",
    "\n",
    "- Make species a parameter for user. 3 for the momment being. "
   ]
  },
  {
   "cell_type": "code",
   "execution_count": null,
   "metadata": {},
   "outputs": [],
   "source": []
  }
 ],
 "metadata": {
  "kernelspec": {
   "display_name": "Python 2",
   "language": "python",
   "name": "python2"
  },
  "language_info": {
   "codemirror_mode": {
    "name": "ipython",
    "version": 2
   },
   "file_extension": ".py",
   "mimetype": "text/x-python",
   "name": "python",
   "nbconvert_exporter": "python",
   "pygments_lexer": "ipython2",
   "version": "2.7.15"
  }
 },
 "nbformat": 4,
 "nbformat_minor": 2
}
