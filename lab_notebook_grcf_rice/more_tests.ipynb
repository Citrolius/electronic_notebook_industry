{
 "cells": [
  {
   "cell_type": "code",
   "execution_count": 2,
   "metadata": {},
   "outputs": [],
   "source": [
    "from __future__ import print_function\n",
    "import requests"
   ]
  },
  {
   "cell_type": "code",
   "execution_count": 4,
   "metadata": {},
   "outputs": [
    {
     "name": "stdout",
     "output_type": "stream",
     "text": [
      "Os03g0122600,Os06g0164900\n",
      "http://knetminer.rothamsted.ac.uk/riceknet/genome?keyword=(coleoptile+AND+length)%20OR%20(mesocotyl+AND+length)%20OR%20(root+AND+length)%20OR%20(seminal+AND+root+AND+length)%20OR%20(Germination+AND+rate.+AND+Seedling+AND+growth.)&list=Os03g0122600,Os06g0164900\n",
      "Obtaining api from knetminer\n",
      "<Response [200]>\n",
      "<Response [200]>\n",
      "Extracting genes and score from Knetminer\n"
     ]
    }
   ],
   "source": [
    "def getgs(genedesign):\n",
    "    '''Open gene list and use them to search Knetminer along with keywords'''\n",
    "    with open(genedesign, 'r') as gk:\n",
    "        with open('genome.json', 'w') as af:\n",
    "            genes = []\n",
    "            for line in gk:\n",
    "                col = line.split(' :: ')\n",
    "                genes.append(col[0])\n",
    "            genelist = (',').join(genes) #join all iterative elements by ,\n",
    "            print(genelist)\n",
    "            pheno = ['coleoptile length', 'mesocotyl length', 'root length', 'seminal root length', 'Germination rate. Seedling growth.']\n",
    "            #use str.join() to convert multiple elments in a list into one string.\n",
    "            keyw = '%20OR%20'.join('({})'.format(i.replace(' ', '+AND+')) for i in pheno)\n",
    "            url = 'http://knetminer.rothamsted.ac.uk/riceknet/genome?keyword={}&list={}'.format(keyw, genelist)\n",
    "            print(url)\n",
    "            r = requests.get(url)\n",
    "            r.json()\n",
    "            r.status_code #check if request is successful.\n",
    "            print(r.text, file=af)\n",
    "        af.close()\n",
    "    gk.close()\n",
    "    return\n",
    "\n",
    "def gene_score(genetable, scores):\n",
    "    '''Extract the scores only.'''\n",
    "    with open(genetable, 'r') as f:\n",
    "        next(f)\n",
    "        with open(scores, 'w') as sf:\n",
    "            for line in f:\n",
    "                if line == '\\n':\n",
    "                    continue\n",
    "                col = line.split('\\t')\n",
    "                score=str(col[6]) \n",
    "                genes=col[1]\n",
    "                pheno = ['coleoptile length','mesocotyl length','root length','seminal root length','Germination rate. Seedling growth.']\n",
    "                keyw = '%20OR%20'.join('({})'.format(i.replace(' ', '+AND+')) for i in pheno)\n",
    "                parameters = {'keyword':keyw, 'list':genes}\n",
    "                link='http://knetminer.rothamsted.ac.uk/riceknet/genepage?'\n",
    "                r=requests.get(link, params=parameters)\n",
    "                print(r)\n",
    "                print('{}\\t{}\\t{}'.format(genes, score, r.url), file=sf)\n",
    "        sf.close()\n",
    "    f.close()\n",
    "#End of block 7 to print genes, scores and url into scores.txt\n",
    "\n",
    "def main():\n",
    "    genedesign = 'Results_filtered_gene_and_designation.txt'\n",
    "    try:\n",
    "        getgs(genedesign)\n",
    "        print('Obtaining api from knetminer')\n",
    "    except Exception:\n",
    "        traceback.print_exc()\n",
    "\n",
    "    genetable='genetable.txt'\n",
    "    scores='scores.txt'\n",
    "    try:\n",
    "        gene_score(genetable, scores)\n",
    "        print('Extracting genes and score from Knetminer')\n",
    "    except Exception:\n",
    "        traceback.print_exc() \n",
    "\n",
    "\n",
    "if __name__ == '__main__':\n",
    "    main()\n",
    "    "
   ]
  },
  {
   "cell_type": "code",
   "execution_count": null,
   "metadata": {},
   "outputs": [],
   "source": []
  }
 ],
 "metadata": {
  "kernelspec": {
   "display_name": "Python 2",
   "language": "python",
   "name": "python2"
  },
  "language_info": {
   "codemirror_mode": {
    "name": "ipython",
    "version": 2
   },
   "file_extension": ".py",
   "mimetype": "text/x-python",
   "name": "python",
   "nbconvert_exporter": "python",
   "pygments_lexer": "ipython2",
   "version": "2.7.15"
  }
 },
 "nbformat": 4,
 "nbformat_minor": 2
}
