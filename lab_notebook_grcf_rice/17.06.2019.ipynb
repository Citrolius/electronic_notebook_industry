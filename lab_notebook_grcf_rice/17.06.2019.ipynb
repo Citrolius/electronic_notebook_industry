{
 "cells": [
  {
   "cell_type": "markdown",
   "metadata": {},
   "source": [
    "# Attempt to tabulate genetable"
   ]
  },
  {
   "cell_type": "code",
   "execution_count": 55,
   "metadata": {},
   "outputs": [],
   "source": [
    "import requests\n",
    "import numpy as np\n",
    "import pandas as pd"
   ]
  },
  {
   "cell_type": "code",
   "execution_count": 56,
   "metadata": {},
   "outputs": [],
   "source": [
    "disc_genes=\"T:\\colin\\BRice\\V2\\gwas-gene-discovery\\MLM.DTF.GWAS.Results\\summary_genes_discovered.txt\"\n",
    "list=\"T:\\colin\\BRice\\V2\\gwas-gene-discovery\\mock_keyword_list.txt\""
   ]
  },
  {
   "cell_type": "code",
   "execution_count": 67,
   "metadata": {},
   "outputs": [],
   "source": [
    "def knetapi(disc_genes):\n",
    "    '''Use the genes from the summary file to search for Knetminer genome api.'''\n",
    "    with open(disc_genes, \"r\") as fs:\n",
    "        next(fs)\n",
    "        genes = []\n",
    "        with open(list, \"r\") as fl:\n",
    "            pheno = []\n",
    "            for line in fl:\n",
    "                pheno.append(line.rstrip())\n",
    "            #print(\"The phenotype of interests are {}\".format(pheno))\n",
    "            for line in fs:\n",
    "                col = line.split(\"\\t\")\n",
    "                genes.append(col[0])\n",
    "            genelist = (\",\").join(genes) #join all iterative elements by ,\n",
    "            #print(genelist)\n",
    "\n",
    "            #use str.join() to convert multiple elments in a list into one string.\n",
    "            keyw1 = \"%20OR%20\".join(\"({})\".format(i.replace(\" \", \"+AND+\")) for i in pheno)\n",
    "            link = \"http://knetminer.rothamsted.ac.uk/riceknet/genome?\"\n",
    "            parameters = {\"keyword\":keyw1, \"list\":genelist}\n",
    "            r = requests.get(link, params=parameters)\n",
    "\n",
    "            #check if request is succesfsul.\n",
    "            if not r.ok:\n",
    "                r.raise_for_status()\n",
    "                sys.exit()\n",
    "\n",
    "            #printing out genetable to a file.\n",
    "            decoded=r.json()[u'geneTable'].split(\"\\t\")\n",
    "            #remove space or newline at the end.\n",
    "            decoded=(decoded)[:-1]\n",
    "            \n",
    "            ncolumns=9\n",
    "            #tabulate the list to be any dimension as long as it's dividable by 9 columns.\n",
    "            genetable=np.array(decoded).reshape(len(decoded)/ncolumns, ncolumns)\n",
    "            genetable = pd.DataFrame(genetable[1:,:], columns=genetable[0,:])\n",
    "                \n",
    "            genes=genetable[u'ACCESSION']\n",
    "            knetscore=genetable[u'SCORE']\n",
    "            genechr=genetable[u'CHRO']\n",
    "            start=genetable[u'START']\n",
    "            \n",
    "            return genetable\n",
    "        \n",
    "            \n",
    "            #print(genes)\n",
    "            #print(knetscore)\n",
    "            #print(start)            "
   ]
  },
  {
   "cell_type": "code",
   "execution_count": 66,
   "metadata": {},
   "outputs": [
    {
     "data": {
      "text/html": [
       "<div>\n",
       "<style scoped>\n",
       "    .dataframe tbody tr th:only-of-type {\n",
       "        vertical-align: middle;\n",
       "    }\n",
       "\n",
       "    .dataframe tbody tr th {\n",
       "        vertical-align: top;\n",
       "    }\n",
       "\n",
       "    .dataframe thead th {\n",
       "        text-align: right;\n",
       "    }\n",
       "</style>\n",
       "<table border=\"1\" class=\"dataframe\">\n",
       "  <thead>\n",
       "    <tr style=\"text-align: right;\">\n",
       "      <th></th>\n",
       "      <th>ONDEX-ID</th>\n",
       "      <th>ACCESSION</th>\n",
       "      <th>GENE NAME</th>\n",
       "      <th>CHRO</th>\n",
       "      <th>START</th>\n",
       "      <th>TAXID</th>\n",
       "      <th>SCORE</th>\n",
       "      <th>USER</th>\n",
       "      <th>QTL</th>\n",
       "    </tr>\n",
       "  </thead>\n",
       "  <tbody>\n",
       "    <tr>\n",
       "      <th>0</th>\n",
       "      <td>EVIDENCE\\n47205</td>\n",
       "      <td>OS03G0122600</td>\n",
       "      <td>MADS50</td>\n",
       "      <td>3</td>\n",
       "      <td>1270320</td>\n",
       "      <td>39947</td>\n",
       "      <td>105.49</td>\n",
       "      <td>yes</td>\n",
       "      <td>qtaro_301//qtaro_301||qtaro_531//qtaro_531||qt...</td>\n",
       "    </tr>\n",
       "    <tr>\n",
       "      <th>1</th>\n",
       "      <td>Phenotype__1__Flowering time independent of......</td>\n",
       "      <td>OS06G0156700</td>\n",
       "      <td>OS06G0156700</td>\n",
       "      <td>6</td>\n",
       "      <td>2898787</td>\n",
       "      <td>39947</td>\n",
       "      <td>3.69</td>\n",
       "      <td>yes</td>\n",
       "      <td>qtaro_447//qtaro_447||qtaro_4//qtaro_4||qtaro_...</td>\n",
       "    </tr>\n",
       "    <tr>\n",
       "      <th>2</th>\n",
       "      <td>Publication__1__PMID:16133216\\n74416</td>\n",
       "      <td>OS06G0156600</td>\n",
       "      <td>OS06G0156600</td>\n",
       "      <td>6</td>\n",
       "      <td>2893694</td>\n",
       "      <td>39947</td>\n",
       "      <td>3.69</td>\n",
       "      <td>yes</td>\n",
       "      <td>qtaro_447//qtaro_447||qtaro_4//qtaro_4||qtaro_...</td>\n",
       "    </tr>\n",
       "    <tr>\n",
       "      <th>3</th>\n",
       "      <td>Publication__1__PMID:16133216\\n74605</td>\n",
       "      <td>OS06G0164900</td>\n",
       "      <td>OS06G0164900</td>\n",
       "      <td>6</td>\n",
       "      <td>3286611</td>\n",
       "      <td>39947</td>\n",
       "      <td>3.67</td>\n",
       "      <td>yes</td>\n",
       "      <td>qtaro_399//qtaro_399||qtaro_447//qtaro_447||qt...</td>\n",
       "    </tr>\n",
       "    <tr>\n",
       "      <th>4</th>\n",
       "      <td>Publication__1__PMID:1681543\\n74630</td>\n",
       "      <td>OS06G0166100</td>\n",
       "      <td>OS06G0166100</td>\n",
       "      <td>6</td>\n",
       "      <td>3322909</td>\n",
       "      <td>39947</td>\n",
       "      <td>0.00</td>\n",
       "      <td>yes</td>\n",
       "      <td>qtaro_399//qtaro_399||qtaro_447//qtaro_447||qt...</td>\n",
       "    </tr>\n",
       "  </tbody>\n",
       "</table>\n",
       "</div>"
      ],
      "text/plain": [
       "                                            ONDEX-ID     ACCESSION  \\\n",
       "0                                    EVIDENCE\\n47205  OS03G0122600   \n",
       "1  Phenotype__1__Flowering time independent of......  OS06G0156700   \n",
       "2               Publication__1__PMID:16133216\\n74416  OS06G0156600   \n",
       "3               Publication__1__PMID:16133216\\n74605  OS06G0164900   \n",
       "4                Publication__1__PMID:1681543\\n74630  OS06G0166100   \n",
       "\n",
       "      GENE NAME CHRO    START  TAXID   SCORE USER  \\\n",
       "0        MADS50    3  1270320  39947  105.49  yes   \n",
       "1  OS06G0156700    6  2898787  39947    3.69  yes   \n",
       "2  OS06G0156600    6  2893694  39947    3.69  yes   \n",
       "3  OS06G0164900    6  3286611  39947    3.67  yes   \n",
       "4  OS06G0166100    6  3322909  39947    0.00  yes   \n",
       "\n",
       "                                                 QTL  \n",
       "0  qtaro_301//qtaro_301||qtaro_531//qtaro_531||qt...  \n",
       "1  qtaro_447//qtaro_447||qtaro_4//qtaro_4||qtaro_...  \n",
       "2  qtaro_447//qtaro_447||qtaro_4//qtaro_4||qtaro_...  \n",
       "3  qtaro_399//qtaro_399||qtaro_447//qtaro_447||qt...  \n",
       "4  qtaro_399//qtaro_399||qtaro_447//qtaro_447||qt...  "
      ]
     },
     "execution_count": 66,
     "metadata": {},
     "output_type": "execute_result"
    }
   ],
   "source": [
    "knetapi(disc_genes)"
   ]
  },
  {
   "cell_type": "markdown",
   "metadata": {},
   "source": [
    "### block prototype"
   ]
  },
  {
   "cell_type": "code",
   "execution_count": 58,
   "metadata": {},
   "outputs": [],
   "source": [
    "import requests\n",
    "import numpy as np\n",
    "import pandas as pd"
   ]
  },
  {
   "cell_type": "code",
   "execution_count": 3,
   "metadata": {},
   "outputs": [],
   "source": [
    "disc_genes=\"T:\\colin\\BRice\\V2\\gwas-gene-discovery\\MLM.DTF.GWAS.Results\\summary_genes_discovered.txt\"\n",
    "lists=\"T:\\colin\\BRice\\V2\\gwas-gene-discovery\\mock_keyword_list.txt\"\n",
    "filtered_snps=\"T:\\colin\\BRice\\V2\\gwas-gene-discovery\\MLM.DTF.GWAS.Results\\filtered_snps.txt\""
   ]
  },
  {
   "cell_type": "code",
   "execution_count": 7,
   "metadata": {},
   "outputs": [],
   "source": [
    "def summary(filtered_snps, disc_genes):\n",
    "    '''Query on ensembl for genes ocurring within a specified distance in bp of each significant SNPs.\n",
    "    Produce a summary file of the genes as well as the phenotypes and functions linked to the genes provided by ensembl.'''\n",
    "    with open(filtered_snps, \"r\") as fr:\n",
    "        next(fr)\n",
    "        with open(args.list, \"r\") as fl:\n",
    "            pheno = []\n",
    "            for line in fl:\n",
    "                pheno.append(line.rstrip())\n",
    "        with open(disc_genes, \"w\") as fs:\n",
    "            print(\"GENE\\tCHR\\tSNPnum\\tsnpBP\\tP\\tlogP\\tSNPeff\\tallele\\tdesignation\\tstrand\")\n",
    "            for line in fr:\n",
    "                col = line.split(\"\\t\")\n",
    "                chrom = col[1]\n",
    "                position = int(col[2])\n",
    "                start = position - args.d\n",
    "                end = position + args.d\n",
    "                snpnum = col[0]\n",
    "                pval = col[3]\n",
    "                logP = col[4]\n",
    "                snpeffect = col[5]\n",
    "                alleleinfo = str(col[6]).replace(\"\\n\", \"\")\n",
    "                \n",
    "                #server = \"http://rest.ensemblgenomes.org\"\n",
    "                server = \"http://rest.ensembl.org\"\n",
    "                ext = \"/overlap/region/oryza_sativa/{}:{}-{}:1?feature=gene\".format(chrom, start, end)\n",
    "\n",
    "                r = requests.get(server+ext, headers={ \"Content-Type\" : \"application/json\"})\n",
    "                \n",
    "                \n",
    "                #print(r.json())\n",
    "                if len(r.json()) != 0:\n",
    "                    decoded=r.json()[0]\n",
    "                    genes = decoded[u'gene_id']\n",
    "                    description = decoded[u'description']\n",
    "                    sense = decoded[u'description']\n",
    "\n",
    "                genelist = (\",\").join(genes) #join all iterative elements by ,\n",
    "                \n",
    "                #use str.join() to convert multiple elments in a list into one string.\n",
    "                keyw1 = \"%20OR%20\".join(\"({})\".format(i.replace(\" \", \"+AND+\")) for i in pheno)\n",
    "                link = \"http://knetminer.rothamsted.ac.uk/riceknet/genome?\"\n",
    "                parameters = {\"keyword\":keyw1, \"list\":genelist}\n",
    "                r = requests.get(link, params=parameters)\n",
    "                \n",
    "                #check if request is succesfsul.\n",
    "                if not r.ok:\n",
    "                    r.raise_for_status()\n",
    "                    sys.exit()\n",
    "                \n",
    "                #printing out genetable to a file.\n",
    "                decoded=r.json()[u'geneTable'].split(\"\\t\")\n",
    "                #remove space or newline at the end.\n",
    "                decoded=(decoded)[:-1]\n",
    "\n",
    "                ncolumns=9\n",
    "                #tabulate the list to be any dimension as long as it's dividable by 9 columns.\n",
    "                genetable=np.array(decoded).reshape(len(decoded)//ncolumns, ncolumns)\n",
    "                genetable = pd.DataFrame(genetable[1:,:], columns=genetable[0,:])\n",
    "\n",
    "                genes=genetable[u'ACCESSION']\n",
    "                knetscore=genetable[u'SCORE']\n",
    "                genechr=genetable[u'CHRO']\n",
    "                start=genetable[u'START']\n",
    "                \n",
    "                for i in genelist:\n",
    "                    keyw2 = \"+OR+\".join(\"({})\".format(i.replace(\" \", \"+AND+\")) for i in pheno)\n",
    "                    link=\"http://knetminer.rothamsted.ac.uk/riceknet/genepage?list={}&keyword={}\".format(genes, keyw2)\n",
    "                    r=requests.get(link)\n",
    "                    print(r.url)\n",
    "                    print(\"{}\\t{}\\t{}\".format(genes, score, r.url))\n",
    "                    \n",
    "                print(\"{}\\t{}\\t{}\\t{}\\t{}\\t{}\\t{}\\t{}\\t{}\\t{}\".format(gene, chrom, snpnum, position, pval, logP, snpeffect, alleleinfo, description, score, url))\n",
    "                                   \n",
    "    #end of get genes"
   ]
  },
  {
   "cell_type": "markdown",
   "metadata": {},
   "source": [
    "# Learning decorators"
   ]
  },
  {
   "cell_type": "code",
   "execution_count": 1,
   "metadata": {},
   "outputs": [
    {
     "data": {
      "text/plain": [
       "2"
      ]
     },
     "execution_count": 1,
     "metadata": {},
     "output_type": "execute_result"
    }
   ],
   "source": [
    "def plus_one(number):\n",
    "    return number + 1\n",
    "\n",
    "add_one = plus_one\n",
    "add_one(1)"
   ]
  },
  {
   "cell_type": "markdown",
   "metadata": {},
   "source": [
    "#### creating a function inside a function"
   ]
  },
  {
   "cell_type": "code",
   "execution_count": 7,
   "metadata": {},
   "outputs": [
    {
     "data": {
      "text/plain": [
       "13"
      ]
     },
     "execution_count": 7,
     "metadata": {},
     "output_type": "execute_result"
    }
   ],
   "source": [
    "def addafterdouble(number):\n",
    "    def double(number):\n",
    "        return number * 2\n",
    "    final= double(number) + 3\n",
    "    return final\n",
    "\n",
    "addafterdouble(5)"
   ]
  },
  {
   "cell_type": "markdown",
   "metadata": {},
   "source": [
    "##### function as parameter to another function"
   ]
  },
  {
   "cell_type": "code",
   "execution_count": null,
   "metadata": {},
   "outputs": [],
   "source": []
  }
 ],
 "metadata": {
  "kernelspec": {
   "display_name": "Python 2",
   "language": "python",
   "name": "python2"
  },
  "language_info": {
   "codemirror_mode": {
    "name": "ipython",
    "version": 2
   },
   "file_extension": ".py",
   "mimetype": "text/x-python",
   "name": "python",
   "nbconvert_exporter": "python",
   "pygments_lexer": "ipython2",
   "version": "2.7.15"
  }
 },
 "nbformat": 4,
 "nbformat_minor": 2
}
