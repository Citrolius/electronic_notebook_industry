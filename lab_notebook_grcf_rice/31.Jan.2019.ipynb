{
 "cells": [
  {
   "cell_type": "markdown",
   "metadata": {},
   "source": [
    "You have added print date to the discovery script on github."
   ]
  },
  {
   "cell_type": "code",
   "execution_count": null,
   "metadata": {},
   "outputs": [],
   "source": [
    "import datetime\n",
    "\n",
    "print(datetime.datetime.now())"
   ]
  },
  {
   "cell_type": "markdown",
   "metadata": {},
   "source": [
    "Next you plan to use __file__ to specify the current directory where python script is run from as the relative path."
   ]
  },
  {
   "cell_type": "code",
   "execution_count": null,
   "metadata": {},
   "outputs": [],
   "source": [
    "from os import path\n",
    "\n",
    "pwdpath = path.dirname(__file__)\n",
    "filepath = path.abspath(path.join(pwdpath, \"..\", \"..\", \"<file name>\"))\n",
    "\n",
    "#return the directory name from which file class is contained.\n",
    "#return the absolute path of the pwd joined to the file."
   ]
  },
  {
   "cell_type": "markdown",
   "metadata": {},
   "source": [
    "The big problem is that you would need to alter the script to take the ending filenames instead of changing the gwas output file's name everytime.\n",
    "\n",
    "Even if you specify with relative paths, the file names still need to be changed. Could either revert back to if statements as seen in original format.py or could use regular expressions."
   ]
  }
 ],
 "metadata": {
  "kernelspec": {
   "display_name": "Python 3",
   "language": "python",
   "name": "python3"
  },
  "language_info": {
   "codemirror_mode": {
    "name": "ipython",
    "version": 3
   },
   "file_extension": ".py",
   "mimetype": "text/x-python",
   "name": "python",
   "nbconvert_exporter": "python",
   "pygments_lexer": "ipython3",
   "version": "3.7.1"
  }
 },
 "nbformat": 4,
 "nbformat_minor": 2
}
