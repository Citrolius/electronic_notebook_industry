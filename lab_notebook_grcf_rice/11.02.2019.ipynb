{
 "cells": [
  {
   "cell_type": "markdown",
   "metadata": {},
   "source": [
    "# Technical problems"
   ]
  },
  {
   "cell_type": "markdown",
   "metadata": {},
   "source": [
    "### 1) Cannot download jupyter officially using pip. permission on pear, broken pip in lily."
   ]
  },
  {
   "cell_type": "code",
   "execution_count": null,
   "metadata": {},
   "outputs": [],
   "source": [
    "#pear\n",
    "python -m pip install jupyter\n",
    "\n",
    "Command \"python setup.py egg_info\" failed with error code 1 in /tmp/pip-install-ZriHXe/Send2Trash/"
   ]
  },
  {
   "cell_type": "code",
   "execution_count": null,
   "metadata": {},
   "outputs": [],
   "source": [
    "#lily\n",
    " File \"/home/data/bioinf_training/colin/comparative_genomics/27pyject/bin/pip\", line 7, in <module>\n",
    "    from pip._internal import main\n",
    "ImportError: No module named _internal"
   ]
  },
  {
   "cell_type": "markdown",
   "metadata": {},
   "source": [
    "### 2) Rothhpc2 has python 2.7.5 in login node. The path is not recoverable in alchemy or blaze for bionano4. Otherwise may have to hack script for virtual env usage."
   ]
  },
  {
   "cell_type": "markdown",
   "metadata": {},
   "source": [
    "### 3) Can text mining be utilised on a responsive database? Is there any other alternative for python to search keywords in knetminer on its own?"
   ]
  }
 ],
 "metadata": {
  "kernelspec": {
   "display_name": "Python 3",
   "language": "python",
   "name": "python3"
  },
  "language_info": {
   "codemirror_mode": {
    "name": "ipython",
    "version": 3
   },
   "file_extension": ".py",
   "mimetype": "text/x-python",
   "name": "python",
   "nbconvert_exporter": "python",
   "pygments_lexer": "ipython3",
   "version": "3.7.1"
  }
 },
 "nbformat": 4,
 "nbformat_minor": 2
}
