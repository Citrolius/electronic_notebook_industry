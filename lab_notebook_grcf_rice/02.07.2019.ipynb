{
 "cells": [
  {
   "cell_type": "code",
   "execution_count": 5,
   "metadata": {},
   "outputs": [],
   "source": [
    "import requests, sys"
   ]
  },
  {
   "cell_type": "code",
   "execution_count": 18,
   "metadata": {},
   "outputs": [
    {
     "data": {
      "text/plain": [
       "u'[{\"gene_id\":\"Os03g0122600\",\"logic_name\":\"gff3_genes\",\"strand\":-1,\"id\":\"Os03g0122600\",\"description\":null,\"start\":1270320,\"source\":\"RAP2018-11-26\",\"seq_region_name\":\"3\",\"end\":1300273,\"feature_type\":\"gene\",\"assembly_name\":\"IRGSP-1.0\",\"biotype\":\"protein_coding\"}]'"
      ]
     },
     "execution_count": 18,
     "metadata": {},
     "output_type": "execute_result"
    }
   ],
   "source": [
    "server = \"https://rest.ensembl.org\"\n",
    "ext = \"/overlap/region/oryza_sativa/3:1277045-1279045:1?feature=gene\"\n",
    " \n",
    "r = requests.get(server+ext, headers={ \"Content-Type\" : \"application/json\"})\n",
    " \n",
    "if not r.ok:\n",
    "  r.raise_for_status()\n",
    "  sys.exit()\n",
    " \n",
    "r.text"
   ]
  },
  {
   "cell_type": "code",
   "execution_count": 21,
   "metadata": {},
   "outputs": [
    {
     "data": {
      "text/plain": [
       "[{u'assembly_name': u'IRGSP-1.0',\n",
       "  u'biotype': u'protein_coding',\n",
       "  u'description': None,\n",
       "  u'end': 1300273,\n",
       "  u'feature_type': u'gene',\n",
       "  u'gene_id': u'Os03g0122600',\n",
       "  u'id': u'Os03g0122600',\n",
       "  u'logic_name': u'gff3_genes',\n",
       "  u'seq_region_name': u'3',\n",
       "  u'source': u'RAP2018-11-26',\n",
       "  u'start': 1270320,\n",
       "  u'strand': -1}]"
      ]
     },
     "execution_count": 21,
     "metadata": {},
     "output_type": "execute_result"
    }
   ],
   "source": [
    "link=\"http://rest.ensembl.org/overlap/region/oryza_sativa/6:2897059-2899059:1?feature=gene\"\n",
    "\n",
    "r = requests.get(server+ext, headers={ \"Content-Type\" : \"application/json\"})\n",
    "\n",
    "decoded=r.json()\n",
    "decoded"
   ]
  },
  {
   "cell_type": "code",
   "execution_count": null,
   "metadata": {},
   "outputs": [],
   "source": []
  }
 ],
 "metadata": {
  "kernelspec": {
   "display_name": "Python 2",
   "language": "python",
   "name": "python2"
  },
  "language_info": {
   "codemirror_mode": {
    "name": "ipython",
    "version": 2
   },
   "file_extension": ".py",
   "mimetype": "text/x-python",
   "name": "python",
   "nbconvert_exporter": "python",
   "pygments_lexer": "ipython2",
   "version": "2.7.15"
  }
 },
 "nbformat": 4,
 "nbformat_minor": 2
}
