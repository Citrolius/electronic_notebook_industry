{
 "cells": [
  {
   "cell_type": "code",
   "execution_count": 2,
   "metadata": {},
   "outputs": [],
   "source": [
    "import requests, sys"
   ]
  },
  {
   "cell_type": "code",
   "execution_count": 42,
   "metadata": {},
   "outputs": [
    {
     "data": {
      "text/plain": [
       "u'[{\"end\":1300273,\"gene_id\":\"Os03g0122600\",\"strand\":-1,\"start\":1270320,\"source\":\"RAP2018-11-26\",\"description\":\"MIKC-type MADS-box protein, Flowering activator, Short-day/long-day promotion of flowerin\",\"id\":\"Os03g0122600\",\"biotype\":\"protein_coding\",\"assembly_name\":\"IRGSP-1.0\",\"feature_type\":\"gene\",\"external_name\":\"OsMADS50\",\"seq_region_name\":\"3\",\"logic_name\":\"rapdb_genes\"}]'"
      ]
     },
     "execution_count": 42,
     "metadata": {},
     "output_type": "execute_result"
    }
   ],
   "source": [
    "server = \"https://rest.ensembl.org\"\n",
    "ext = \"/overlap/region/oryza_sativa/3:1277045-1279045:1?feature=gene\"\n",
    " \n",
    "r = requests.get(server+ext, headers={ \"Content-Type\" : \"application/json\"})\n",
    " \n",
    "if not r.ok:\n",
    "  r.raise_for_status()\n",
    "  sys.exit()\n",
    " \n",
    "r.text"
   ]
  },
  {
   "cell_type": "code",
   "execution_count": 45,
   "metadata": {},
   "outputs": [
    {
     "data": {
      "text/plain": [
       "u'MIKC-type MADS-box protein, Flowering activator, Short-day/long-day promotion of flowerin'"
      ]
     },
     "execution_count": 45,
     "metadata": {},
     "output_type": "execute_result"
    }
   ],
   "source": [
    "server = \"https://rest.ensembl.org\"\n",
    "ext = \"/overlap/region/oryza_sativa/3:1277045-1279045:1?feature=gene\"\n",
    "\n",
    "r = requests.get(server+ext, headers={ \"Content-Type\" : \"application/json\"})\n",
    "\n",
    "decoded=r.json()\n",
    "decoded[0][u'description']"
   ]
  },
  {
   "cell_type": "markdown",
   "metadata": {},
   "source": [
    "### Empty API bug"
   ]
  },
  {
   "cell_type": "code",
   "execution_count": 14,
   "metadata": {},
   "outputs": [
    {
     "name": "stdout",
     "output_type": "stream",
     "text": [
      "true\n",
      "[]\n"
     ]
    }
   ],
   "source": [
    "server=\"http://rest.ensembl.org\"\n",
    "ext=\"/overlap/region/oryza_sativa/12:22038458-22038458:1?feature=variation\"\n",
    "r = requests.get(server+ext, headers={ \"Content-Type\" : \"application/json\"})\n",
    "#print(r.url)\n",
    "decoded = r.json()\n",
    "if decoded == []:\n",
    "    print(\"true\")\n",
    "else:\n",
    "    print(\"False\")\n",
    "print(decoded)\n",
    "\n",
    "#check if requests is successful\n",
    "if not r.ok:\n",
    "    r.raise_for_status()\n",
    "    sys.exit()\n",
    "\n",
    "    \n",
    "\n"
   ]
  },
  {
   "cell_type": "code",
   "execution_count": 37,
   "metadata": {},
   "outputs": [
    {
     "name": "stdout",
     "output_type": "stream",
     "text": [
      "NA from ensembl\n"
     ]
    }
   ],
   "source": [
    "server = \"http://rest.ensembl.org\"\n",
    "ext = \"/overlap/region/oryza_sativa/12:22038458-22038458:1?feature=variation\"\n",
    "r = requests.get(server+ext, headers={ \"Content-Type\" : \"application/json\"})\n",
    "\n",
    "#check if requests is successful\n",
    "if not r.ok:\n",
    "    r.raise_for_status()\n",
    "    sys.exit()\n",
    "#print(r.url)\n",
    "\n",
    "#processing data\n",
    "decoded = r.json()\n",
    "if decoded != []:\n",
    "    for i in decoded:\n",
    "        if i == \"\\n\":\n",
    "            continue\n",
    "        data=decoded[0]\n",
    "        snpeffect = str(data[u'consequence_type'])\n",
    "        alleleinfo = str(data[u'alleles'])\n",
    "elif decoded == []:\n",
    "        snpeffect = \"NA from ensembl\"\n",
    "        alleleinfo = \"NA from ensembl\"\n",
    "        print(snpeffect)\n",
    "        "
   ]
  },
  {
   "cell_type": "code",
   "execution_count": null,
   "metadata": {},
   "outputs": [],
   "source": []
  },
  {
   "cell_type": "markdown",
   "metadata": {},
   "source": [
    "## Functional"
   ]
  },
  {
   "cell_type": "code",
   "execution_count": 39,
   "metadata": {},
   "outputs": [
    {
     "name": "stdout",
     "output_type": "stream",
     "text": [
      "http://rest.ensembl.org/overlap/region/oryza_sativa/12:22038458-22038458:1?feature=variation\n",
      "NA from ensembl\n"
     ]
    }
   ],
   "source": [
    "server = \"http://rest.ensembl.org\"\n",
    "#ext = \"/overlap/region/oryza_sativa/3:1278045-1278045:1?feature=variation\" #working\n",
    "ext = \"/overlap/region/oryza_sativa/12:22038458-22038458:1?feature=variation\" #bad one\n",
    "r = requests.get(server+ext, headers={ \"Content-Type\" : \"application/json\"})\n",
    "print(r.url)\n",
    "\n",
    "#check if requests is successful\n",
    "if not r.ok:\n",
    "    r.raise_for_status()\n",
    "    sys.exit()\n",
    "#print(r.url)\n",
    "\n",
    "#processing data\n",
    "decoded = r.json()\n",
    "if decoded != []:\n",
    "    for i in decoded:\n",
    "        if i == \"\\n\":\n",
    "            continue\n",
    "        data=decoded[0]\n",
    "        snpeffect= str(data[u'consequence_type'])\n",
    "        alleleinfo=str(data[u'alleles'])\n",
    "        print(snpeffect)\n",
    "\n",
    "elif decoded == []:\n",
    "    snpeffect=\"NA from ensembl\"\n",
    "    alleleinfo=\"NA from ensembl\"\n",
    "    print(snpeffect)"
   ]
  },
  {
   "cell_type": "code",
   "execution_count": null,
   "metadata": {},
   "outputs": [],
   "source": [
    "https://knetminer.rothamsted.ac.uk/riceknet/genepage?list=TPP7&keywords=%22anaerobic%20germination%22%20OR%20trehalose-phosphatase%20OR%20submergence%20OR%20%22stem%20elongation%22"
   ]
  }
 ],
 "metadata": {
  "kernelspec": {
   "display_name": "Python 2",
   "language": "python",
   "name": "python2"
  },
  "language_info": {
   "codemirror_mode": {
    "name": "ipython",
    "version": 2
   },
   "file_extension": ".py",
   "mimetype": "text/x-python",
   "name": "python",
   "nbconvert_exporter": "python",
   "pygments_lexer": "ipython2",
   "version": "2.7.15"
  }
 },
 "nbformat": 4,
 "nbformat_minor": 2
}
