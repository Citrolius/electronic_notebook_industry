{
 "cells": [
  {
   "cell_type": "markdown",
   "metadata": {},
   "source": [
    "1) first define the path to the file. The file of interest is the DTF csv file NOT THE ML csv"
   ]
  },
  {
   "cell_type": "code",
   "execution_count": 14,
   "metadata": {},
   "outputs": [],
   "source": [
    "import os, math\n",
    "file=\"T:\\colin\\BRice\\GAPIT_output\\GAPIT.MLM.DTF.GWAS.Results.csv\""
   ]
  },
  {
   "cell_type": "code",
   "execution_count": 15,
   "metadata": {},
   "outputs": [],
   "source": [
    "for file in os.listdir(\".\"):\n",
    "    if file.endswith(\".Results.txt\"):\n",
    "        print(file)\n",
    "        out_file = file.replace(\"Results\",\"Results_formated\")\n",
    "        gwas_new_file=open(out_file, 'w')\n",
    "        snp = 0\n",
    "        with open(file) as f:\n",
    "            next(f)\n",
    "            pdb.set_trace()\n",
    "            print('{}\\t{}\\t{}\\t{}\\t{}'.format(\"SNPnum\",\"CHR\",\"snpBP\",\"P\",\"logP\"), file=gwas_new_file)\n",
    "            pdb.set_trace()\n",
    "            for line in f:\n",
    "                snp += 1\n",
    "                col = line.split(\"\\t\")\n",
    "                chro = col[1]\n",
    "                bp = col[2]\n",
    "                pval = float(col[3])\n",
    "                logP = -math.log10(pval)\n",
    "                #print('{}\\t{}\\t{}\\t{}\\t{}'.format(snp,chro,bp,pval,logP))\n",
    "                print('{}\\t{}\\t{}\\t{}\\t{}'.format(snp,chro,bp,pval,logP), file=gwas_new_file)\n",
    "        \n",
    "        gwas_new_file.close()\n",
    "\n",
    "logP_threshold= 6"
   ]
  },
  {
   "cell_type": "markdown",
   "metadata": {},
   "source": [
    "2) now open or rather create a .results_formated and assign it as out_file. Although this out_file/gwas_newfile is in write mode, IT IS BLANK AND CONTAINS NOTHING."
   ]
  },
  {
   "cell_type": "markdown",
   "metadata": {},
   "source": [
    "2) create a variable snp and assign 0. This is to enable python to count from 1 when reading file?????"
   ]
  },
  {
   "cell_type": "markdown",
   "metadata": {},
   "source": [
    "2) you have to assign open(file) to a file object before opening.\n",
    ".endwith() returns true if a string ends with specified suffix.\n",
    "in checks if something has something."
   ]
  },
  {
   "cell_type": "code",
   "execution_count": 8,
   "metadata": {},
   "outputs": [],
   "source": [
    "for file in os.listdir(\".\"):\n",
    "    if file.endswith(\".Results.txt\"):\n",
    "        print(file)\n",
    "        out_file = file.replace(\"Results\",\"Results_formated\") \n",
    "        gwas_new_file = open(out_file, 'w')\n",
    "        snp = 0"
   ]
  },
  {
   "cell_type": "markdown",
   "metadata": {},
   "source": [
    "It is good practice to use with for handling file objects\n",
    "It is shorter than try finally statements.\n",
    "It also always closes a file properly, even if there are exceptions.\n"
   ]
  },
  {
   "cell_type": "code",
   "execution_count": 10,
   "metadata": {},
   "outputs": [
    {
     "name": "stdout",
     "output_type": "stream",
     "text": [
      "SNPnum\tCHR\tsnpBP\tP\tlogP\n"
     ]
    }
   ],
   "source": [
    "with open(file) as f:\n",
    "            next(f)\n",
    "            print('{}\\t{}\\t{}\\t{}\\t{}'.format(\"SNPnum\",\"CHR\",\"snpBP\",\"P\",\"logP\"), file=gwas_new_file)"
   ]
  },
  {
   "cell_type": "markdown",
   "metadata": {},
   "source": [
    "3) open the file as f alias\n",
    "4) then use the next() function which converts files into iterators compatible in loops.\n",
    "5) create format 5 strings delimited  by tabs in f aka results_formatted and assign column labels from f /DTF csv to out_file / gwas_new_file."
   ]
  },
  {
   "cell_type": "markdown",
   "metadata": {},
   "source": [
    "str.format()\n",
    "think of f-strings.\n",
    "takes the arguments given to the method and manipulate strings accordingly.\n",
    "template.format(<p positional arguments>, <k keywords arguments>)\n"
   ]
  },
  {
   "cell_type": "code",
   "execution_count": 11,
   "metadata": {},
   "outputs": [
    {
     "ename": "ValueError",
     "evalue": "I/O operation on closed file.",
     "output_type": "error",
     "traceback": [
      "\u001b[1;31m---------------------------------------------------------------------------\u001b[0m",
      "\u001b[1;31mValueError\u001b[0m                                Traceback (most recent call last)",
      "\u001b[1;32m<ipython-input-11-c8b985f763cf>\u001b[0m in \u001b[0;36m<module>\u001b[1;34m\u001b[0m\n\u001b[1;32m----> 1\u001b[1;33m \u001b[1;32mfor\u001b[0m \u001b[0mline\u001b[0m \u001b[1;32min\u001b[0m \u001b[0mf\u001b[0m\u001b[1;33m:\u001b[0m\u001b[1;33m\u001b[0m\u001b[1;33m\u001b[0m\u001b[0m\n\u001b[0m\u001b[0;32m      2\u001b[0m                 \u001b[0msnp\u001b[0m \u001b[1;33m+=\u001b[0m \u001b[1;36m1\u001b[0m\u001b[1;33m\u001b[0m\u001b[1;33m\u001b[0m\u001b[0m\n\u001b[0;32m      3\u001b[0m                 \u001b[0mcol\u001b[0m \u001b[1;33m=\u001b[0m \u001b[0mline\u001b[0m\u001b[1;33m.\u001b[0m\u001b[0msplit\u001b[0m\u001b[1;33m(\u001b[0m\u001b[1;34m\"\\t\"\u001b[0m\u001b[1;33m)\u001b[0m\u001b[1;33m\u001b[0m\u001b[1;33m\u001b[0m\u001b[0m\n\u001b[0;32m      4\u001b[0m                 \u001b[0mchro\u001b[0m \u001b[1;33m=\u001b[0m \u001b[0mcol\u001b[0m\u001b[1;33m[\u001b[0m\u001b[1;36m1\u001b[0m\u001b[1;33m]\u001b[0m\u001b[1;33m\u001b[0m\u001b[1;33m\u001b[0m\u001b[0m\n\u001b[0;32m      5\u001b[0m                 \u001b[0mbp\u001b[0m \u001b[1;33m=\u001b[0m \u001b[0mcol\u001b[0m\u001b[1;33m[\u001b[0m\u001b[1;36m2\u001b[0m\u001b[1;33m]\u001b[0m\u001b[1;33m\u001b[0m\u001b[1;33m\u001b[0m\u001b[0m\n",
      "\u001b[1;31mValueError\u001b[0m: I/O operation on closed file."
     ]
    }
   ],
   "source": [
    "for line in f:\n",
    "                snp += 1\n",
    "                col = line.split(\"\\t\")\n",
    "                chro = col[1]\n",
    "                bp = col[2]\n",
    "                pval = float(col[3])\n",
    "                logP = -math.log10(pval)\n",
    "                #print('{}\\t{}\\t{}\\t{}\\t{}'.format(snp,chro,bp,pval,logP))\n",
    "                print('{}\\t{}\\t{}\\t{}\\t{}'.format(snp,chro,bp,pval,logP), file=gwas_new_file)\n"
   ]
  },
  {
   "cell_type": "markdown",
   "metadata": {},
   "source": [
    "6) WHY DID WE ASSIGN SNP AS 0 AND NOW 1? Why not just snp=0 and assign it to 0th column in gwas_new_file?"
   ]
  },
  {
   "cell_type": "markdown",
   "metadata": {},
   "source": [
    "6) Then specify that the columns are delimited by tab. If we count from 0 like python, transport chromosome from column 1 in file to gwas_new_file's column1, position from column 2 to column 2 and rename it as bp etc.."
   ]
  },
  {
   "cell_type": "markdown",
   "metadata": {},
   "source": [
    "6.for the logP column inverse the log of pval"
   ]
  },
  {
   "cell_type": "code",
   "execution_count": 13,
   "metadata": {},
   "outputs": [],
   "source": [
    "gwas_new_file.close()\n",
    "\n",
    "#assign the LogP threshold.\n",
    "logP_threshold = 6"
   ]
  },
  {
   "cell_type": "markdown",
   "metadata": {},
   "source": [
    "Second block"
   ]
  },
  {
   "cell_type": "code",
   "execution_count": null,
   "metadata": {},
   "outputs": [],
   "source": [
    "for file in os.listdir(\".\"):\n",
    "                if file.endswith(\".Results_formated.txt\"):\n",
    "                        print(file)\n",
    "                        out_file_gene_threshold = file.replace(\"Results_formated\",\"Results_formated_threshold\")\n",
    "\n",
    "                        thresholdDB_file = open(out_file_gene_threshold, 'w+')\n",
    "                        print(\"SNPnum\\tCHR\\tsnpBP\\tP\\tlogP\", file==thresholdDB_file)\n",
    "                        thresholdDB = []\n",
    "                        with open(file) as f: #was gwas_file\n",
    "                                next(f)\n",
    "                                for line in f:\n",
    "                                        col = line.split(\"\\t\")\n",
    "                                        snp = col[0]\n",
    "                                        chr_snp = int(col[1])\n",
    "                                        bp_snp = int(col[2])\n",
    "                                        pval = float(col[3])\n",
    "                                        logP = float(col[4])\n",
    "                                        if logP > logP_threshold:\n",
    "                                            print('{}\\t{}\\t{}\\t{}\\t{}'.format(snp,chr_snp,bp_snp,pval,logP), file==thresholdDB_file)\n",
    "                        thresholdDB_file.close()\n",
    "                                            "
   ]
  },
  {
   "cell_type": "code",
   "execution_count": 0,
   "metadata": {},
   "outputs": [],
   "source": [
    "for file in os.listdir(\".\"):\n",
    "                if file.endswith(\".Results_formated.txt\"):\n",
    "                        print(file)\n",
    "                        out_file_gene_threshold = file.replace(\"Results_formated\",\"Results_formated_threshold\")\n",
    "                        thresholdDB_file = open(out_file_gene_threshold, 'w')"
   ]
  },
  {
   "cell_type": "markdown",
   "metadata": {},
   "source": [
    "7. same as before except this time, you create results_formated_threshold"
   ]
  },
  {
   "cell_type": "code",
   "execution_count": 0,
   "metadata": {},
   "outputs": [],
   "source": [
    " print(\"SNPnum\\tCHR\\tsnpBP\\tP\\tlogP\", file=thresholdDB_file)\n",
    "                        thresholdDB = []"
   ]
  },
  {
   "cell_type": "markdown",
   "metadata": {},
   "source": [
    "8. This time insert the column labels separated by tab into the thresholdDB_file/results_formated_threshold file/out_file_gene_threshold\n",
    "\n",
    "8. create the empty list thresholdDB. WHEN WAS THIS USED AGAIN?"
   ]
  },
  {
   "cell_type": "code",
   "execution_count": 0,
   "metadata": {},
   "outputs": [],
   "source": [
    "with open(file) as f: #was gwas_file\n",
    "                                next(f)\n",
    "                                for line in f:\n",
    "                                        col = line.split(\"\\t\")\n",
    "                                        snp = col[0]\n",
    "                                        chr_snp = int(col[1])\n",
    "                                        bp_snp = int(col[2])\n",
    "                                        pval = float(col[3])\n",
    "                                        logP = float(col[4])\n",
    "                                        if logP > logP_threshold:\n",
    "                                            print('{}\\t{}\\t{}\\t{}\\t{}'.format(snp,chr_snp,bp_snp,pval,logP), file=thresholdDB_file)\n",
    "                        thresholdDB_file.close()"
   ]
  },
  {
   "cell_type": "markdown",
   "metadata": {},
   "source": [
    "9. Same as before assign f alias now to the results_formated.txt which is file now.\n",
    "9. As before define columns as separated by tabs then do some conversions on their values. i.e for every line in f if it's in column 2 convert it to interger and assign int nto thevariable bp_snp.\n"
   ]
  },
  {
   "cell_type": "markdown",
   "metadata": {},
   "source": [
    "9. THE DIFFERENCE!!! The columns have been assigned variables. If only for every line their logP is larger than logP_threshold of 6  (so only if p-value is smaller than 1x10-6)  do we actually put the values of a line into the empty tuples.\n",
    " "
   ]
  }
 ],
 "metadata": {
  "kernelspec": {
   "display_name": "Python 3",
   "language": "python",
   "name": "python3"
  },
  "language_info": {
   "codemirror_mode": {
    "name": "ipython",
    "version": 3
   },
   "file_extension": ".py",
   "mimetype": "text/x-python",
   "name": "python",
   "nbconvert_exporter": "python",
   "pygments_lexer": "ipython3",
   "version": "3.7.1"
  }
 },
 "nbformat": 4,
 "nbformat_minor": 1
}
