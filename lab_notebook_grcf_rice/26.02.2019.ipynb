{
 "cells": [
  {
   "cell_type": "markdown",
   "metadata": {},
   "source": [
    "There appears to be no problem with the script when an error on json download was given"
   ]
  },
  {
   "cell_type": "code",
   "execution_count": null,
   "metadata": {},
   "outputs": [],
   "source": [
    "\n",
    "  File \"/home/apps/python/lib64/python2.7/json/decoder.py\", line 382, in raw_decode\n",
    "    raise ValueError(\"No JSON object could be decoded\")\n",
    "ValueError: No JSON object could be decoded\n"
   ]
  },
  {
   "cell_type": "code",
   "execution_count": null,
   "metadata": {},
   "outputs": [],
   "source": [
    " requests.get(\"http://babvs67.rothamsted.ac.uk:8081/ws/rice/genome?keyword=coleoptile length+OR+mesocotyl length+OR+root length+OR+seminal root length+OR+Germination rate. Seedling growth.&list=Os03g0122600,Os06g0156600,Os06g0166100,Os06g0156700,Os06g0164900\")\n",
    "<Response [404]>\n"
   ]
  },
  {
   "cell_type": "markdown",
   "metadata": {},
   "source": [
    "This was likely because the api provided has gone down"
   ]
  },
  {
   "cell_type": "code",
   "execution_count": null,
   "metadata": {},
   "outputs": [],
   "source": [
    "http://babvs67.rothamsted.ac.uk:8081/ws/rice/genome?"
   ]
  },
  {
   "cell_type": "markdown",
   "metadata": {},
   "source": [
    "The link no longer works!"
   ]
  },
  {
   "cell_type": "markdown",
   "metadata": {},
   "source": [
    "For today, the script map_snp_to_genes was kept the same except with the added parameter functions."
   ]
  },
  {
   "cell_type": "markdown",
   "metadata": {},
   "source": [
    "The logP positional parameter didn't quite work as intended. Will debug script further after api is up again."
   ]
  },
  {
   "cell_type": "markdown",
   "metadata": {},
   "source": [
    "https://stackoverflow.com/questions/21823965/use-20-instead-of-for-space-in-python-query-parameters"
   ]
  }
 ],
 "metadata": {
  "kernelspec": {
   "display_name": "Python 3",
   "language": "python",
   "name": "python3"
  },
  "language_info": {
   "codemirror_mode": {
    "name": "ipython",
    "version": 3
   },
   "file_extension": ".py",
   "mimetype": "text/x-python",
   "name": "python",
   "nbconvert_exporter": "python",
   "pygments_lexer": "ipython3",
   "version": "3.7.1"
  }
 },
 "nbformat": 4,
 "nbformat_minor": 2
}
