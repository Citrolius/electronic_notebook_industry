{
 "cells": [
  {
   "cell_type": "markdown",
   "metadata": {},
   "source": [
    "# specifics\n",
    "Re-read comparative genomics paper.\n",
    "Read up on python text processing.\n",
    "Do a search on CRD genstat.\n",
    "Ask Rob if we need small sets of sequenced data to assemble with bionano4.\n",
    "Find data for bionano4."
   ]
  },
  {
   "cell_type": "markdown",
   "metadata": {},
   "source": [
    "# outputs\n",
    "\n",
    "1) GAPIT.MLM.DTF.GWAS.Results_filtered.\n",
    "Just the SNP, its chromosome, its base pairs, p-values and logP.\n",
    "The SNPs are ordered iteratively from 1 onwards.\n",
    "The logP is minus log10 of p-value which turns 10^-x to appear as x value.\n",
    "status: intermediate\n",
    "\n",
    "2) Results_filtered_threshold.txt\n",
    "The same output from 1) but in different manner.\n",
    "Only the snps with logP above 6 are extracted.\n",
    "status: statistically significant snps.\n",
    "\n",
    "3) Results_filtered_gdp_FINAL.txt\n",
    "Use findclose gene function to acquire the genes the snps is associated with(upsteream, downstream, within). Concatenate all the matching info from 2) with the Nipponbare.txt's design column.\n",
    "Design column content is gene::annotation.\n",
    "status: get genes associated with snps in 2) + annotations + matching info from 2)\n",
    "\n",
    "4) Results_formated_gene_and_designation.txt\n",
    "Exactly the same set of design / column 4 found in 3).\n",
    "status: Just the genes associated tih snps + annotation.\n",
    "\n",
    "So far 4 and 3 aren't different. 3 simply has more repeats e.g. Os03g0122600 repeated several times.\n",
    "\n",
    "It is normal for 3 to have duplicate genes because 3 has to do with all the snps. Different snps can occur in the same gene, therefore duplicate genes in 3. 4 removes duplicate genes so multiple snps occuring around the same gene are not shown as gene1 snp1, gene1 snp2, gene1 snp3 but just as gene1::annotation1.\n"
   ]
  },
  {
   "cell_type": "markdown",
   "metadata": {},
   "source": [
    "# current objectives and patches"
   ]
  },
  {
   "cell_type": "markdown",
   "metadata": {},
   "source": [
    "A docstring that displays how to run this script on the terminal.\n",
    "Knetminer stuff."
   ]
  }
 ],
 "metadata": {
  "kernelspec": {
   "display_name": "Python 3",
   "language": "python",
   "name": "python3"
  },
  "language_info": {
   "codemirror_mode": {
    "name": "ipython",
    "version": 3
   },
   "file_extension": ".py",
   "mimetype": "text/x-python",
   "name": "python",
   "nbconvert_exporter": "python",
   "pygments_lexer": "ipython3",
   "version": "3.7.1"
  }
 },
 "nbformat": 4,
 "nbformat_minor": 2
}
