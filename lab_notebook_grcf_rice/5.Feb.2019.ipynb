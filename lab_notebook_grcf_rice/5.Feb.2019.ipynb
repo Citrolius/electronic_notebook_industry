{
 "cells": [
  {
   "cell_type": "markdown",
   "metadata": {},
   "source": [
    "# specifics\n",
    "Re-read comparative genomics paper.\n",
    "Read up on python text processing.\n",
    "Do a search on CRD genstat.\n",
    "Ask Rob if we need small sets of sequenced data to assemble with bionano4.\n",
    "Find data for bionano4.\n"
   ]
  }
 ],
 "metadata": {
  "kernelspec": {
   "display_name": "Python 3",
   "language": "python",
   "name": "python3"
  },
  "language_info": {
   "codemirror_mode": {
    "name": "ipython",
    "version": 3
   },
   "file_extension": ".py",
   "mimetype": "text/x-python",
   "name": "python",
   "nbconvert_exporter": "python",
   "pygments_lexer": "ipython3",
   "version": "3.7.1"
  }
 },
 "nbformat": 4,
 "nbformat_minor": 2
}
