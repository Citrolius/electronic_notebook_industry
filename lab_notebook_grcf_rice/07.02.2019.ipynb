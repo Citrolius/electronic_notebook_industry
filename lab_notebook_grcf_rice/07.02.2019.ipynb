{
 "cells": [
  {
   "cell_type": "markdown",
   "metadata": {},
   "source": [
    "Just developed a new script, gwas-gene-discovery/Knetminer/loads_gene_table.py which looks into the gene table of a json file and extracts the genes and scores. Just a few more defined functions."
   ]
  },
  {
   "cell_type": "markdown",
   "metadata": {},
   "source": [
    "Acquire background info on rice and pathways. Know the hypothesis and relevant keywords to answer it."
   ]
  },
  {
   "cell_type": "markdown",
   "metadata": {},
   "source": [
    "Let python go to Knetminer. HARDEST BIT"
   ]
  },
  {
   "cell_type": "markdown",
   "metadata": {},
   "source": [
    "Let python do some text mining based on the keywords. HARDEST BIT. Use beautifulsoup????"
   ]
  },
  {
   "cell_type": "markdown",
   "metadata": {},
   "source": [
    "Let python get and download from hyperlinks. urllib?"
   ]
  },
  {
   "cell_type": "markdown",
   "metadata": {},
   "source": [
    "Let python parse json file for same genes to obtain score. DONE"
   ]
  }
 ],
 "metadata": {
  "kernelspec": {
   "display_name": "Python 3",
   "language": "python",
   "name": "python3"
  },
  "language_info": {
   "codemirror_mode": {
    "name": "ipython",
    "version": 3
   },
   "file_extension": ".py",
   "mimetype": "text/x-python",
   "name": "python",
   "nbconvert_exporter": "python",
   "pygments_lexer": "ipython3",
   "version": "3.7.1"
  }
 },
 "nbformat": 4,
 "nbformat_minor": 2
}
