{
 "cells": [
  {
   "cell_type": "markdown",
   "metadata": {},
   "source": [
    "# What has been done so far?"
   ]
  },
  {
   "cell_type": "markdown",
   "metadata": {},
   "source": [
    " - A more documented READme file. However, it is not complete and STILL NEEDS EDITING.\n",
    " - A supposed list of Ensembl IDs has been obtained but it only includes animalia, no plants.\n",
    " - The naming of 3 species on Knetminer is identified, simply lower case of scientific name with _ for space. However, they don't seem to be from actual EBI database but elsewhere that EBI links. This is based on the fact that the names below works for URL requests\n",
    "     - rice is oryza_sativa\n",
    "     - wheat is triticum_aestivum\n",
    "     - arabidopsis is arabidopsis_thaliana\n",
    " - A text file is now the input needed to generate keywords for knetminer, no harding coding required.\n",
    " - The script directly reads from the csv instead of a formated_results.txt which has been removed.\n",
    " - Genome.json output is removed.\n",
    " - Distance is now a parameter instead of 1000bp hard coded."
   ]
  },
  {
   "cell_type": "markdown",
   "metadata": {},
   "source": [
    "# practical actions to take next"
   ]
  },
  {
   "cell_type": "markdown",
   "metadata": {},
   "source": [
    " - Report findings on Ensembl species to Keywan. Inform him that the rice, wheat and arabidopsis database might be from NCBI.\n",
    " \n",
    " \n",
    " - Read python documentation for argparse so you can make arguments such as -p, -d etc optional with a default value. https://towardsdatascience.com/learn-enough-python-to-be-useful-argparse-e482e1764e05 (concise version)\n",
    " \n",
    " \n",
    " - Find the names of arabidopsisknet. If too difficult, ask Ajit for the urls\n",
    "     - http://www.gregreda.com/2015/02/15/web-scraping-finding-the-api/\n",
    "     - the url for wheatknet is http://knetminer.rothamsted.ac.uk/wheatknet/genome?\n",
    "     - url for arabidopsis is unknown.\n",
    " \n",
    " \n",
    " - Use a Jupyter smalltest note to check if you are getting the functional annotations for each gene correctly from ensembl instead of just \"NONE\"\n",
    " \n",
    " \n",
    " - Think logically and brainstorm on a way to merge information in summary_gene_discovered and kent_summary (url and score).\n",
    " \n",
    " \n",
    " - If Keywan agrees, state the 3 species names and use argparse to make them a flexible parameter."
   ]
  },
  {
   "cell_type": "markdown",
   "metadata": {},
   "source": [
    "# Experimentation with concatenating 2 summary files"
   ]
  },
  {
   "cell_type": "code",
   "execution_count": 16,
   "metadata": {},
   "outputs": [],
   "source": [
    "filtered_snps=\"T:\\colin\\BRice\\gwas-gene-discoveryV2\\MLM.blupWidth.GWAS.Results\\filtered_snps.txt\"\n",
    "disc_genes=\"T:\\colin\\BRice\\gwas-gene-discoveryV2\\MLM.blupWidth.GWAS.Results\\summary_genes_discovered.txt\"\n",
    "args=\"T:\\colin\\BRice\\gwas-gene-discoveryV2\\MLM.blupWidth.GWAS.Results\\mock_keyword_list.txt\"\n",
    "genetab=\"T:\\colin\\BRice\\gwas-gene-discoveryV2\\MLM.blupWidth.GWAS.Results\\genetable.txt\""
   ]
  },
  {
   "cell_type": "markdown",
   "metadata": {},
   "source": [
    "##### The solution might be write a super function that has all the aspects of 3 functions: summary, knetapi and  knetsummary"
   ]
  },
  {
   "cell_type": "code",
   "execution_count": 18,
   "metadata": {},
   "outputs": [],
   "source": [
    "def knetapi(disc_genes, genetab):\n",
    "    '''Use the genes from the summary file to search for Knetminer genome api.'''\n",
    "    with open(disc_genes, \"r\") as fs:\n",
    "        next(fs)\n",
    "        with open(genetab, \"w\") as fj:\n",
    "            genes = []\n",
    "            with open(args.l, \"r\") as fl:\n",
    "                pheno = []\n",
    "                for line in fs:\n",
    "                    col = line.split(\"\\t\")\n",
    "                    genes.append(col[0])\n",
    "                genelist = (\",\").join(genes) #join all iterative elements by ,\n",
    "                #print(genelist)\n",
    "                for line in fl:\n",
    "                    pheno.append(line.rstrip())\n",
    "                    print(pheno)\n",
    "                #use str.join() to convert multiple elments in a list into one string.\n",
    "                keyw1 = \"%20OR%20\".join(\"({})\".format(i.replace(\" \", \"+AND+\")) for i in pheno)\n",
    "                link = \"http://knetminer.rothamsted.ac.uk/riceknet/genome?\"\n",
    "                parameters = {\"keyword\":keyw1, \"list\":genelist}\n",
    "                r = requests.get(link, params=parameters)\n",
    "                \n",
    "                #check if request is succesfsul.\n",
    "                if not r.ok:\n",
    "                    r.raise_for_status()\n",
    "                    sys.exit()\n",
    "                \n",
    "                #printing out genetable to a file.\n",
    "                decoded = str(r.json()[u'geneTable'])\n",
    "                print(decoded)"
   ]
  },
  {
   "cell_type": "code",
   "execution_count": null,
   "metadata": {},
   "outputs": [],
   "source": []
  }
 ],
 "metadata": {
  "kernelspec": {
   "display_name": "Python 2",
   "language": "python",
   "name": "python2"
  },
  "language_info": {
   "codemirror_mode": {
    "name": "ipython",
    "version": 2
   },
   "file_extension": ".py",
   "mimetype": "text/x-python",
   "name": "python",
   "nbconvert_exporter": "python",
   "pygments_lexer": "ipython2",
   "version": "2.7.15"
  }
 },
 "nbformat": 4,
 "nbformat_minor": 2
}
