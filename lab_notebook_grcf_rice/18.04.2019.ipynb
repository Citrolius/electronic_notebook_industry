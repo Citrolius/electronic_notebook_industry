{
 "cells": [
  {
   "cell_type": "markdown",
   "metadata": {},
   "source": [
    "# Comparison between Nipponbare and MSU7 references"
   ]
  },
  {
   "cell_type": "markdown",
   "metadata": {},
   "source": [
    "### Nipponbare columns"
   ]
  },
  {
   "cell_type": "raw",
   "metadata": {},
   "source": [
    "Os01g0100100\t1\t2983\t10815\tOs01g0100100 :: RabGAP/TBC domain containing protein. "
   ]
  },
  {
   "cell_type": "markdown",
   "metadata": {},
   "source": [
    "gene, chromosome, start, end, annotation"
   ]
  },
  {
   "cell_type": "markdown",
   "metadata": {},
   "source": [
    "### MSU7 columns"
   ]
  },
  {
   "cell_type": "raw",
   "metadata": {},
   "source": [
    "LOC_Os01g01010\t1\t2903\t10817\tTBC domain containing protein C expressed"
   ]
  },
  {
   "cell_type": "markdown",
   "metadata": {},
   "source": [
    "gene, chromosome, start, end, annotation"
   ]
  },
  {
   "cell_type": "markdown",
   "metadata": {},
   "source": [
    "### Real problem"
   ]
  },
  {
   "cell_type": "markdown",
   "metadata": {},
   "source": [
    "MSU7 annotation contains non-integer chromosomes.\n",
    "e.g. ChrUn.fgenesh\tUn\t563604\t563883\texpressed protein\n",
    " ChrSy.fgenesh\tSy\t73936\t78321\texpressed protein etc."
   ]
  },
  {
   "cell_type": "markdown",
   "metadata": {},
   "source": [
    "These interfere with our program."
   ]
  }
 ],
 "metadata": {
  "kernelspec": {
   "display_name": "Python 2",
   "language": "python",
   "name": "python2"
  },
  "language_info": {
   "codemirror_mode": {
    "name": "ipython",
    "version": 2
   },
   "file_extension": ".py",
   "mimetype": "text/x-python",
   "name": "python",
   "nbconvert_exporter": "python",
   "pygments_lexer": "ipython2",
   "version": "2.7.15"
  }
 },
 "nbformat": 4,
 "nbformat_minor": 2
}
