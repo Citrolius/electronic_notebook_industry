{
 "cells": [
  {
   "cell_type": "markdown",
   "metadata": {},
   "source": [
    "Whatever is extracted from Knetminer the key between the elements in both files are the gene ids OS...\n",
    "The gene IDs extracted from gapit doesn't match any Japonica IDs on knetminer though."
   ]
  },
  {
   "cell_type": "markdown",
   "metadata": {},
   "source": [
    "The thing to do is to use:\n",
    "\n",
    "http://babvs67.rothamsted.ac.uk:8081/client/\n",
    "\n",
    "Append the keywords at the end to do with what the biologists want and use the query suggestion.\n",
    "(Highly loose, may require machine learning texts to automate)\n",
    "\n",
    "Then we would append python script so that it:\n",
    "\n",
    "searches web server\n",
    "obtain the json files\n",
    "\n",
    "extract the scores of matching genes between what the script found and what's on knetminer."
   ]
  },
  {
   "cell_type": "markdown",
   "metadata": {},
   "source": [
    "Assuming you read a lot of papers and knows what targets the genes of interest affect.\n",
    "\n",
    "You manually have to:\n",
    "1) tweak Knetminer's url with the keywords\n",
    "2) use query suggestion to enhance the search\n",
    "3) Download the json file from knetminer\n",
    "4) parse the json file by matching genes and grab the scores\n",
    "\n"
   ]
  },
  {
   "cell_type": "markdown",
   "metadata": {},
   "source": [
    "You would have to write a procedural-esque paper as opposed to a traditional answer the hypothesis paper."
   ]
  },
  {
   "cell_type": "markdown",
   "metadata": {},
   "source": [
    "# The next steps"
   ]
  },
  {
   "cell_type": "markdown",
   "metadata": {},
   "source": [
    "Once you obtain the powerpoint or secure an interview with Guilliman, request more papers on the pathways affected by the genes.\n",
    "\n",
    "Read deep into those papers and understand the possible mechanism of those variants on phenotype.\n",
    "\n",
    "You need to learn about the json module in python and how to obtain json from python script.\n",
    "\n",
    "Maybe do a NLP or text mining on the side to automate the procedure of tweaking knetminer keywords.\n",
    "The key is to find tools and implement text mining modules. NOT re-invent the wheel.\n",
    "\n",
    "Write a procedural report in the meantime.\n"
   ]
  }
 ],
 "metadata": {
  "kernelspec": {
   "display_name": "Python 3",
   "language": "python",
   "name": "python3"
  },
  "language_info": {
   "codemirror_mode": {
    "name": "ipython",
    "version": 3
   },
   "file_extension": ".py",
   "mimetype": "text/x-python",
   "name": "python",
   "nbconvert_exporter": "python",
   "pygments_lexer": "ipython3",
   "version": "3.7.1"
  }
 },
 "nbformat": 4,
 "nbformat_minor": 2
}
