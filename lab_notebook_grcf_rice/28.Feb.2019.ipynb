{
 "cells": [
  {
   "cell_type": "markdown",
   "metadata": {},
   "source": [
    "Galaxy training material found in Ajit's email\n",
    "RNA-seq training material found in"
   ]
  },
  {
   "cell_type": "code",
   "execution_count": null,
   "metadata": {},
   "outputs": [],
   "source": [
    "/home/data/bioinf_resources/training/RNASeq_in_Galaxy/2019/html"
   ]
  },
  {
   "cell_type": "markdown",
   "metadata": {},
   "source": [
    "Both are on hiatus due to galaxy being overloaded."
   ]
  },
  {
   "cell_type": "markdown",
   "metadata": {},
   "source": [
    "The hiatus is now over"
   ]
  },
  {
   "cell_type": "markdown",
   "metadata": {},
   "source": [
    "Go through galaxy-training using notes on coggle for support."
   ]
  },
  {
   "cell_type": "markdown",
   "metadata": {},
   "source": [
    "Supplement by revising the process of RNA-seq and prerequisites e.g. library preparation."
   ]
  },
  {
   "cell_type": "markdown",
   "metadata": {},
   "source": [
    "Go through RNA-seq training up to estimating abundances. "
   ]
  },
  {
   "cell_type": "markdown",
   "metadata": {},
   "source": [
    "# URL problem"
   ]
  },
  {
   "cell_type": "markdown",
   "metadata": {},
   "source": [
    "requests.get(url, param=<>) will not print the same special character for space as urllib"
   ]
  },
  {
   "cell_type": "code",
   "execution_count": null,
   "metadata": {},
   "outputs": [],
   "source": [
    "#request output\n",
    "http://knetminer.rothamsted.ac.uk/riceknet/genepage?list=OS03G0122600&keyword=coleoptile+length%2BOR%2Bmesocotyl+length%2BOR%2Broot+length%2BOR%2Bseminal+root+length%2BOR%2BGermination+rate.+Seedling+growth."
   ]
  },
  {
   "cell_type": "code",
   "execution_count": null,
   "metadata": {},
   "outputs": [],
   "source": [
    "#desired output\n",
    "http://knetminer.rothamsted.ac.uk/riceknet/genepage?list=OS03G0122600&keyword=coleoptile+length%20OR%20mesocotyl+length%20OR%20root+length%20OR%20seminal+root+length%20OR%20Germination+rate.+Seedling+growth."
   ]
  },
  {
   "cell_type": "markdown",
   "metadata": {},
   "source": [
    "The url produced by http request produces %2B as indicated by the source below. To get %20 it would be unsuitable because urllib can do everything requests does. Therefore request should be replaced with url."
   ]
  },
  {
   "cell_type": "markdown",
   "metadata": {},
   "source": [
    "https://stackoverflow.com/questions/21823965/use-20-instead-of-for-space-in-python-query-parameters "
   ]
  },
  {
   "cell_type": "markdown",
   "metadata": {},
   "source": [
    "# Relevant reading on urllib\n",
    "\n",
    "https://docs.python.org/2/library/urllib.html"
   ]
  },
  {
   "cell_type": "markdown",
   "metadata": {},
   "source": [
    "### structure of url (see diagram)"
   ]
  },
  {
   "cell_type": "code",
   "execution_count": null,
   "metadata": {},
   "outputs": [],
   "source": [
    "r = urllib2.urlopen(url[, data[, timeout[, cafile[, capath[, cadefault[, context]]]]])\n",
    "#create url network object as string or request"
   ]
  },
  {
   "cell_type": "markdown",
   "metadata": {},
   "source": [
    "# Request object"
   ]
  },
  {
   "cell_type": "code",
   "execution_count": null,
   "metadata": {},
   "outputs": [],
   "source": [
    "class urllib2.Request(url[, data][, headers][, origin_req_host][, unverifiable])¶\n"
   ]
  }
 ],
 "metadata": {
  "kernelspec": {
   "display_name": "Python 3",
   "language": "python",
   "name": "python3"
  },
  "language_info": {
   "codemirror_mode": {
    "name": "ipython",
    "version": 3
   },
   "file_extension": ".py",
   "mimetype": "text/x-python",
   "name": "python",
   "nbconvert_exporter": "python",
   "pygments_lexer": "ipython3",
   "version": "3.7.1"
  }
 },
 "nbformat": 4,
 "nbformat_minor": 2
}
