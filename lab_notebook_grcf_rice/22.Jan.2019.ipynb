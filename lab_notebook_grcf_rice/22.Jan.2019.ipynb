{
 "cells": [
  {
   "cell_type": "markdown",
   "metadata": {},
   "source": [
    "http://localhost:8888/notebooks/rice/debug_diary/22.01.2019.ipynb#I have debugged why there was a syntax error at the code:"
   ]
  },
  {
   "cell_type": "code",
   "execution_count": null,
   "metadata": {},
   "outputs": [],
   "source": [
    "print('{}\\t{}\\t{}\\t{}\\t{}'.format(snp,chro,bp,pval,logP), file=gwas_new_file)"
   ]
  },
  {
   "cell_type": "markdown",
   "metadata": {},
   "source": [
    "According to https://www.programiz.com/python-programming/methods/built-in/print\n",
    "\n",
    "One of print()'s parameters in python3 is file. However, this is not the case for python2.\n",
    "\n",
    "Python2's print does not allow printing to file object.\n",
    "\n",
    "ALSO DO NOT USE F STRINGS WHICH DOESN'T EXIST IN PYTHON2."
   ]
  },
  {
   "cell_type": "code",
   "execution_count": null,
   "metadata": {},
   "outputs": [],
   "source": [
    "Nevertheless this gave rise to the new error:"
   ]
  },
  {
   "cell_type": "code",
   "execution_count": null,
   "metadata": {},
   "outputs": [],
   "source": [
    "Traceback (most recent call last):\n",
    "  File \"T:\\colin\\BRice\\test_folder\\myversion.py\", line 17, in <module>\n",
    "    chro = col[1]\n",
    "IndexError: list index out of range\n",
    "Press any key to continue . . ."
   ]
  },
  {
   "cell_type": "markdown",
   "metadata": {},
   "source": [
    "This was solved by the code specifying separation of column from tab delimited into csv delimited."
   ]
  },
  {
   "cell_type": "code",
   "execution_count": null,
   "metadata": {},
   "outputs": [],
   "source": [
    "#col = line.split(\"\\t\")\n",
    "col = line.split(\",\") #due to processing csv"
   ]
  },
  {
   "cell_type": "code",
   "execution_count": null,
   "metadata": {},
   "outputs": [],
   "source": [
    "from __future__ import print_function\n"
   ]
  },
  {
   "cell_type": "markdown",
   "metadata": {},
   "source": [
    "You can use the above code to import python3 print() into python2."
   ]
  }
 ],
 "metadata": {
  "kernelspec": {
   "display_name": "Python 3",
   "language": "python",
   "name": "python3"
  },
  "language_info": {
   "codemirror_mode": {
    "name": "ipython",
    "version": 3
   },
   "file_extension": ".py",
   "mimetype": "text/x-python",
   "name": "python",
   "nbconvert_exporter": "python",
   "pygments_lexer": "ipython3",
   "version": "3.7.1"
  }
 },
 "nbformat": 4,
 "nbformat_minor": 2
}
