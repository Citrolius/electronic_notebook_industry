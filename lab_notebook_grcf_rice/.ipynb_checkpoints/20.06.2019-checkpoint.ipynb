{
 "cells": [
  {
   "cell_type": "code",
   "execution_count": 1,
   "metadata": {},
   "outputs": [],
   "source": [
    "from __future__ import print_function\n",
    "import requests\n",
    "import pandas as pd\n",
    "import numpy as np"
   ]
  },
  {
   "cell_type": "code",
   "execution_count": 2,
   "metadata": {},
   "outputs": [],
   "source": [
    "kewy_list=\"T:\\colin\\BRice\\V2\\gwas-gene-discovery\\mock_keyword_list.txt\"\n",
    "disc_genes=\"T:\\colin\\BRice\\V2\\gwas-gene-discovery\\MLM.DTF.GWAS.Results\\summary_genes_discovered.txt\""
   ]
  },
  {
   "cell_type": "code",
   "execution_count": 35,
   "metadata": {},
   "outputs": [],
   "source": [
    "def knetapi(disc_genes):\n",
    "    with open(kewy_list, \"r\") as fl:\n",
    "        pheno=[]\n",
    "        for line in fl:\n",
    "            pheno.append(line.rstrip())\n",
    "            #all keyword from plain text file into pheno list.\n",
    "        summary=pd.read_csv(disc_genes, sep=\"\\t\")\n",
    "        genelist=list(summary[u'GENE'])\n",
    "        genestr=(\",\").join(genelist)\n",
    "        #all genes in column 0 of summary into one string\n",
    "        \n",
    "        #use str.join() to convert multiple elments in a list into one string.\n",
    "        keyw1 = \"%20OR%20\".join(\"({})\".format(i.replace(\" \", \"+AND+\")) for i in pheno)\n",
    "        link=\"http://knetminer.rothamsted.ac.uk/riceknet/genome?\"\n",
    "        parameters={\"keyword\":keyw1, \"list\":genestr}\n",
    "        r=requests.get(link, params=parameters)\n",
    "        \n",
    "        #check if requests is successful\n",
    "        if not r.ok:\n",
    "                r.raise_for_status()\n",
    "                sys.exit()\n",
    "\n",
    "        #extract unicode string of geneTable decoded from json\n",
    "        decoded=r.json()[u'geneTable'].split(\"\\t\")\n",
    "        #remove space or newline at the end\n",
    "        decoded=(decoded)[:-1]\n",
    "        \n",
    "        colnum=9\n",
    "        #tabulate genetable into 9 columns.\n",
    "        genetable=np.array(decoded).reshape(len(decoded)//colnum, colnum)\n",
    "        genetable=pd.DataFrame(genetable[1:,:], columns=genetable[0,:])\n",
    "        \n",
    "        #delete useless columns from genetable.\n",
    "        genetable=genetable.drop([u'ONDEX-ID', u'GENE NAME', u'TAXID', u'USER', u'QTL'], axis=1)\n",
    "        \n",
    "        #rename genetable columns.\n",
    "        genetable.rename (\n",
    "        columns={\n",
    "            \"ACCESSION\":\"Knetminer_genes\",\n",
    "            \"SCORE\":\"KnetScore\"\n",
    "        }, inplace=True\n",
    "        )\n",
    "        \n",
    "        knetgenes=list(genetable[u'Knetminer_genes'])\n",
    "        knetscores=list(genetable[u'KnetScore'])\n",
    "        \n",
    "        #print(knetgenes)\n",
    "        #print(knetscores)\n",
    "        \n",
    "        knetdict=dict(zip(knetgenes, knetscores))\n",
    "        print(knetdict)\n",
    "        #compare genetable and summary"
   ]
  },
  {
   "cell_type": "code",
   "execution_count": 36,
   "metadata": {},
   "outputs": [
    {
     "name": "stdout",
     "output_type": "stream",
     "text": [
      "{u'OS03G0122600': u'125.60', u'OS06G0156700': u'10.64', u'OS06G0156600': u'10.64', u'OS06G0164900': u'5.94', u'OS06G0166100': u'0.00'}\n"
     ]
    }
   ],
   "source": [
    "knetapi(disc_genes)"
   ]
  },
  {
   "cell_type": "code",
   "execution_count": null,
   "metadata": {},
   "outputs": [],
   "source": []
  }
 ],
 "metadata": {
  "kernelspec": {
   "display_name": "Python 2",
   "language": "python",
   "name": "python2"
  },
  "language_info": {
   "codemirror_mode": {
    "name": "ipython",
    "version": 2
   },
   "file_extension": ".py",
   "mimetype": "text/x-python",
   "name": "python",
   "nbconvert_exporter": "python",
   "pygments_lexer": "ipython2",
   "version": "2.7.15"
  }
 },
 "nbformat": 4,
 "nbformat_minor": 2
}
