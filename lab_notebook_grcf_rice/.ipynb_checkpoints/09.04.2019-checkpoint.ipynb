{
 "cells": [
  {
   "cell_type": "markdown",
   "metadata": {},
   "source": [
    "# Regular Expression Testing - Various methods"
   ]
  },
  {
   "cell_type": "code",
   "execution_count": 4,
   "metadata": {},
   "outputs": [
    {
     "name": "stdout",
     "output_type": "stream",
     "text": [
      "http://knetminer.rothamsted.ac.uk/riceknet/genepage?keyword=coleoptile length)%20OR%20(mesocotyl length)%20OR%20(root length)%20OR%20(seminal root length)%20OR%20(Germination rate. Seedling growth.\n"
     ]
    }
   ],
   "source": [
    "def getgs():\n",
    "    pheno = [\"coleoptile length\", \"mesocotyl length\", \"root length\", \"seminal root length\", \"Germination rate. Seedling growth.\"]\n",
    "    keyw = \")%20OR%20(\".join(pheno)\n",
    "    url = \"http://knetminer.rothamsted.ac.uk/riceknet/genepage?keyword={}\".format(keyw)\n",
    "    print(url)\n",
    "\n",
    "if __name__ == \"__main__\":\n",
    "    getgs()"
   ]
  },
  {
   "cell_type": "markdown",
   "metadata": {},
   "source": [
    "### Desired output"
   ]
  },
  {
   "cell_type": "markdown",
   "metadata": {},
   "source": [
    "http://knetminer.rothamsted.ac.uk/wheatknet/genepage?keyword=(CELLULOSE+AND+SEEDS)+OR+grain"
   ]
  },
  {
   "cell_type": "code",
   "execution_count": 5,
   "metadata": {},
   "outputs": [
    {
     "name": "stdout",
     "output_type": "stream",
     "text": [
      "http://knetminer.rothamsted.ac.uk/riceknet/genepage?keyword=coleoptile length)%20OR%20(mesocotyl length)%20OR%20(root length)%20OR%20(seminal root length)%20OR%20(Germination rate. Seedling growth.\n"
     ]
    }
   ],
   "source": [
    "import re\n",
    "\n",
    "def getgs():\n",
    "    pheno = [\"coleoptile length\",\"mesocotyl length\",\"root length\",\"seminal root length\",\"Germination rate\",\"Seedling growth\"]\n",
    "    #keyw = \")%20OR%20(\".join(pheno)\n",
    "    words = re.split(\",\", str(pheno))\n",
    "    url = \"http://knetminer.rothamsted.ac.uk/riceknet/genepage?keyword={}\".format(keyw)\n",
    "    print(url)\n",
    "    \n",
    "    \n",
    "\n",
    "if __name__ == \"__main__\":\n",
    "    getgs()"
   ]
  },
  {
   "cell_type": "markdown",
   "metadata": {},
   "source": [
    "##### Process\n",
    "Get a loop with regular expression. Substitute all space within brackets found with +AND+"
   ]
  },
  {
   "cell_type": "code",
   "execution_count": null,
   "metadata": {},
   "outputs": [],
   "source": [
    "import re\n",
    "\n",
    "def getgs():\n",
    "    pheno = [\"coleoptile length\", \"mesocotyl length\", \"root length\", \"seminal root length\", \"Germination rate. Seedling growth.\"]\n",
    "    #substitue \", \" with )%20OR%20(\n",
    "    #substitute  \" \" with +AND+"
   ]
  },
  {
   "cell_type": "markdown",
   "metadata": {},
   "source": [
    "##### With user input"
   ]
  },
  {
   "cell_type": "code",
   "execution_count": 9,
   "metadata": {},
   "outputs": [
    {
     "name": "stdout",
     "output_type": "stream",
     "text": [
      "coleoptile length\n"
     ]
    },
    {
     "ename": "SyntaxError",
     "evalue": "unexpected EOF while parsing (<string>, line 1)",
     "output_type": "error",
     "traceback": [
      "\u001b[1;36m  File \u001b[1;32m\"<string>\"\u001b[1;36m, line \u001b[1;32m1\u001b[0m\n\u001b[1;33m    coleoptile length\u001b[0m\n\u001b[1;37m                    ^\u001b[0m\n\u001b[1;31mSyntaxError\u001b[0m\u001b[1;31m:\u001b[0m unexpected EOF while parsing\n"
     ]
    }
   ],
   "source": [
    "from __future__ import print_function\n",
    "\n",
    "import re\n",
    "\n",
    "def getgs():\n",
    "    pheno = str(input())\n",
    "    #pheno = [\"coleoptile length\", \"mesocotyl length\", \"root length\", \"seminal root length\", \"Germination rate. Seedling growth.\"]\n",
    "    #keyw = \")%20OR%20(\".join(pheno)\n",
    "    #url = \"http://knetminer.rothamsted.ac.uk/riceknet/genepage?keyword={}\".format(keyw)\n",
    "    #print(url)\n",
    "\n",
    "if __name__ == \"__main__\":\n",
    "    getgs()"
   ]
  },
  {
   "cell_type": "markdown",
   "metadata": {},
   "source": [
    "# re practises"
   ]
  },
  {
   "cell_type": "code",
   "execution_count": 13,
   "metadata": {},
   "outputs": [
    {
     "name": "stdout",
     "output_type": "stream",
     "text": [
      "['coleoptile length', 'mesocotyl length']\n"
     ]
    }
   ],
   "source": [
    "import re\n",
    "\n",
    "list = [\"coleoptile length\", \"mesocotyl length\"]\n",
    "for i in list:\n",
    "    re.repl(\"\")\n",
    "\n",
    "#list.replace(\", \", \")%20OR%20(\")"
   ]
  },
  {
   "cell_type": "code",
   "execution_count": null,
   "metadata": {},
   "outputs": [],
   "source": [
    "def getgs():\n",
    "\n",
    "    traits = input(\"Input the traits you're interested in separated by comma.\" )\n",
    "    pheno = str(traits).split(\",\")\n",
    "    kewy = re.repl(\",\", pheno, \")%20OR%20(\")\n",
    "    print(kewy)\n",
    "\n",
    "if __name__ == \"__main__\":\n",
    "    getgs()"
   ]
  },
  {
   "cell_type": "code",
   "execution_count": null,
   "metadata": {},
   "outputs": [],
   "source": []
  }
 ],
 "metadata": {
  "kernelspec": {
   "display_name": "Python 2",
   "language": "python",
   "name": "python2"
  },
  "language_info": {
   "codemirror_mode": {
    "name": "ipython",
    "version": 2
   },
   "file_extension": ".py",
   "mimetype": "text/x-python",
   "name": "python",
   "nbconvert_exporter": "python",
   "pygments_lexer": "ipython2",
   "version": "2.7.15"
  }
 },
 "nbformat": 4,
 "nbformat_minor": 2
}
