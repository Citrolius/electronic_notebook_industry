{
 "cells": [
  {
   "cell_type": "markdown",
   "metadata": {},
   "source": [
    "# updates"
   ]
  },
  {
   "cell_type": "markdown",
   "metadata": {},
   "source": [
    " - Both a script that takes either MSU7 or Os_Nip files have been constructed.\n",
    " - script for ensembl has been constructed."
   ]
  },
  {
   "cell_type": "markdown",
   "metadata": {},
   "source": [
    "# Issues"
   ]
  },
  {
   "cell_type": "markdown",
   "metadata": {},
   "source": [
    " - You need to read up on an error you have encountered when scripting, namely whether a statement can be placed after for every line in a file then for every element in a list.\n",
    " - You must contact Guillaume regarding MSU7. Very few of its genes can be found in neither Ensembl nor Knetminer.\n",
    " - You need to find if there's any mapping file between MSU7 a possible legacy reference and the main ensembl reference. If this is found MSU7 may be connected to Knetminer.\n",
    " - You need to check other ncbi api and see how they get the keywords instead of +OR+word1ANDword2 etc."
   ]
  },
  {
   "cell_type": "markdown",
   "metadata": {},
   "source": [
    "# links to information regarding MSU7"
   ]
  },
  {
   "cell_type": "markdown",
   "metadata": {},
   "source": [
    "http://rice.plantbiology.msu.edu/cgi-bin/ORF_infopage.cgi?db=osa1r5&orf=LOC_Os10g08720"
   ]
  },
  {
   "cell_type": "code",
   "execution_count": null,
   "metadata": {},
   "outputs": [],
   "source": []
  }
 ],
 "metadata": {
  "kernelspec": {
   "display_name": "Python 2",
   "language": "python",
   "name": "python2"
  },
  "language_info": {
   "codemirror_mode": {
    "name": "ipython",
    "version": 2
   },
   "file_extension": ".py",
   "mimetype": "text/x-python",
   "name": "python",
   "nbconvert_exporter": "python",
   "pygments_lexer": "ipython2",
   "version": "2.7.15"
  }
 },
 "nbformat": 4,
 "nbformat_minor": 2
}
