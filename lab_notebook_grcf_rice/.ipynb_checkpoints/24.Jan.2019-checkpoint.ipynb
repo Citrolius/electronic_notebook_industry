{
 "cells": [
  {
   "cell_type": "markdown",
   "metadata": {},
   "source": [
    "currently developed a script: /home/data/bioinf_training/colinBRice/test_folder/\n",
    "\n",
    "00_RICE_adjusted_version.py. \n",
    "\n",
    "It works to discover genes associated with snp of interest from GAPIT output. This script only works in IDE: Spyder and MS Visual Studio though."
   ]
  },
  {
   "cell_type": "markdown",
   "metadata": {},
   "source": [
    "developed another script:\n",
    "/home/data/bioinf_training/colin/BRice/test_folder/\n",
    "\n",
    "00_RICE_adjusted_version_terminal.py \n",
    "\n",
    "This had the shebang changed from #!/usr/bin/env/python to #!/usr/bin/python.\n",
    "\n",
    "Instead of specifying the full path using python syntax e.g. “T://” you have used linux syntax e.g. “/home/data/bioinf_training”"
   ]
  }
 ],
 "metadata": {
  "kernelspec": {
   "display_name": "Python 3",
   "language": "python",
   "name": "python3"
  },
  "language_info": {
   "codemirror_mode": {
    "name": "ipython",
    "version": 3
   },
   "file_extension": ".py",
   "mimetype": "text/x-python",
   "name": "python",
   "nbconvert_exporter": "python",
   "pygments_lexer": "ipython3",
   "version": "3.7.1"
  }
 },
 "nbformat": 4,
 "nbformat_minor": 2
}
