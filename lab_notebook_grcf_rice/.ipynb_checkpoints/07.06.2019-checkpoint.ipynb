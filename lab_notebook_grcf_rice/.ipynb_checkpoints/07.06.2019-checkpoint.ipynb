{
 "cells": [
  {
   "cell_type": "markdown",
   "metadata": {},
   "source": [
    "# What has been done so far?"
   ]
  },
  {
   "cell_type": "markdown",
   "metadata": {},
   "source": [
    " - A more documented READme file. However, it is not complete and STILL NEEDS EDITING.\n",
    " - A supposed list of Ensembl IDs has been obtained but it only includes animalia, no plants.\n",
    " - The naming of 3 species on Knetminer is identified, simply lower case of scientific name with _ for space. However, they don't seem to be from actual EBI database but elsewhere that EBI links. This is based on the fact that the names below works for URL requests\n",
    "     - rice is oryza_sativa\n",
    "     - wheat is triticum_aestivum\n",
    "     - arabidopsis is arabidopsis_thaliana\n",
    " - A text file is now the input needed to generate keywords for knetminer, no harding coding required.\n",
    " - The script directly reads from the csv instead of a formated_results.txt which has been removed.\n",
    " - Genome.json output is removed.\n",
    " - Distance is now a parameter instead of 1000bp hard coded."
   ]
  },
  {
   "cell_type": "markdown",
   "metadata": {},
   "source": [
    "# practical actions to take next"
   ]
  },
  {
   "cell_type": "markdown",
   "metadata": {},
   "source": [
    " - Report findings on Ensembl species to Keywan. Inform him that the rice, wheat and arabidopsis database might be from NCBI.\n",
    " \n",
    " \n",
    " - Read python documentation for argparse so you can make arguments such as -p, -d etc optional with a default value. https://towardsdatascience.com/learn-enough-python-to-be-useful-argparse-e482e1764e05 (concise version)\n",
    " \n",
    " \n",
    " - Find the names of arabidopsisknet. If too difficult, ask Ajit for the urls\n",
    "     - http://www.gregreda.com/2015/02/15/web-scraping-finding-the-api/\n",
    "     - the url for wheatknet is http://knetminer.rothamsted.ac.uk/wheatknet/genome?\n",
    "     - url for arabidopsis is unknown.\n",
    " \n",
    " \n",
    " - Use a Jupyter smalltest note to check if you are getting the functional annotations for each gene correctly from ensembl instead of just \"NONE\"\n",
    " \n",
    " \n",
    " - Think logically and brainstorm on a way to merge information in summary_gene_discovered and kent_summary (url and score).\n",
    " \n",
    " \n",
    " - If Keywan agrees, state the 3 species names and use argparse to make them a flexible parameter."
   ]
  },
  {
   "cell_type": "markdown",
   "metadata": {},
   "source": [
    "# Experimentation with concatenating 2 summary files"
   ]
  },
  {
   "cell_type": "code",
   "execution_count": 4,
   "metadata": {},
   "outputs": [],
   "source": [
    "filtered_snps=\"T:\\colin\\BRice\\gwas-gene-discoveryV2\\MLM.blupWidth.GWAS.Results\\filtered_snps.txt\"\n",
    "disc_genes=\"T:\\colin\\BRice\\gwas-gene-discoveryV2\\MLM.blupWidth.GWAS.Results\\summary_genes_discovered.txt\"\n",
    "args=\"T:\\colin\\BRice\\gwas-gene-discoveryV2\\MLM.blupWidth.GWAS.Results\\mock_keyword_list.txt\"\n",
    "genetab=\"T:\\colin\\BRice\\gwas-gene-discoveryV2\\MLM.blupWidth.GWAS.Results\\genetable.txt\""
   ]
  },
  {
   "cell_type": "markdown",
   "metadata": {},
   "source": [
    "##### The solution might be write a super function that has all the aspects of 3 functions: summary, knetapi and  knetsummary"
   ]
  },
  {
   "cell_type": "code",
   "execution_count": null,
   "metadata": {},
   "outputs": [],
   "source": [
    "def superfunction(filtered_snps, disc_genes, genetab):\n",
    "    '''this function will extract all the information needed for summary file\n",
    "    then it downloads the genetable and takes the relevant info from it\n",
    "    then it produces network ulr for each gene\n",
    "    and finally it prints all those information into one summary file.'''\n",
    "    \n",
    "    with open(filtered_snps, \"r\") as fr:\n",
    "        next(fr)\n",
    "        with open(disc_genes, \"w\") as fs:\n",
    "            print(\"gene\\tchromosome\\tSNPnum\\tsnpBP\\tP\\tlogP\\tSNPefff\\tALLELE\\tDescription\\tStrand\\tKnetScore\\tNetworks\", file=fs)\n",
    "        #defining the phenotype-describing keywords to use.\n",
    "            with open(genetab, \"w\") as fj:\n",
    "                knetgene = []\n",
    "                with open(args, \"r\") as fl:\n",
    "                    pheno=[]\n",
    "                    for line in fl:\n",
    "                        pheno.append(line.rstrip())\n",
    "                        keyw1 = \"%20OR%20\".join(\"({})\".format(i.replace(\" \", \"+AND+\")) for i in pheno)\n",
    "                        keyw2 = \"+OR+\".join(\"({})\".format(i.replace(\" \", \"+AND+\")) for i in pheno)\n",
    "                    print(pheno)\n",
    "                    print(keyw1)\n",
    "                    print(keyw2)         \n",
    "            \n",
    "                    #obtaining value for variables from the filtered list of SNPs.\n",
    "                    for line in fr:\n",
    "                        col = line.split(\"\\t\")\n",
    "                        chrom = col[1]\n",
    "                        position = int(col[2])\n",
    "                        start = position - 1000\n",
    "                        end = position - 1000\n",
    "                        snpnum = col [0]\n",
    "                        pval = col[3]\n",
    "                        logP = col[4]\n",
    "                        snpeffect = col[5]\n",
    "                        alleleinfo = str(col[6]).replace(\"\\n\", \"\")\n",
    "\n",
    "                        #obtaining value for gene variable\n",
    "                        server = \"http://rest.ensembl.org\"\n",
    "                        ext = \"/overlap/region/oryza_sativa/{}:{}-{}:1?feature=gene\".format(chrom, start, end)\n",
    "                        r = requests.get(server+ext, headers={ \"Content-Type\" : \"application/json\"})\n",
    "                        print(server + ext)\n",
    "\n",
    "                        if len(r.json()) != 0:\n",
    "                            decoded = r.json()[0]\n",
    "                            gene = str(decoded[u'gene_id'])\n",
    "                            description = decoded[u'description']\n",
    "                            sense = decoded[u'description']\n",
    "\n",
    "\n",
    "                        #obtaining the KnetScore\n",
    "                        knetgenes.append(gene) # collecting all of the genes\n",
    "                    genelist = (\",\").join(Knetgenes)\n",
    "                    link = \"http://knetminer.rothamsted.ac.uk/riceknet/genome?\"\n",
    "                    parameters = {\"keyword\":keyw1, \"list\":genelist}\n",
    "                    r = requests.get(link, params=parameters)\n",
    "                    if no r.ok:\n",
    "                        r.raise_for_status()\n",
    "                        sys.exit()\n",
    "                    content = str(r.json()[u'geneTable'])\n",
    "                    print(content, file=fj)\n",
    "                    fj.readfile()\n",
    "                    for line in fj:\n",
    "                        if line == \"\\n\":\n",
    "                        continue\n",
    "                    col = line.split(\"\\t\")\n",
    "                    score=str(col[6])\n",
    "                    #obtaining url to networks\n",
    "                    link=\"http://knetminer.rothamsted.ac.uk/riceknet/genepage?list={}&keyword={}\".format(genes, keyw2)\n",
    "                    r=requests.get(link)\n",
    "                    print(r.url)\n",
    "                    \n",
    "                            print(\"{}\\t{}\\t{}\\t{}\\t{}\\t{}\\t{}\\t{}\\t{}\\t{}\".format(gene, chrom, snpnum, position, pval, logP, snpeffect, alleleinfo, description, sense, score, r.url), file=fs)\n",
    "                    \n",
    "                    \n",
    "                    \n",
    "                    \n",
    "                    \n",
    "                    \n",
    "                    \n",
    "                \n",
    "                    "
   ]
  }
 ],
 "metadata": {
  "kernelspec": {
   "display_name": "Python 2",
   "language": "python",
   "name": "python2"
  },
  "language_info": {
   "codemirror_mode": {
    "name": "ipython",
    "version": 2
   },
   "file_extension": ".py",
   "mimetype": "text/x-python",
   "name": "python",
   "nbconvert_exporter": "python",
   "pygments_lexer": "ipython2",
   "version": "2.7.15"
  }
 },
 "nbformat": 4,
 "nbformat_minor": 2
}
