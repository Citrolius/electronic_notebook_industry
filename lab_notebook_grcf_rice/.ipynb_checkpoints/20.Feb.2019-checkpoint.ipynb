{
 "cells": [
  {
   "cell_type": "markdown",
   "metadata": {},
   "source": [
    "I have wrote a new script which:\n",
    "\n",
    "1) reads the list of genes from Results_formated_gene_and_designation.txt and inputs them into the API url for knetminer with a keywords list. Download knetminer json.\n",
    "2) Parse the knetminer json file to extract the gene table.\n",
    "\n",
    "The script can also potentially extract only genes and their scores from that json file.\n",
    "\n",
    "script found in /gwas-gene-discovery/search_knetminer/prototype_knetsearch.py"
   ]
  },
  {
   "cell_type": "markdown",
   "metadata": {},
   "source": [
    "Potential parameters for the script:"
   ]
  },
  {
   "cell_type": "code",
   "execution_count": null,
   "metadata": {},
   "outputs": [],
   "source": [
    "'''\n",
    "1) Gwas gapit output in csv\n",
    "2) Annotation file in txt\n",
    "\n",
    "One and two are outside of script. The script must read from them.\n",
    "\n",
    "3) Distance from snp in bp / possibly LD (MIGHT NOT BE NEEDED)\n",
    "4) logP value, integer inverse of p-value\n",
    "\n",
    "Three and four are within functions and there must change according to user input.\n",
    "\n",
    "5) make one directory for each gapit output. Never 2 gapit output in same file since it will cause overwriting.\n",
    "'''"
   ]
  },
  {
   "cell_type": "markdown",
   "metadata": {},
   "source": [
    "Version 4 is the most stable script so far, version 5 in development."
   ]
  },
  {
   "cell_type": "markdown",
   "metadata": {},
   "source": [
    "### Help message + parameter using argparse\n",
    "\n",
    "Read type section of https://docs.python.org/2/library/argparse.html#type + https://docs.python.org/3/library/argparse.html\n"
   ]
  },
  {
   "cell_type": "code",
   "execution_count": null,
   "metadata": {},
   "outputs": [],
   "source": [
    "parser = argparse.ArgumentParser()\n",
    "parser.add_argument('--length', help=<\"whatever\">)"
   ]
  },
  {
   "cell_type": "markdown",
   "metadata": {},
   "source": [
    "By default object.add_argument(<>) only takes parameter as strings unless you specify type."
   ]
  },
  {
   "cell_type": "markdown",
   "metadata": {},
   "source": [
    "To use input files:"
   ]
  },
  {
   "cell_type": "code",
   "execution_count": null,
   "metadata": {},
   "outputs": [],
   "source": [
    "parser = argparse.ArgumentParser()\n",
    "parser.add_argument(\"<input file>\", type=argparse.Filetype(\"r\"))\n",
    "parser.parse_args([\"<input file\"])"
   ]
  },
  {
   "cell_type": "markdown",
   "metadata": {},
   "source": [
    "# UPDATE. The script version 5 now works for Knetminer search. Things to further the script. The pull request has gone wrong because of virtual environment."
   ]
  },
  {
   "cell_type": "markdown",
   "metadata": {},
   "source": [
    "1) Add extra column to scores.txt for hyperlinks to genes.\n",
    "2) translate the entire python script into java so you can "
   ]
  },
  {
   "cell_type": "markdown",
   "metadata": {},
   "source": [
    "# you also needed to add a .gitignore to ignore all files other than code in your local repository before you do the commit because otherwise 3000 files were in pull request."
   ]
  },
  {
   "cell_type": "code",
   "execution_count": null,
   "metadata": {},
   "outputs": [],
   "source": [
    "#git bash\n",
    "\n",
    "touch .gitignore #will ignore all files other than code.\n",
    "#within the local repository.\n",
    "/t/colin/BRice/gwas-gene-discovery"
   ]
  },
  {
   "cell_type": "code",
   "execution_count": null,
   "metadata": {},
   "outputs": [],
   "source": [
    "#inside the gitignore\n",
    "# folders\n",
    ".vs/*\n",
    "rice27/*\n",
    "search_knetminer/27pyject/*\n",
    "search_knetminer/archive/proj27/*"
   ]
  },
  {
   "cell_type": "markdown",
   "metadata": {},
   "source": [
    "# NEVER EVER PUT ANY VIRTUAL ENVIRONMENT IN A GIT LOCAL REPOSITORY!!!!!!!!!!"
   ]
  },
  {
   "cell_type": "markdown",
   "metadata": {},
   "source": [
    "1) Always make a standard .gitignore file in the future within your local repository.\n",
    "2) Always put virtual environment folder outside of a local repository"
   ]
  }
 ],
 "metadata": {
  "kernelspec": {
   "display_name": "Python 3",
   "language": "python",
   "name": "python3"
  },
  "language_info": {
   "codemirror_mode": {
    "name": "ipython",
    "version": 3
   },
   "file_extension": ".py",
   "mimetype": "text/x-python",
   "name": "python",
   "nbconvert_exporter": "python",
   "pygments_lexer": "ipython3",
   "version": "3.7.1"
  }
 },
 "nbformat": 4,
 "nbformat_minor": 2
}
