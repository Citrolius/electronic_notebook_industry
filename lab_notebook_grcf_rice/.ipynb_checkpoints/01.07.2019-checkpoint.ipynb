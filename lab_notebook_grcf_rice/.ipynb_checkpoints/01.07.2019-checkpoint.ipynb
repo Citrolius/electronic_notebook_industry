{
 "cells": [
  {
   "cell_type": "markdown",
   "metadata": {},
   "source": [
    "# Decoding hdf5 file"
   ]
  },
  {
   "cell_type": "code",
   "execution_count": 7,
   "metadata": {},
   "outputs": [],
   "source": [
    "import h5py\n",
    "import numpy as np\n",
    "import pandas as pd\n",
    "import requests"
   ]
  },
  {
   "cell_type": "code",
   "execution_count": 8,
   "metadata": {},
   "outputs": [],
   "source": [
    "hfile=\"T:/colin/BRice/AraGWAS_probe/287.hdf5\""
   ]
  },
  {
   "cell_type": "code",
   "execution_count": 9,
   "metadata": {},
   "outputs": [],
   "source": [
    "f = h5py.File(hfile)"
   ]
  },
  {
   "cell_type": "code",
   "execution_count": 10,
   "metadata": {},
   "outputs": [
    {
     "data": {
      "text/plain": [
       "[u'pvalues', u'quantiles']"
      ]
     },
     "execution_count": 10,
     "metadata": {},
     "output_type": "execute_result"
    }
   ],
   "source": [
    "f.keys()"
   ]
  },
  {
   "cell_type": "markdown",
   "metadata": {},
   "source": [
    "### Convert the quantile branch of information into numpy arrays."
   ]
  },
  {
   "cell_type": "code",
   "execution_count": 12,
   "metadata": {},
   "outputs": [
    {
     "name": "stdout",
     "output_type": "stream",
     "text": [
      "2\n",
      "1000\n",
      "1000\n"
     ]
    }
   ],
   "source": [
    "quantile_branch=np.array(f[u'quantiles'])\n",
    "print(len(quantile_branch))\n",
    "\n",
    "log_quantiles=np.array(f[u'quantiles'][u'log_quantiles'])\n",
    "print(len(log_quantiles))\n",
    "\n",
    "quantiles=np.array(f[u'quantiles'][u'quantiles'])\n",
    "print(len(quantiles))"
   ]
  },
  {
   "cell_type": "markdown",
   "metadata": {},
   "source": [
    "### Convert the pvalue branch of information into numpy arrays."
   ]
  },
  {
   "cell_type": "code",
   "execution_count": 13,
   "metadata": {},
   "outputs": [
    {
     "name": "stdout",
     "output_type": "stream",
     "text": [
      "[u'chr1' u'chr2' u'chr3' u'chr4' u'chr5']\n"
     ]
    }
   ],
   "source": [
    "pvalues_branch=np.array(f[u'pvalues'])\n",
    "print(pvalues_branch)"
   ]
  },
  {
   "cell_type": "markdown",
   "metadata": {},
   "source": [
    "###### Extract only chromosome 2 and chromosome 4 as subset."
   ]
  },
  {
   "cell_type": "code",
   "execution_count": 14,
   "metadata": {},
   "outputs": [
    {
     "name": "stdout",
     "output_type": "stream",
     "text": [
      "[u'macs' u'mafs' u'positions' u'scores' u'variance_explained']\n"
     ]
    }
   ],
   "source": [
    "chrom2=np.array(f[u'pvalues'][u'chr2'])\n",
    "print(chrom2)\n",
    "#obtaining mac, maf and other statst for chrom2\n",
    "chr2_MAC=np.array(f[u'pvalues'][u'chr2'][u'macs'])\n",
    "chr2_MAF=np.array(f[u'pvalues'][u'chr2'][u'mafs'])\n",
    "chr2_position=np.array(f[u'pvalues'][u'chr2'][u'positions'])\n",
    "chr2_scores=np.array(f[u'pvalues'][u'chr2'][u'scores'])\n",
    "chr2_variance_explained=np.array(f[u'pvalues'][u'chr2'][u'variance_explained'])\n",
    "\n",
    "chrom4=np.array(f[u'pvalues'][u'chr4'])\n",
    "chr4_MAC=np.array(f[u'pvalues'][u'chr4'][u'macs'])\n",
    "chr4_MAF=np.array(f[u'pvalues'][u'chr4'][u'mafs'])\n",
    "chr4_position=np.array(f[u'pvalues'][u'chr4'][u'positions'])\n",
    "chr4_scores=np.array(f[u'pvalues'][u'chr4'][u'scores'])\n",
    "chr4_variance_explained=np.array(f[u'pvalues'][u'chr4'][u'variance_explained'])"
   ]
  },
  {
   "cell_type": "code",
   "execution_count": 20,
   "metadata": {},
   "outputs": [
    {
     "name": "stdout",
     "output_type": "stream",
     "text": [
      "[6.89848827 6.36386918 6.30354196 6.21862334 6.151758   6.06681551\n",
      " 5.30565195 5.30565195 5.29527486 5.23017593 5.1956822  5.01843288\n",
      " 4.93817717 4.80542819 4.80542819 4.80542819 4.80542819 4.80542819\n",
      " 4.80542819 4.80542819 4.80542819 4.71013771 4.71013771 4.71013771\n",
      " 4.71013771 4.71013771 4.71013771 4.71013771 4.67263664 4.67263664\n",
      " 4.66750158 4.66750158 4.65798904 4.58536253 4.55473578 4.55473578\n",
      " 4.55473578 4.53387947 4.53387947 4.53387947 4.49151714 4.49151714\n",
      " 4.49151714 4.48129964 4.43496481 4.43496481 4.43496481 4.43311315\n",
      " 4.41586326 4.41004244]\n"
     ]
    }
   ],
   "source": [
    "print(chr2_scores[0:50])"
   ]
  },
  {
   "cell_type": "code",
   "execution_count": 21,
   "metadata": {},
   "outputs": [
    {
     "name": "stdout",
     "output_type": "stream",
     "text": [
      "[0.07298868 0.07143705 0.07049318 0.06945494 0.06866516 0.06317722\n",
      " 0.05689209 0.05689209 0.05803828 0.05493004 0.05652097 0.05481845\n",
      " 0.05272262 0.05264675 0.05264675 0.05264675 0.05264675 0.05264675\n",
      " 0.05264675 0.05264675 0.05264675 0.05065744 0.05065744 0.05065744\n",
      " 0.05065744 0.05065744 0.05065744 0.05065744 0.05109484 0.05109484\n",
      " 0.04950257 0.04950257 0.05091527 0.04996591 0.04969762 0.04969762\n",
      " 0.04969762 0.04906431 0.04906431 0.04906431 0.04840041 0.04840041\n",
      " 0.04840041 0.04827504 0.04796102 0.04796102 0.04796102 0.04819554\n",
      " 0.04799786 0.04789191]\n"
     ]
    }
   ],
   "source": [
    "print(chr2_variance_explained[0:50])"
   ]
  },
  {
   "cell_type": "markdown",
   "metadata": {},
   "source": [
    "### The API is empty!!!!!! SCRIPT BUG!!!!"
   ]
  },
  {
   "cell_type": "code",
   "execution_count": 57,
   "metadata": {},
   "outputs": [
    {
     "data": {
      "text/plain": [
       "u'<html><title>EnsEMBL::REST</title><body><pre>--- []\\n\\n</pre></body></html>'"
      ]
     },
     "execution_count": 57,
     "metadata": {},
     "output_type": "execute_result"
    }
   ],
   "source": [
    "API=\"http://rest.ensembl.org/overlap/region/oryza_sativa/12:22038458-22038458:1?feature=variation\"\n",
    "r=requests.get(API)\n",
    "\n",
    "r.text"
   ]
  },
  {
   "cell_type": "code",
   "execution_count": null,
   "metadata": {},
   "outputs": [],
   "source": []
  },
  {
   "cell_type": "code",
   "execution_count": null,
   "metadata": {},
   "outputs": [],
   "source": []
  }
 ],
 "metadata": {
  "kernelspec": {
   "display_name": "Python 2",
   "language": "python",
   "name": "python2"
  },
  "language_info": {
   "codemirror_mode": {
    "name": "ipython",
    "version": 2
   },
   "file_extension": ".py",
   "mimetype": "text/x-python",
   "name": "python",
   "nbconvert_exporter": "python",
   "pygments_lexer": "ipython2",
   "version": "2.7.15"
  }
 },
 "nbformat": 4,
 "nbformat_minor": 2
}
