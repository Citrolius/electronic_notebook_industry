{
 "cells": [
  {
   "cell_type": "markdown",
   "metadata": {},
   "source": [
    "# Decoding hdf5 file"
   ]
  },
  {
   "cell_type": "code",
   "execution_count": 9,
   "metadata": {},
   "outputs": [],
   "source": [
    "import h5py\n",
    "import numpy as np\n",
    "import pandas as pd"
   ]
  },
  {
   "cell_type": "code",
   "execution_count": 2,
   "metadata": {},
   "outputs": [],
   "source": [
    "hfile=\"T:/colin/BRice/AraGWAS_probe/287.hdf5\""
   ]
  },
  {
   "cell_type": "code",
   "execution_count": 3,
   "metadata": {},
   "outputs": [],
   "source": [
    "f = h5py.File(hfile)"
   ]
  },
  {
   "cell_type": "code",
   "execution_count": 4,
   "metadata": {},
   "outputs": [
    {
     "data": {
      "text/plain": [
       "[u'pvalues', u'quantiles']"
      ]
     },
     "execution_count": 4,
     "metadata": {},
     "output_type": "execute_result"
    }
   ],
   "source": [
    "f.keys()"
   ]
  },
  {
   "cell_type": "markdown",
   "metadata": {},
   "source": [
    "### Convert the quantile branch of information into numpy arrays."
   ]
  },
  {
   "cell_type": "code",
   "execution_count": 21,
   "metadata": {},
   "outputs": [
    {
     "name": "stdout",
     "output_type": "stream",
     "text": [
      "1000\n",
      "1000\n",
      "1000\n"
     ]
    }
   ],
   "source": [
    "quantile_branch=np.array(f[u'quantiles'])\n",
    "print(len(quantiles))\n",
    "\n",
    "log_quantiles=np.array(f[u'quantiles'][u'log_quantiles'])\n",
    "print(len(log_quantiles))\n",
    "\n",
    "quantiles=np.array(f[u'quantiles'][u'quantiles'])\n",
    "print(len(quantiles))"
   ]
  },
  {
   "cell_type": "markdown",
   "metadata": {},
   "source": [
    "### Convert the pvalue branch of information into numpy arrays."
   ]
  },
  {
   "cell_type": "code",
   "execution_count": 24,
   "metadata": {},
   "outputs": [
    {
     "name": "stdout",
     "output_type": "stream",
     "text": [
      "[u'chr1' u'chr2' u'chr3' u'chr4' u'chr5']\n"
     ]
    }
   ],
   "source": [
    "pvalues_branch=np.array(f[u'pvalues'])\n",
    "print(pvalues_branch)"
   ]
  },
  {
   "cell_type": "markdown",
   "metadata": {},
   "source": [
    "###### Extract only chromosome 2 and chromosome 4 as subset."
   ]
  },
  {
   "cell_type": "code",
   "execution_count": null,
   "metadata": {},
   "outputs": [],
   "source": [
    "chrom2=np.array(f[u'pvalues'][u'chr2'])\n",
    "print(chrom2)\n",
    "#obtaining mac, maf ans other statst for chrom2\n",
    "chr2_MAC=np.array(f[u'pvalues'][u'chr2'][u'macs'])\n",
    "chr2_MAF=np.array(f[u'pvalues'][u'chr2'][u'mafs'])\n",
    "chr2_position=np.array(f[u'pvalues'][u'chr2'][u'positions'])\n",
    "chr2_scores=np.array(f[u'pvalues'][u'chr2'][u'scores'])\n",
    "chr2_variance_explained=np.array(f[u'pvalues'][u'chr2'][u'variance_explained'])\n",
    "\n",
    "chrom4=np.array(f[u'pvalues'][u'chr4'])\n",
    "chr4_MAC=np.array(f[u'pvalues'][u'chr4'][u'macs'])\n",
    "chr4_MAF=np.array(f[u'pvalues'][u'chr4'][u'mafs'])\n",
    "chr4_position=np.array(f[u'pvalues'][u'chr4'][u'positions'])\n",
    "chr4_scores=np.array(f[u'pvalues'][u'chr4'][u'scores'])\n",
    "chr4_variance_explained=np.array(f[u'pvalues'][u'chr4'][u'variance_explained'])"
   ]
  },
  {
   "cell_type": "code",
   "execution_count": null,
   "metadata": {},
   "outputs": [],
   "source": []
  },
  {
   "cell_type": "code",
   "execution_count": null,
   "metadata": {},
   "outputs": [],
   "source": []
  }
 ],
 "metadata": {
  "kernelspec": {
   "display_name": "Python 2",
   "language": "python",
   "name": "python2"
  },
  "language_info": {
   "codemirror_mode": {
    "name": "ipython",
    "version": 2
   },
   "file_extension": ".py",
   "mimetype": "text/x-python",
   "name": "python",
   "nbconvert_exporter": "python",
   "pygments_lexer": "ipython2",
   "version": "2.7.15"
  }
 },
 "nbformat": 4,
 "nbformat_minor": 2
}
