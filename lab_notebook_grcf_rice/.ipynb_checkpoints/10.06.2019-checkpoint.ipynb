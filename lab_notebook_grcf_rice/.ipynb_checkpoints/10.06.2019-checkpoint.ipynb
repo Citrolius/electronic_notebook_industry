{
 "cells": [
  {
   "cell_type": "code",
   "execution_count": null,
   "metadata": {},
   "outputs": [],
   "source": [
    "import requests, ast"
   ]
  },
  {
   "cell_type": "code",
   "execution_count": 75,
   "metadata": {},
   "outputs": [],
   "source": [
    "disc_genes=\"T:\\colin\\BRice\\gwas-gene-discoveryV2\\MLM.DTF.GWAS.Results\\summary_genes_discovered.txt\"\n",
    "filtered_snps=\"T:\\colin\\BRice\\gwas-gene-discoveryV2\\MLM.blupwidth.GWAS.Results\\filtered_snps.txt\""
   ]
  },
  {
   "cell_type": "code",
   "execution_count": 74,
   "metadata": {},
   "outputs": [
    {
     "ename": "IOError",
     "evalue": "[Errno 22] invalid mode ('r') or filename: 'T:\\\\colin\\\\BRice\\\\gwas-gene-discoveryV2\\\\MLM.DTF.GWAS.Results\\x0ciltered_snps.txt'",
     "output_type": "error",
     "traceback": [
      "\u001b[1;31m---------------------------------------------------------------------------\u001b[0m",
      "\u001b[1;31mIOError\u001b[0m                                   Traceback (most recent call last)",
      "\u001b[1;32m<ipython-input-74-3cf15277a470>\u001b[0m in \u001b[0;36m<module>\u001b[1;34m()\u001b[0m\n\u001b[0;32m     31\u001b[0m             \u001b[0msense\u001b[0m \u001b[1;33m=\u001b[0m \u001b[0mdecoded\u001b[0m\u001b[1;33m[\u001b[0m\u001b[1;34mu'description'\u001b[0m\u001b[1;33m]\u001b[0m\u001b[1;33m\u001b[0m\u001b[0m\n\u001b[0;32m     32\u001b[0m \u001b[1;33m\u001b[0m\u001b[0m\n\u001b[1;32m---> 33\u001b[1;33m \u001b[0msummary\u001b[0m\u001b[1;33m(\u001b[0m\u001b[0mfiltered_snps\u001b[0m\u001b[1;33m,\u001b[0m \u001b[0mdisc_genes\u001b[0m\u001b[1;33m)\u001b[0m\u001b[1;33m\u001b[0m\u001b[0m\n\u001b[0m",
      "\u001b[1;32m<ipython-input-74-3cf15277a470>\u001b[0m in \u001b[0;36msummary\u001b[1;34m(filtered_snps, disc_genes)\u001b[0m\n\u001b[0;32m      2\u001b[0m     '''Query on ensembl for genes ocurring within a specified distance in bp of each significant SNPs.\n\u001b[0;32m      3\u001b[0m     Produce a summary file of the genes as well as the phenotypes and functions linked to the genes provided by ensembl.'''\n\u001b[1;32m----> 4\u001b[1;33m     \u001b[1;32mwith\u001b[0m \u001b[0mopen\u001b[0m\u001b[1;33m(\u001b[0m\u001b[0mfiltered_snps\u001b[0m\u001b[1;33m,\u001b[0m \u001b[1;34m\"r\"\u001b[0m\u001b[1;33m)\u001b[0m \u001b[1;32mas\u001b[0m \u001b[0mfr\u001b[0m\u001b[1;33m:\u001b[0m\u001b[1;33m\u001b[0m\u001b[0m\n\u001b[0m\u001b[0;32m      5\u001b[0m         \u001b[0mnext\u001b[0m\u001b[1;33m(\u001b[0m\u001b[0mfr\u001b[0m\u001b[1;33m)\u001b[0m\u001b[1;33m\u001b[0m\u001b[0m\n\u001b[0;32m      6\u001b[0m         \u001b[1;32mfor\u001b[0m \u001b[0mline\u001b[0m \u001b[1;32min\u001b[0m \u001b[0mfr\u001b[0m\u001b[1;33m:\u001b[0m\u001b[1;33m\u001b[0m\u001b[0m\n",
      "\u001b[1;31mIOError\u001b[0m: [Errno 22] invalid mode ('r') or filename: 'T:\\\\colin\\\\BRice\\\\gwas-gene-discoveryV2\\\\MLM.DTF.GWAS.Results\\x0ciltered_snps.txt'"
     ]
    }
   ],
   "source": [
    "def summary(filtered_snps, disc_genes):\n",
    "    '''Query on ensembl for genes ocurring within a specified distance in bp of each significant SNPs.\n",
    "    Produce a summary file of the genes as well as the phenotypes and functions linked to the genes provided by ensembl.'''\n",
    "    with open(filtered_snps, \"r\") as fr:\n",
    "        next(fr)\n",
    "        for line in fr:\n",
    "            col = line.split(\"\\t\")\n",
    "            chrom = col[1]\n",
    "            position = int(col[2])\n",
    "            start = position - args.d\n",
    "            end = position + args.d\n",
    "            snpnum = col[0]\n",
    "            pval = col[3]\n",
    "            logP = col[4]\n",
    "            snpeffect = col[5]\n",
    "            alleleinfo = str(col[6]).replace(\"\\n\", \"\")\n",
    "\n",
    "            #ASK KEYWAN WHY WE WANT TO PUT THE SNP'S POSITION INTO OUR FILE INSTEAD OF GENE BP range?\n",
    "            #server = \"http://rest.ensemblgenomes.org\"\n",
    "            server = \"http://rest.ensembl.org\"\n",
    "            ext = \"/overlap/region/oryza_sativa/{}:{}-{}:1?feature=gene\".format(chrom, start, end)\n",
    "\n",
    "            r = requests.get(server+ext, headers={ \"Content-Type\" : \"application/json\"})\n",
    "\n",
    "\n",
    "        #print(r.json())\n",
    "        if len(r.json()) != 0:\n",
    "            decoded=r.json()[0]\n",
    "            gene = decoded[u'gene_id']\n",
    "            description = decoded[u'description']\n",
    "            sense = decoded[u'description']\n",
    "                    \n",
    "summary(filtered_snps, disc_genes)"
   ]
  },
  {
   "cell_type": "raw",
   "metadata": {},
   "source": [
    "{u'assembly_name': u'IRGSP-1.0', u'end': 6573172, u'description': None, u'start': 6571285, u'logic_name': u'gff3_genes', u'gene_id': u'Os07g0218600', u'source': u'RAP2018-11-26', u'biotype': u'protein_coding', u'seq_region_name': u'7', u'id': u'Os07g0218600', u'strand': -1, u'feature_type': u'gene'}\n"
   ]
  },
  {
   "cell_type": "code",
   "execution_count": null,
   "metadata": {},
   "outputs": [],
   "source": []
  }
 ],
 "metadata": {
  "kernelspec": {
   "display_name": "Python 2",
   "language": "python",
   "name": "python2"
  },
  "language_info": {
   "codemirror_mode": {
    "name": "ipython",
    "version": 2
   },
   "file_extension": ".py",
   "mimetype": "text/x-python",
   "name": "python",
   "nbconvert_exporter": "python",
   "pygments_lexer": "ipython2",
   "version": "2.7.15"
  }
 },
 "nbformat": 4,
 "nbformat_minor": 2
}
