{
 "cells": [
  {
   "cell_type": "code",
   "execution_count": null,
   "metadata": {},
   "outputs": [],
   "source": [
    "parser = argparse.ArgumentParser(description=\"This script requires an gwas results file (preferably gapit) in csv and an annotation file in txt as input. Threshold of logP can be selected.\")\n",
    "parser.add_argument(\"--file\", help=\"gapit results file with csv extension\")\n",
    "parser.add_argument(\"--logP\", help=\"a chosen logP threshold for filtering snps\", type=int)\n",
    "args = parser.parse_args()"
   ]
  },
  {
   "cell_type": "markdown",
   "metadata": {},
   "source": [
    "The reason you have the script working with input parameters is because you specify the input as strings of file name instead of the filetype which opens file like with as"
   ]
  },
  {
   "cell_type": "code",
   "execution_count": null,
   "metadata": {},
   "outputs": [],
   "source": [
    "def resformat(filter):\n",
    "    with open(args.file, \"r\") as fres:\n",
    "        next(fres)\n",
    "        with open(filter, \"w\") as flt:\n",
    "            snp = 0\n",
    "            print(\"{}\\t{}\\t{}\\t{}\\t{}\".format(\"SNPnum\",\"CHR\",\"snpBP\",\"P\",\"logP\"), file=flt)\n",
    "            for line in fres:\n",
    "                snp += 1\n",
    "                col = line.split(\",\")\n",
    "                chro = col[1]\n",
    "                bp = col[2]\n",
    "                pval = float(col[3])\n",
    "                logP = -math.log10(pval)\n",
    "                print('{}\\t{}\\t{}\\t{}\\t{}'.format(snp,chro,bp,pval,logP), file=flt)\n",
    "        flt.close()\n",
    "    fres.close()\n",
    "    return\n",
    "#End of block1"
   ]
  },
  {
   "cell_type": "markdown",
   "metadata": {},
   "source": [
    "The function already has open with as therefore you don't need argparse.FileType to open it again. Just specify the name as string."
   ]
  }
 ],
 "metadata": {
  "kernelspec": {
   "display_name": "Python 3",
   "language": "python",
   "name": "python3"
  },
  "language_info": {
   "codemirror_mode": {
    "name": "ipython",
    "version": 3
   },
   "file_extension": ".py",
   "mimetype": "text/x-python",
   "name": "python",
   "nbconvert_exporter": "python",
   "pygments_lexer": "ipython3",
   "version": "3.7.1"
  }
 },
 "nbformat": 4,
 "nbformat_minor": 2
}
