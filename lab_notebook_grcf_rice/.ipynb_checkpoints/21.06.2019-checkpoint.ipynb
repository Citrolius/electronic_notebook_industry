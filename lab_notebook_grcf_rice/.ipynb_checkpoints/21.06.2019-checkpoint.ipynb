{
 "cells": [
  {
   "cell_type": "code",
   "execution_count": 131,
   "metadata": {},
   "outputs": [],
   "source": [
    "import pandas as pd\n",
    "import numpy as np\n",
    "import requests"
   ]
  },
  {
   "cell_type": "code",
   "execution_count": 132,
   "metadata": {},
   "outputs": [],
   "source": [
    "kewy_list=\"T:\\colin\\BRice\\V2\\gwas-gene-discovery\\mock_keyword_list.txt\"\n",
    "disc_genes=\"T:\\colin\\BRice\\V2\\gwas-gene-discovery\\MLM.DTF.GWAS.Results\\summary_genes_discovered.txt\""
   ]
  },
  {
   "cell_type": "code",
   "execution_count": 133,
   "metadata": {},
   "outputs": [],
   "source": [
    "def append_summary(disc_genes):\n",
    "    with open(kewy_list, \"r\") as fk:\n",
    "        pheno=[]\n",
    "        for line in fk:\n",
    "            pheno.append(line.rstrip())\n",
    "        print(pheno)\n",
    "        summary=pd.read_csv(disc_genes, sep=\"\\t\")\n",
    "\n",
    "        #creating knetminer genepage urls.\n",
    "        network_view=[]\n",
    "        keyw2 = \"+OR+\".join(\"({})\".format(i.replace(\" \", \"+AND+\")) for i in pheno)\n",
    "        print(keyw2)\n",
    "        for i in summary[u'GENE']:\n",
    "            link=\"http://knetminer.rothamsted.ac.uk/{}/genepage?list={}&keyword={}\".format(\"riceknet\", i, keyw2)\n",
    "            r=requests.get(link)\n",
    "            network_view.append(r.url)\n",
    "            #look a few days back on how to make this a new column of genetable.\n",
    "        \n",
    "        \n",
    "        #obtaining knetscores for genes\n",
    "        keyw1 = \"%20OR%20\".join(\"({})\".format(i.replace(\" \", \"+AND+\")) for i in pheno)\n",
    "        genestr=(\",\").join(list(summary[u'GENE']))\n",
    "        link=\"http://knetminer.rothamsted.ac.uk/riceknet/genome?\"\n",
    "        parameters={\"keyword\":keyw1, \"list\":genestr}\n",
    "        r=requests.get(link, params=parameters)\n",
    "        \n",
    "        #check if requests is successful\n",
    "        if not r.ok:\n",
    "                r.raise_for_status()\n",
    "                sys.exit()\n",
    "\n",
    "        #extract unicode string of geneTable decoded from json\n",
    "        decoded=r.json()[u'geneTable'].split(\"\\t\")\n",
    "        #remove space or newline at the end\n",
    "        decoded=(decoded)[:-1]\n",
    "        \n",
    "        colnum=9\n",
    "        #tabulate genetable into 9 columns.\n",
    "        genetable=np.array(decoded).reshape(len(decoded)//colnum, colnum)\n",
    "        genetable=pd.DataFrame(genetable[1:,:], columns=genetable[0,:])\n",
    "        \n",
    "        knetgenes=list(genetable[u'ACCESSION'])\n",
    "        knetscores=list(genetable[u'SCORE'])\n",
    "        \n",
    "        knetdict=dict(zip(knetgenes, knetscores))\n",
    "        ordered_score=[]\n",
    "        for i in summary[u'GENE']:\n",
    "            i=i.upper()\n",
    "            #print(i)\n",
    "            #print(knetdict[u'{}'.format(i)])\n",
    "            ordered_score.append(knetdict[u'{}'.format(i)])\n",
    "        #print(ordered_score)\n",
    "        summary[u'SCORE'] = ordered_score\n",
    "        summary[u'network_view']=network_view\n",
    "\n",
    "        summary.to_csv(disc_genes, sep=\"\\t\", index=False)\n",
    "        #return summary"
   ]
  },
  {
   "cell_type": "code",
   "execution_count": 134,
   "metadata": {},
   "outputs": [
    {
     "name": "stdout",
     "output_type": "stream",
     "text": [
      "['Germination', 'Coleoptile length', 'Mesocotyl length']\n",
      "(Germination)+OR+(Coleoptile+AND+length)+OR+(Mesocotyl+AND+length)\n"
     ]
    },
    {
     "ename": "NameError",
     "evalue": "global name 'false' is not defined",
     "output_type": "error",
     "traceback": [
      "\u001b[1;31m---------------------------------------------------------------------------\u001b[0m",
      "\u001b[1;31mNameError\u001b[0m                                 Traceback (most recent call last)",
      "\u001b[1;32m<ipython-input-134-f769c0f918fb>\u001b[0m in \u001b[0;36m<module>\u001b[1;34m()\u001b[0m\n\u001b[1;32m----> 1\u001b[1;33m \u001b[0mappend_summary\u001b[0m\u001b[1;33m(\u001b[0m\u001b[0mdisc_genes\u001b[0m\u001b[1;33m)\u001b[0m\u001b[1;33m\u001b[0m\u001b[0m\n\u001b[0m",
      "\u001b[1;32m<ipython-input-133-bc43c7d3081b>\u001b[0m in \u001b[0;36mappend_summary\u001b[1;34m(disc_genes)\u001b[0m\n\u001b[0;32m     54\u001b[0m         \u001b[0msummary\u001b[0m\u001b[1;33m[\u001b[0m\u001b[1;34mu'network_view'\u001b[0m\u001b[1;33m]\u001b[0m\u001b[1;33m=\u001b[0m\u001b[0mnetwork_view\u001b[0m\u001b[1;33m\u001b[0m\u001b[0m\n\u001b[0;32m     55\u001b[0m \u001b[1;33m\u001b[0m\u001b[0m\n\u001b[1;32m---> 56\u001b[1;33m         \u001b[0msummary\u001b[0m\u001b[1;33m.\u001b[0m\u001b[0mto_csv\u001b[0m\u001b[1;33m(\u001b[0m\u001b[0mdisc_genes\u001b[0m\u001b[1;33m,\u001b[0m \u001b[0msep\u001b[0m\u001b[1;33m=\u001b[0m\u001b[1;34m\"\\t\"\u001b[0m\u001b[1;33m,\u001b[0m \u001b[0mindex\u001b[0m\u001b[1;33m=\u001b[0m\u001b[0mfalse\u001b[0m\u001b[1;33m)\u001b[0m\u001b[1;33m\u001b[0m\u001b[0m\n\u001b[0m\u001b[0;32m     57\u001b[0m         \u001b[1;31m#return summary\u001b[0m\u001b[1;33m\u001b[0m\u001b[1;33m\u001b[0m\u001b[0m\n",
      "\u001b[1;31mNameError\u001b[0m: global name 'false' is not defined"
     ]
    }
   ],
   "source": [
    "append_summary(disc_genes)"
   ]
  },
  {
   "cell_type": "code",
   "execution_count": null,
   "metadata": {},
   "outputs": [],
   "source": []
  },
  {
   "cell_type": "code",
   "execution_count": null,
   "metadata": {},
   "outputs": [],
   "source": []
  }
 ],
 "metadata": {
  "kernelspec": {
   "display_name": "Python 2",
   "language": "python",
   "name": "python2"
  },
  "language_info": {
   "codemirror_mode": {
    "name": "ipython",
    "version": 2
   },
   "file_extension": ".py",
   "mimetype": "text/x-python",
   "name": "python",
   "nbconvert_exporter": "python",
   "pygments_lexer": "ipython2",
   "version": "2.7.15"
  }
 },
 "nbformat": 4,
 "nbformat_minor": 2
}
