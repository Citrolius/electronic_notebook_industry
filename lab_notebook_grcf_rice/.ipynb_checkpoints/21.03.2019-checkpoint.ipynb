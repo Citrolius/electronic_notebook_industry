{
 "cells": [
  {
   "cell_type": "markdown",
   "metadata": {},
   "source": [
    "The DSE paper used JGI pipeline to annotate their species of fungi. JGI is automated so is it not used due to lack of parameter adjustments."
   ]
  },
  {
   "cell_type": "markdown",
   "metadata": {},
   "source": [
    "# ask rob the following\n",
    "\n",
    "Why PGI David's pipeline over JGI? Confirm.\n",
    "What species do Sample5 and Sample307 come from."
   ]
  },
  {
   "cell_type": "markdown",
   "metadata": {},
   "source": [
    "fastqc results show that the fastq reads for both samples come from Illumina 1.9. Is this truseq 3 paired end?"
   ]
  },
  {
   "cell_type": "markdown",
   "metadata": {},
   "source": [
    "Ran both sample's paired reads through trimmomatic. Settings being trailing quality 25 and MINLEN 100bp."
   ]
  },
  {
   "cell_type": "markdown",
   "metadata": {},
   "source": [
    "Total Sequences\tBefore Trimmmomatic was 13932067"
   ]
  }
 ],
 "metadata": {
  "kernelspec": {
   "display_name": "Python 2",
   "language": "python",
   "name": "python2"
  },
  "language_info": {
   "codemirror_mode": {
    "name": "ipython",
    "version": 2
   },
   "file_extension": ".py",
   "mimetype": "text/x-python",
   "name": "python",
   "nbconvert_exporter": "python",
   "pygments_lexer": "ipython2",
   "version": "2.7.15"
  }
 },
 "nbformat": 4,
 "nbformat_minor": 2
}
