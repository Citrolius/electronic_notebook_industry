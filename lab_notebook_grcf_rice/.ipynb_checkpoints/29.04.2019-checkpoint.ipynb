{
 "cells": [
  {
   "cell_type": "markdown",
   "metadata": {},
   "source": [
    "# Status surrounding pipeline development."
   ]
  },
  {
   "cell_type": "markdown",
   "metadata": {},
   "source": [
    "### Things to add"
   ]
  },
  {
   "cell_type": "markdown",
   "metadata": {},
   "source": [
    " - Translate the script into java?\n",
    " - Tidying the old scripts, i.e. functions, file produced have same names?\n",
    " - The r request check status if statement from ensembl.\n",
    " - possibly shortening the script folder by not downloading the genome.json but instead getting genetable directly."
   ]
  },
  {
   "cell_type": "code",
   "execution_count": null,
   "metadata": {},
   "outputs": [],
   "source": []
  }
 ],
 "metadata": {
  "kernelspec": {
   "display_name": "Python 2",
   "language": "python",
   "name": "python2"
  },
  "language_info": {
   "codemirror_mode": {
    "name": "ipython",
    "version": 2
   },
   "file_extension": ".py",
   "mimetype": "text/x-python",
   "name": "python",
   "nbconvert_exporter": "python",
   "pygments_lexer": "ipython2",
   "version": "2.7.15"
  }
 },
 "nbformat": 4,
 "nbformat_minor": 2
}
