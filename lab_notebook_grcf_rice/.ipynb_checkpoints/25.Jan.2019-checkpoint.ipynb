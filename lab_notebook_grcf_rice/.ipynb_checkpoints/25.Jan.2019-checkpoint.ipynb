{
 "cells": [
  {
   "cell_type": "markdown",
   "metadata": {},
   "source": [
    "# Draft 2 why it didn't work"
   ]
  },
  {
   "cell_type": "markdown",
   "metadata": {},
   "source": [
    "The order of files outputed by the script:\n",
    "1) GAPIT.MLM.DTF.GWAS.Results_formated.txt\n",
    "2) Results_formated_threshold.txt\n",
    "3) Results_formated_gdp_FINAL.txt\n",
    "4) Results_formated_gene.txt\n",
    "5) Results_formated_gene_and_designation.txxt"
   ]
  },
  {
   "cell_type": "markdown",
   "metadata": {},
   "source": [
    "Since results formated_genes_and_designation contain all the information of formated_genest.txt you decided to remove number 4) entirely."
   ]
  },
  {
   "cell_type": "markdown",
   "metadata": {},
   "source": [
    "We are missing results_formated_gdp_FINAL.txt and Results_formated_gene_and_designation.txt"
   ]
  },
  {
   "cell_type": "markdown",
   "metadata": {},
   "source": [
    "Some tidying first.\n",
    "1) the formated_result has been changed to filtered_result because format is just too tongue twisting and confusing with string formatting functions."
   ]
  },
  {
   "cell_type": "markdown",
   "metadata": {},
   "source": [
    "The reason why the 2 files were missing was because the absolute path provided used to be test folder.\n",
    "\n",
    "e.g."
   ]
  },
  {
   "cell_type": "code",
   "execution_count": null,
   "metadata": {},
   "outputs": [],
   "source": [
    "genedesign=\"T:/colin/BRice/test_folder/Results_formated_gene_and_designation.txt\"\n",
    "#instead of\n",
    "genedesign=\"T:/colin/BRice/discovery_pipeline/Results_formated_gene_and_designation.txt\""
   ]
  },
  {
   "cell_type": "markdown",
   "metadata": {},
   "source": [
    "# draft3 why it didn't work"
   ]
  },
  {
   "cell_type": "markdown",
   "metadata": {},
   "source": [
    "The reason is this block of code for 5) Results_formated_gene_and_designation.txxt"
   ]
  },
  {
   "cell_type": "code",
   "execution_count": null,
   "metadata": {},
   "outputs": [],
   "source": [
    "#This block won't work\n",
    "def getgenedesign(threshfile, genedesign):\n",
    "    with open(threshfile) as thresh:\n",
    "        next(thresh)\n",
    "        with open(genedesign, \"w\") as gd:\n",
    "            highlight = []\n",
    "            highlightdesign = []\n",
    "            for line in thresh:\n",
    "                #also do define logP\n",
    "                logP_threshold = 6\n",
    "                #and split the columns then define.\n",
    "                col = line.split(\"\\t\")\n",
    "                chr_snp = int(col[1])\n",
    "                bp_snp = int(col[2])\n",
    "                logP = float(col[4])\n",
    "                gene = findCloseGene(chr_snp, bp_snp)\n",
    "                design = findCloseGeneDesign(chr_snp, bp_snp)\n",
    "                for gene != \"FooBar\":\n",
    "                    if logP > logP_threshold:\n",
    "                        highlight.append(gene)\n",
    "                        highlightdesign.append(design)\n",
    "                        for design in set (highlightdesign):\n",
    "                            print(design, file=gd)\n",
    "        gd.close()\n",
    "    thresh.close()\n",
    "    return"
   ]
  },
  {
   "cell_type": "markdown",
   "metadata": {},
   "source": [
    "The logical operator != doesn't work without if else.\n",
    "if certainly works without else as demonstrated below."
   ]
  },
  {
   "cell_type": "code",
   "execution_count": 5,
   "metadata": {},
   "outputs": [
    {
     "name": "stdout",
     "output_type": "stream",
     "text": [
      "woo\n"
     ]
    }
   ],
   "source": [
    "x = 2\n",
    "\n",
    "if x != 3:\n",
    "    print(\"woo\")"
   ]
  },
  {
   "cell_type": "code",
   "execution_count": 7,
   "metadata": {},
   "outputs": [
    {
     "name": "stdout",
     "output_type": "stream",
     "text": [
      "woo\n"
     ]
    }
   ],
   "source": [
    "if x != 3 and x != 1:\n",
    "    print(\"woo\")"
   ]
  },
  {
   "cell_type": "markdown",
   "metadata": {},
   "source": [
    "Readings on compound ifs\n",
    "#https://docs.python.org/3.4/reference/compound_stmts.html\n",
    "#https://realpython.com/python-conditional-statements/#one-line-if-statements\n"
   ]
  },
  {
   "cell_type": "code",
   "execution_count": null,
   "metadata": {},
   "outputs": [],
   "source": [
    "#This block will work\n",
    "def getgenedesign(threshfile, genedesign):\n",
    "    with open(threshfile) as thresh:\n",
    "        next(thresh)\n",
    "        with open(genedesign, \"w\") as gd:\n",
    "            highlight = []\n",
    "            highlightdesign = []\n",
    "            for line in thresh:\n",
    "                #also do define logP\n",
    "                logP_threshold = 6\n",
    "                #and split the columns then define.\n",
    "                col = line.split(\"\\t\")\n",
    "                chr_snp = int(col[1])\n",
    "                bp_snp = int(col[2])\n",
    "                logP = float(col[4])\n",
    "                gene = findCloseGene(chr_snp, bp_snp)\n",
    "                design = findCloseGeneDesign(chr_snp, bp_snp)\n",
    "\n",
    "#WHILE THIS works it didn't quite get the same parameters."
   ]
  },
  {
   "cell_type": "markdown",
   "metadata": {},
   "source": [
    "Instead you just defined a function that takes all 3 files as parameter."
   ]
  },
  {
   "cell_type": "markdown",
   "metadata": {},
   "source": [
    "# MAJOR UPDATE! MAJOR UPDATE! 12:13"
   ]
  },
  {
   "cell_type": "markdown",
   "metadata": {},
   "source": [
    "there appears to be some problems with the script in test folder. There should not be a scenario where file 1 contains a list of genes and file 2 contains the same list of genes just with annotations.\n",
    "\n",
    "The job is as follows."
   ]
  },
  {
   "cell_type": "markdown",
   "metadata": {},
   "source": [
    "### Check draft_5 with Keywan's script really carefully on the very last bits to make sure you have the logic correct. Understanding what results_formated_genes VS results_formated_gene_and_designations would help a lot.\n",
    "\n",
    "## Keywan might send you some result outputs with the original script. Check against them to be sure. THIS WILL BE THE RATE DETERMINING STEP.\n",
    "\n",
    "### After that, it's time to add extra functions that enables the script to interact with Knetminer's database. It's really just an extra-column on the last file.\n",
    "\n",
    "### You also still need to keep an eye on David's gcall script. Once it finishes, utilise blast2go.\n",
    "\n",
    "### Initiate the comparative genomics project in the next 2 weeks."
   ]
  },
  {
   "cell_type": "markdown",
   "metadata": {},
   "source": [
    "The biggest inconsistency really was the last script where it supposedly would output genes + annotation from txt file."
   ]
  }
 ],
 "metadata": {
  "kernelspec": {
   "display_name": "Python 3",
   "language": "python",
   "name": "python3"
  },
  "language_info": {
   "codemirror_mode": {
    "name": "ipython",
    "version": 3
   },
   "file_extension": ".py",
   "mimetype": "text/x-python",
   "name": "python",
   "nbconvert_exporter": "python",
   "pygments_lexer": "ipython3",
   "version": "3.7.1"
  }
 },
 "nbformat": 4,
 "nbformat_minor": 2
}
