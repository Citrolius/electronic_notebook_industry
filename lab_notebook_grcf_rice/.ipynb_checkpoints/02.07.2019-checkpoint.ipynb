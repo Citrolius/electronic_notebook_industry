{
 "cells": [
  {
   "cell_type": "code",
   "execution_count": 2,
   "metadata": {},
   "outputs": [],
   "source": [
    "import requests, sys"
   ]
  },
  {
   "cell_type": "code",
   "execution_count": 18,
   "metadata": {},
   "outputs": [
    {
     "data": {
      "text/plain": [
       "u'[{\"gene_id\":\"Os03g0122600\",\"logic_name\":\"gff3_genes\",\"strand\":-1,\"id\":\"Os03g0122600\",\"description\":null,\"start\":1270320,\"source\":\"RAP2018-11-26\",\"seq_region_name\":\"3\",\"end\":1300273,\"feature_type\":\"gene\",\"assembly_name\":\"IRGSP-1.0\",\"biotype\":\"protein_coding\"}]'"
      ]
     },
     "execution_count": 18,
     "metadata": {},
     "output_type": "execute_result"
    }
   ],
   "source": [
    "server = \"https://rest.ensembl.org\"\n",
    "ext = \"/overlap/region/oryza_sativa/3:1277045-1279045:1?feature=gene\"\n",
    " \n",
    "r = requests.get(server+ext, headers={ \"Content-Type\" : \"application/json\"})\n",
    " \n",
    "if not r.ok:\n",
    "  r.raise_for_status()\n",
    "  sys.exit()\n",
    " \n",
    "r.text"
   ]
  },
  {
   "cell_type": "code",
   "execution_count": 21,
   "metadata": {},
   "outputs": [
    {
     "data": {
      "text/plain": [
       "[{u'assembly_name': u'IRGSP-1.0',\n",
       "  u'biotype': u'protein_coding',\n",
       "  u'description': None,\n",
       "  u'end': 1300273,\n",
       "  u'feature_type': u'gene',\n",
       "  u'gene_id': u'Os03g0122600',\n",
       "  u'id': u'Os03g0122600',\n",
       "  u'logic_name': u'gff3_genes',\n",
       "  u'seq_region_name': u'3',\n",
       "  u'source': u'RAP2018-11-26',\n",
       "  u'start': 1270320,\n",
       "  u'strand': -1}]"
      ]
     },
     "execution_count": 21,
     "metadata": {},
     "output_type": "execute_result"
    }
   ],
   "source": [
    "link=\"http://rest.ensembl.org/overlap/region/oryza_sativa/6:2897059-2899059:1?feature=gene\"\n",
    "\n",
    "r = requests.get(server+ext, headers={ \"Content-Type\" : \"application/json\"})\n",
    "\n",
    "decoded=r.json()\n",
    "decoded"
   ]
  },
  {
   "cell_type": "markdown",
   "metadata": {},
   "source": [
    "### Empty API bug"
   ]
  },
  {
   "cell_type": "code",
   "execution_count": 14,
   "metadata": {},
   "outputs": [
    {
     "name": "stdout",
     "output_type": "stream",
     "text": [
      "true\n",
      "[]\n"
     ]
    }
   ],
   "source": [
    "server=\"http://rest.ensembl.org\"\n",
    "ext=\"/overlap/region/oryza_sativa/12:22038458-22038458:1?feature=variation\"\n",
    "r = requests.get(server+ext, headers={ \"Content-Type\" : \"application/json\"})\n",
    "#print(r.url)\n",
    "decoded = r.json()\n",
    "if decoded == []:\n",
    "    print(\"true\")\n",
    "else:\n",
    "    print(\"False\")\n",
    "print(decoded)\n",
    "\n",
    "#check if requests is successful\n",
    "if not r.ok:\n",
    "    r.raise_for_status()\n",
    "    sys.exit()\n",
    "\n",
    "    \n",
    "\n"
   ]
  },
  {
   "cell_type": "code",
   "execution_count": 32,
   "metadata": {},
   "outputs": [
    {
     "name": "stdout",
     "output_type": "stream",
     "text": [
      "NA from ensembl\n"
     ]
    }
   ],
   "source": [
    "server = \"http://rest.ensembl.org\"\n",
    "ext = \"/overlap/region/oryza_sativa/12:22038458-22038458:1?feature=variation\"\n",
    "r = requests.get(server+ext, headers={ \"Content-Type\" : \"application/json\"})\n",
    "\n",
    "#check if requests is successful\n",
    "if not r.ok:\n",
    "    r.raise_for_status()\n",
    "    sys.exit()\n",
    "#print(r.url)\n",
    "\n",
    "#processing data\n",
    "decoded = r.json()\n",
    "if decoded != []:\n",
    "    for i in decoded:\n",
    "        if i == \"\\n\":\n",
    "            continue\n",
    "        data=decoded[0]\n",
    "        snpeffect = str(data[u'consequence_type'])\n",
    "        alleleinfo = str(data[u'alleles'])\n",
    "elif decoded == []:\n",
    "        snpeffect = \"NA from ensembl\"\n",
    "        alleleinfo = \"NA from ensembl\"\n",
    "        print(snpeffect)\n",
    "        "
   ]
  },
  {
   "cell_type": "code",
   "execution_count": null,
   "metadata": {},
   "outputs": [],
   "source": []
  },
  {
   "cell_type": "markdown",
   "metadata": {},
   "source": [
    "## Functional"
   ]
  },
  {
   "cell_type": "code",
   "execution_count": 30,
   "metadata": {},
   "outputs": [
    {
     "name": "stdout",
     "output_type": "stream",
     "text": [
      "http://rest.ensembl.org/overlap/region/oryza_sativa/3:1278045-1278045:1?feature=variation\n",
      "intron_variant\n"
     ]
    }
   ],
   "source": [
    "server = \"http://rest.ensembl.org\"\n",
    "ext = \"/overlap/region/oryza_sativa/3:1278045-1278045:1?feature=variation\"\n",
    "r = requests.get(server+ext, headers={ \"Content-Type\" : \"application/json\"})\n",
    "print(r.url)\n",
    "\n",
    "#check if requests is successful\n",
    "if not r.ok:\n",
    "    r.raise_for_status()\n",
    "    sys.exit()\n",
    "#print(r.url)\n",
    "\n",
    "#processing data\n",
    "decoded = r.json()\n",
    "if decoded != []:\n",
    "    for i in decoded:\n",
    "        if i == \"\\n\":\n",
    "            continue\n",
    "        data=decoded[0]\n",
    "        snpeffect= str(data[u'consequence_type'])\n",
    "        alleleinfo=str(data[u'alleles'])\n",
    "        print(snpeffect)"
   ]
  },
  {
   "cell_type": "code",
   "execution_count": null,
   "metadata": {},
   "outputs": [],
   "source": []
  }
 ],
 "metadata": {
  "kernelspec": {
   "display_name": "Python 2",
   "language": "python",
   "name": "python2"
  },
  "language_info": {
   "codemirror_mode": {
    "name": "ipython",
    "version": 2
   },
   "file_extension": ".py",
   "mimetype": "text/x-python",
   "name": "python",
   "nbconvert_exporter": "python",
   "pygments_lexer": "ipython2",
   "version": "2.7.15"
  }
 },
 "nbformat": 4,
 "nbformat_minor": 2
}
