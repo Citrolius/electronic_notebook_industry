{
 "cells": [
  {
   "cell_type": "markdown",
   "metadata": {},
   "source": [
    "The glob module has failed. "
   ]
  },
  {
   "cell_type": "code",
   "execution_count": null,
   "metadata": {},
   "outputs": [],
   "source": [
    "res = path.abspath(path.join(pwdpath, \"..\", \"..\", glob.glob(*\"Results.csv\")))\n",
    "\n",
    "TypeError: glob() takes 1 positional argument but 11 were given"
   ]
  },
  {
   "cell_type": "markdown",
   "metadata": {},
   "source": [
    "Script version 3 will be for python IDE with relative path and glob.\n",
    "Script version 3.5 will be for bash terminal with relative path and glob."
   ]
  },
  {
   "cell_type": "markdown",
   "metadata": {},
   "source": [
    "# relative path python"
   ]
  },
  {
   "cell_type": "code",
   "execution_count": null,
   "metadata": {},
   "outputs": [],
   "source": [
    "from os import *\n",
    "\n",
    "with open(file, \"w\") as <something>:"
   ]
  },
  {
   "cell_type": "code",
   "execution_count": null,
   "metadata": {},
   "outputs": [],
   "source": [
    "TypeError: an integer is required (got type str)"
   ]
  },
  {
   "cell_type": "markdown",
   "metadata": {},
   "source": [
    "The above error occured because the first line conflicts with the natural open(). Instead of open(file) python thinks it's os.open(int)"
   ]
  },
  {
   "cell_type": "code",
   "execution_count": null,
   "metadata": {},
   "outputs": [],
   "source": [
    "from os import path\n",
    "\n",
    "pwdpath = path.dirname(__file__)\n",
    "filepath = path.abspath(path.join(pwdpath, \"..\", \"..\", \"<file name>\"))"
   ]
  },
  {
   "cell_type": "markdown",
   "metadata": {},
   "source": [
    "This method didn't quite wokr because instead of joining the absolute path with the path of the current working directory, it simply joined the current working directory with only the drive. e.g. t:\\\\colin\\\\GAPIT.MLM.DTF.GWAS.Results.csv \n"
   ]
  },
  {
   "cell_type": "markdown",
   "metadata": {},
   "source": [
    "use the path.relpath() to find the relative path then write the script as such?\n",
    "\n",
    "I did so and the outputs were the following:"
   ]
  },
  {
   "cell_type": "code",
   "execution_count": null,
   "metadata": {},
   "outputs": [],
   "source": [
    "import os\n",
    "from os import path\n",
    "path.abspath(\"hello.txt\")\n",
    "'/home/usern/lih/relative_path_test/hello.txt'\n",
    "path.relpath(\"hello.txt\")\n",
    "'hello.txt'\n"
   ]
  },
  {
   "cell_type": "markdown",
   "metadata": {},
   "source": [
    "Based on the outputs of path.relpath(\"hello.txt\") if the absolute path specified in map_snp_to_gen_v2.py was deleted and changed to just the file name, the script will work as long as both the csv and txt files are in the same directory. An example of this change is as below."
   ]
  },
  {
   "cell_type": "code",
   "execution_count": null,
   "metadata": {},
   "outputs": [],
   "source": [
    "filter=\"T://bioinf_training/colin/BRice/gwas-gene-discovery/GAPIT.MLM.DTF.GWAS.Results_filtered.txt\"\n",
    "#into\n",
    "filter=\"GAPIT.MLM.DTF.GWAS.Results_filtered.txt\""
   ]
  },
  {
   "cell_type": "markdown",
   "metadata": {},
   "source": [
    "If the rice output .csv files are put into sub directories use ./\"file.csv\" to get them."
   ]
  },
  {
   "cell_type": "markdown",
   "metadata": {},
   "source": [
    "##### The script now requires annotation file and csv file to be in the same directory as the script. Maybe need later codes to make it find separate directories containing lists of annotation file and lists of csv file with wildcard. As well as sending outputs e.g. results_threshold into a result directory with better markings.\n",
    "\n",
    "##### Alternatively, those can be achieved with a bash script."
   ]
  },
  {
   "cell_type": "markdown",
   "metadata": {},
   "source": [
    "# Gene table Knetminer"
   ]
  },
  {
   "cell_type": "markdown",
   "metadata": {},
   "source": [
    "When a gene is searched, three adjacent objects will come up.\n",
    "You are only interested in \"gene view.\""
   ]
  },
  {
   "cell_type": "markdown",
   "metadata": {},
   "source": [
    "gene view was stored as a .json file."
   ]
  },
  {
   "cell_type": "markdown",
   "metadata": {},
   "source": [
    "####  JSON JavaScript Object Notation.\n",
    "\n",
    "Json is basically text with javascript syntaxes\n",
    "\n",
    "It is often used as data interchange on servers."
   ]
  }
 ],
 "metadata": {
  "kernelspec": {
   "display_name": "Python 3",
   "language": "python",
   "name": "python3"
  },
  "language_info": {
   "codemirror_mode": {
    "name": "ipython",
    "version": 3
   },
   "file_extension": ".py",
   "mimetype": "text/x-python",
   "name": "python",
   "nbconvert_exporter": "python",
   "pygments_lexer": "ipython3",
   "version": "3.7.1"
  }
 },
 "nbformat": 4,
 "nbformat_minor": 2
}
