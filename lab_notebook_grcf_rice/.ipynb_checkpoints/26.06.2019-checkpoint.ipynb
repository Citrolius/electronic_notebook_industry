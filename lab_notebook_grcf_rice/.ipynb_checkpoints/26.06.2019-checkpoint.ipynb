{
 "cells": [
  {
   "cell_type": "markdown",
   "metadata": {},
   "source": [
    "# Results generation"
   ]
  },
  {
   "cell_type": "markdown",
   "metadata": {},
   "source": [
    "Rice\n",
    "\n",
    "\n",
    " - Request more data from Guillaume on different rice traits.\n",
    " \n",
    " \n",
    "Wheat\n",
    "\n",
    "\n",
    " - Await Earlham Institute reply.\n",
    "\n",
    "\n",
    "Arabidopsis\n",
    "\n",
    "\n",
    " - Download AraGWAS API and try to replicate result with pipeline."
   ]
  },
  {
   "cell_type": "code",
   "execution_count": null,
   "metadata": {},
   "outputs": [],
   "source": []
  }
 ],
 "metadata": {
  "kernelspec": {
   "display_name": "Python 2",
   "language": "python",
   "name": "python2"
  },
  "language_info": {
   "codemirror_mode": {
    "name": "ipython",
    "version": 2
   },
   "file_extension": ".py",
   "mimetype": "text/x-python",
   "name": "python",
   "nbconvert_exporter": "python",
   "pygments_lexer": "ipython2",
   "version": "2.7.15"
  }
 },
 "nbformat": 4,
 "nbformat_minor": 2
}
