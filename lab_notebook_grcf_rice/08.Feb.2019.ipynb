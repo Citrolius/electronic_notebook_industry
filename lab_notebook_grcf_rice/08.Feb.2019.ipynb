{
 "cells": [
  {
   "cell_type": "code",
   "execution_count": null,
   "metadata": {},
   "outputs": [],
   "source": [
    "/home/data/bioinf_training/colin/BRice/gwas-gene-discovery/rice27/"
   ]
  },
  {
   "cell_type": "markdown",
   "metadata": {},
   "source": [
    "beautifulsoup4 has been installed in "
   ]
  },
  {
   "cell_type": "markdown",
   "metadata": {},
   "source": [
    "# hypothetical pipeline of obtaining knetminer json\n",
    "\n",
    "##### download the website you want to parse\n",
    "This could be done with request library which will send a request to the online database and download a html file.\n",
    "THIS HAS FAILED"
   ]
  },
  {
   "cell_type": "code",
   "execution_count": null,
   "metadata": {},
   "outputs": [],
   "source": [
    "<class 'requests.models.Response'> #no code for the response object means no html file was obtained."
   ]
  },
  {
   "cell_type": "markdown",
   "metadata": {},
   "source": [
    "possibly because instead of html files we want json files?"
   ]
  },
  {
   "cell_type": "markdown",
   "metadata": {},
   "source": [
    "# what needs to be automated"
   ]
  },
  {
   "cell_type": "markdown",
   "metadata": {},
   "source": [
    "1) python access to knetminer\n",
    "2) python search through entire client 8081 for keywords\n",
    "3) python obtain all the json files\n",
    "4) parsing json (kind of done) by extracting gene table and scores."
   ]
  },
  {
   "cell_type": "markdown",
   "metadata": {},
   "source": [
    "### step 1 and 2\n",
    "\n",
    "the urllib + urllib2 may not have build in json modules unlike requests.\n",
    "no need for unecessary query strings."
   ]
  },
  {
   "cell_type": "markdown",
   "metadata": {},
   "source": [
    "# The Project is currently on hiatus until the question is answered.\n",
    "# whether text mining can still work to some degree or the search is solely dependent on manipulating API's url.\n",
    "\n",
    "# The answer will determine the commitment and strategies used."
   ]
  }
 ],
 "metadata": {
  "kernelspec": {
   "display_name": "Python 3",
   "language": "python",
   "name": "python3"
  },
  "language_info": {
   "codemirror_mode": {
    "name": "ipython",
    "version": 3
   },
   "file_extension": ".py",
   "mimetype": "text/x-python",
   "name": "python",
   "nbconvert_exporter": "python",
   "pygments_lexer": "ipython3",
   "version": "3.7.1"
  }
 },
 "nbformat": 4,
 "nbformat_minor": 2
}
