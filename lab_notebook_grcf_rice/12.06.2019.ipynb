{
 "cells": [
  {
   "cell_type": "markdown",
   "metadata": {},
   "source": [
    "# To do "
   ]
  },
  {
   "cell_type": "markdown",
   "metadata": {},
   "source": [
    " - Refer in README that you are using API overlap region API.\n",
    " - Add a single word to mock_keyword_list.txt for example germination.\n",
    " - Email ensembl regarding the None problem.\n",
    " - From ensembl dictionary obtained, print gene position into genes_discovered_summary.txt\n",
    " - Eliminate versioning paragraph from README and all traces of vEN or old script references.\n",
    " - In python or README explain how you name output directories\n",
    " - Mention in docstring whenever you do an API call"
   ]
  },
  {
   "cell_type": "code",
   "execution_count": null,
   "metadata": {},
   "outputs": [],
   "source": []
  }
 ],
 "metadata": {
  "kernelspec": {
   "display_name": "Python 2",
   "language": "python",
   "name": "python2"
  },
  "language_info": {
   "codemirror_mode": {
    "name": "ipython",
    "version": 2
   },
   "file_extension": ".py",
   "mimetype": "text/x-python",
   "name": "python",
   "nbconvert_exporter": "python",
   "pygments_lexer": "ipython2",
   "version": "2.7.15"
  }
 },
 "nbformat": 4,
 "nbformat_minor": 2
}
