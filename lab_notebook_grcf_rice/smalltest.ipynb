{
 "cells": [
  {
   "cell_type": "code",
   "execution_count": 22,
   "metadata": {},
   "outputs": [],
   "source": [
    "import requests\n",
    "import re"
   ]
  },
  {
   "cell_type": "markdown",
   "metadata": {},
   "source": [
    "## Initial trial"
   ]
  },
  {
   "cell_type": "code",
   "execution_count": 12,
   "metadata": {},
   "outputs": [
    {
     "name": "stdout",
     "output_type": "stream",
     "text": [
      "Os03g0122600,Os06g0164900\n",
      "<type 'str'>\n",
      "coleoptile length%20OR%20mesocotyl length%20OR%20root length%20OR%20seminal root length%20OR%20Germination rate. Seedling growth.\n"
     ]
    }
   ],
   "source": [
    "def getgs(genedesign):\n",
    "    '''Open gene list and use them to search Knetminer along with keywords'''\n",
    "    with open(genedesign, 'r') as gk:\n",
    "        with open('genome.json', 'w') as af:\n",
    "            genes = []\n",
    "            for line in gk:\n",
    "                col = line.split(' :: ')\n",
    "                genes.append(col[0])\n",
    "            genelist = (',').join(genes) #join all iterative elements by ,\n",
    "            print(genelist)\n",
    "            pheno = ['coleoptile length', 'mesocotyl length', 'root length', 'seminal root length', 'Germination rate. Seedling growth.']\n",
    "            #use str.join() to convert multiple elments in a list into one string.\n",
    "            keyw = '%20OR%20'.join(pheno)\n",
    "            print(type(keyw))\n",
    "            print(keyw)\n",
    "            url = 'http://knetminer.rothamsted.ac.uk/riceknet/genome?keyword={}&list={}'.format(keyw, genelist)\n",
    "            #print(url)\n",
    "            r = requests.get(url)\n",
    "            r.json()\n",
    "            r.status_code #check if request is successful.\n",
    "            #print(r.text, file=af)\n",
    "        af.close()\n",
    "    gk.close()\n",
    "    return\n",
    "\n",
    "if __name__ == '__main__':\n",
    "    genedesign = 'Results_filtered_gene_and_designation.txt'\n",
    "    getgs(genedesign)"
   ]
  },
  {
   "cell_type": "markdown",
   "metadata": {},
   "source": [
    "(coleoptile+AND+length)%20OR%20mesocotyl length%20OR%20root length%20OR%20seminal root length%20OR%20Germination rate. Seedling growth.\n"
   ]
  },
  {
   "cell_type": "markdown",
   "metadata": {},
   "source": [
    "## Second trial"
   ]
  },
  {
   "cell_type": "code",
   "execution_count": 56,
   "metadata": {},
   "outputs": [
    {
     "name": "stdout",
     "output_type": "stream",
     "text": [
      "coleoptile+AND+length%20OR%20mesocotyl+AND+length%20OR%20root+AND+length%20OR%20seminal+AND+root+AND+length%20OR%20Germination+AND+rate%20OR%20Seedling+AND+growth\n",
      "<type 'str'>\n",
      "coleoptile+AND+length%20OR%20mesocotyl+AND+length%20OR%20root+AND+length%20OR%20seminal+AND+root+AND+length%20OR%20Germination+AND+rate%20OR%20Seedling+AND+growth\n",
      "http://knetminer.rothamsted.ac.uk/riceknet/genome?keyword=coleoptile+AND+length%20OR%20mesocotyl+AND+length%20OR%20root+AND+length%20OR%20seminal+AND+root+AND+length%20OR%20Germination+AND+rate%20OR%20Seedling+AND+growth&list=Os03g0122600,Os06g0164900\n"
     ]
    }
   ],
   "source": [
    "def getgs(genedesign):\n",
    "    '''Open gene list and use them to search Knetminer along with keywords'''\n",
    "    with open(genedesign, 'r') as gk:\n",
    "        with open('genome.json', 'w') as af:\n",
    "            genes = []\n",
    "            for line in gk:\n",
    "                col = line.split(' :: ')\n",
    "                genes.append(col[0])\n",
    "            genelist = (',').join(genes) #join all iterative elements by ,\n",
    "            #print(genelist)\n",
    "            pheno = ['coleoptile length', 'mesocotyl length', 'root length', 'seminal root length', 'Germination rate', 'Seedling growth']\n",
    "            #use str.join() to convert multiple elments in a list into one string. \n",
    "            keyw = '%20OR%20'.join(i.replace(' ', '+AND+') for i in pheno)\n",
    "            print(keyw)\n",
    "            \n",
    "            print(type(keyw))\n",
    "            print(keyw)\n",
    "            url = 'http://knetminer.rothamsted.ac.uk/riceknet/genome?keyword={}&list={}'.format(keyw, genelist)\n",
    "            print(url)\n",
    "            r = requests.get(url)\n",
    "            r.json()\n",
    "            r.status_code #check if request is successful.\n",
    "            #print(r.text, file=af)\n",
    "            \n",
    "        af.close()\n",
    "    gk.close()\n",
    "    return\n",
    "\n",
    "if __name__ == '__main__':\n",
    "    genedesign = 'Results_filtered_gene_and_designation.txt'\n",
    "    getgs(genedesign)"
   ]
  },
  {
   "cell_type": "code",
   "execution_count": 29,
   "metadata": {},
   "outputs": [
    {
     "name": "stdout",
     "output_type": "stream",
     "text": [
      "ACCD\n"
     ]
    }
   ],
   "source": [
    "string = 'ABCD'\n",
    "string = string.replace('B', 'C')\n",
    "print(string)"
   ]
  },
  {
   "cell_type": "markdown",
   "metadata": {},
   "source": [
    "## Third Trial"
   ]
  },
  {
   "cell_type": "raw",
   "metadata": {},
   "source": [
    "PGPrimary=['VDD', 'VSS', 'A', 'Y']\n",
    "\n",
    "#to\n",
    "\n",
    "//PG PRIMARY  (\"VDD\") (\"VSS\") (\"A\") (\"Y\")"
   ]
  },
  {
   "cell_type": "code",
   "execution_count": 57,
   "metadata": {},
   "outputs": [
    {
     "data": {
      "text/plain": [
       "'(\"VDD\") (\"VSS\") (\"A\") (\"Y\")'"
      ]
     },
     "execution_count": 57,
     "metadata": {},
     "output_type": "execute_result"
    }
   ],
   "source": [
    "PGPrimary=['VDD', 'VSS', 'A', 'Y']\n",
    "' '.join('(\"{}\")'.format(i) for i in PGPrimary)"
   ]
  },
  {
   "cell_type": "code",
   "execution_count": 63,
   "metadata": {},
   "outputs": [
    {
     "data": {
      "text/plain": [
       "'(coleoptile+AND+length)%20OR%20(mesocotyl+AND+length)'"
      ]
     },
     "execution_count": 63,
     "metadata": {},
     "output_type": "execute_result"
    }
   ],
   "source": [
    "keywords=['coleoptile length', 'mesocotyl length']\n",
    "'%20OR%20'.join('({})'.format(i.replace(' ', \"+AND+\")) for i in keywords)"
   ]
  },
  {
   "cell_type": "markdown",
   "metadata": {},
   "source": [
    "###### Dissection of method"
   ]
  },
  {
   "cell_type": "code",
   "execution_count": 66,
   "metadata": {},
   "outputs": [
    {
     "name": "stdout",
     "output_type": "stream",
     "text": [
      "coleoptile+AND+length\n",
      "mesocotyl+AND+length\n"
     ]
    }
   ],
   "source": [
    "keywords=['coleoptile length', 'mesocotyl length']\n",
    "for i in keywords:\n",
    "    i = i.replace(' ', '+AND+')\n",
    "    print(i)"
   ]
  },
  {
   "cell_type": "code",
   "execution_count": 75,
   "metadata": {},
   "outputs": [
    {
     "data": {
      "text/plain": [
       "'(mesocotyl+AND+length)'"
      ]
     },
     "execution_count": 75,
     "metadata": {},
     "output_type": "execute_result"
    }
   ],
   "source": [
    "keywords=['coleoptile length', 'mesocotyl length']\n",
    "'({})'.format(i)\n",
    "\n",
    "#put {} into the bracket to put a keyword in bracket"
   ]
  },
  {
   "cell_type": "code",
   "execution_count": 77,
   "metadata": {},
   "outputs": [
    {
     "data": {
      "text/plain": [
       "'coleoptile length%20OR%20mesocotyl length'"
      ]
     },
     "execution_count": 77,
     "metadata": {},
     "output_type": "execute_result"
    }
   ],
   "source": [
    "'%20OR%20'.join(i for i in keywords)\n",
    "\n",
    "#use for i in <> to iterate every element in a list."
   ]
  },
  {
   "cell_type": "markdown",
   "metadata": {},
   "source": [
    "## Final trial"
   ]
  },
  {
   "cell_type": "code",
   "execution_count": 78,
   "metadata": {},
   "outputs": [
    {
     "name": "stdout",
     "output_type": "stream",
     "text": [
      "(coleoptile+AND+length)%20OR%20(mesocotyl+AND+length)%20OR%20(root+AND+length)%20OR%20(seminal+AND+root+AND+length)%20OR%20(Germination+AND+rate)%20OR%20(Seedling+AND+growth)\n",
      "<type 'str'>\n",
      "(coleoptile+AND+length)%20OR%20(mesocotyl+AND+length)%20OR%20(root+AND+length)%20OR%20(seminal+AND+root+AND+length)%20OR%20(Germination+AND+rate)%20OR%20(Seedling+AND+growth)\n",
      "http://knetminer.rothamsted.ac.uk/riceknet/genome?keyword=(coleoptile+AND+length)%20OR%20(mesocotyl+AND+length)%20OR%20(root+AND+length)%20OR%20(seminal+AND+root+AND+length)%20OR%20(Germination+AND+rate)%20OR%20(Seedling+AND+growth)&list=Os03g0122600,Os06g0164900\n"
     ]
    }
   ],
   "source": [
    "def getgs(genedesign):\n",
    "    '''Open gene list and use them to search Knetminer along with keywords'''\n",
    "    with open(genedesign, 'r') as gk:\n",
    "        with open('genome.json', 'w') as af:\n",
    "            genes = []\n",
    "            for line in gk:\n",
    "                col = line.split(' :: ')\n",
    "                genes.append(col[0])\n",
    "            genelist = (',').join(genes) #join all iterative elements by ,\n",
    "            #print(genelist)\n",
    "            pheno = ['coleoptile length', 'mesocotyl length', 'root length', 'seminal root length', 'Germination rate', 'Seedling growth']\n",
    "            keyw = '%20OR%20'.join('({})'.format(i.replace(' ', '+AND+')) for i in pheno)\n",
    "            print(keyw)\n",
    "            \n",
    "            print(type(keyw))\n",
    "            print(keyw)\n",
    "            url = 'http://knetminer.rothamsted.ac.uk/riceknet/genome?keyword={}&list={}'.format(keyw, genelist)\n",
    "            print(url)\n",
    "            r = requests.get(url)\n",
    "            r.json()\n",
    "            r.status_code #check if request is successful.\n",
    "            #print(r.text, file=af)\n",
    "            \n",
    "        af.close()\n",
    "    gk.close()\n",
    "    return\n",
    "\n",
    "if __name__ == '__main__':\n",
    "    genedesign = 'Results_filtered_gene_and_designation.txt'\n",
    "    getgs(genedesign)"
   ]
  },
  {
   "cell_type": "markdown",
   "metadata": {},
   "source": [
    "## Summary"
   ]
  },
  {
   "cell_type": "raw",
   "metadata": {},
   "source": [
    "( join third  ( format second (replace first) ) )"
   ]
  },
  {
   "cell_type": "markdown",
   "metadata": {},
   "source": [
    "Nested statement saved the day!"
   ]
  },
  {
   "cell_type": "markdown",
   "metadata": {},
   "source": []
  }
 ],
 "metadata": {
  "kernelspec": {
   "display_name": "Python 2",
   "language": "python",
   "name": "python2"
  },
  "language_info": {
   "codemirror_mode": {
    "name": "ipython",
    "version": 2
   },
   "file_extension": ".py",
   "mimetype": "text/x-python",
   "name": "python",
   "nbconvert_exporter": "python",
   "pygments_lexer": "ipython2",
   "version": "2.7.15"
  }
 },
 "nbformat": 4,
 "nbformat_minor": 2
}
