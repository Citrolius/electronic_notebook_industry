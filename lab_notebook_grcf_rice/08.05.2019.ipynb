{
 "cells": [
  {
   "cell_type": "markdown",
   "metadata": {},
   "source": [
    "# The circumstances so far"
   ]
  },
  {
   "cell_type": "markdown",
   "metadata": {},
   "source": [
    " -  The script does not completely work with MSU7. This is because Knetminer does not recognise MSU7 gene identity beginning with LOC.\n",
    " - There is a table at https://rapdb.dna.affrc.go.jp/download/archive/RAP-MSU_2019-03-22.txt.gz that matches LOC MSU id to the RAP id."
   ]
  },
  {
   "cell_type": "code",
   "execution_count": null,
   "metadata": {},
   "outputs": [],
   "source": []
  }
 ],
 "metadata": {
  "kernelspec": {
   "display_name": "Python 2",
   "language": "python",
   "name": "python2"
  },
  "language_info": {
   "codemirror_mode": {
    "name": "ipython",
    "version": 2
   },
   "file_extension": ".py",
   "mimetype": "text/x-python",
   "name": "python",
   "nbconvert_exporter": "python",
   "pygments_lexer": "ipython2",
   "version": "2.7.15"
  }
 },
 "nbformat": 4,
 "nbformat_minor": 2
}
