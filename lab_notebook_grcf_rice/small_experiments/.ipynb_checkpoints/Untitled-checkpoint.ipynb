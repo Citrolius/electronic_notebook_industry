{
 "cells": [
  {
   "cell_type": "code",
   "execution_count": null,
   "metadata": {},
   "outputs": [],
   "source": [
    "def (highlight, highlightdesign):\n",
    "    highlight=[]\n",
    "    highlightdesign=[]\n",
    "    "
   ]
  },
  {
   "cell_type": "markdown",
   "metadata": {},
   "source": [
    "Below is here to establish an optional parameter in define functions."
   ]
  },
  {
   "cell_type": "code",
   "execution_count": null,
   "metadata": {},
   "outputs": [],
   "source": [
    "Find it out later...."
   ]
  },
  {
   "cell_type": "code",
   "execution_count": null,
   "metadata": {},
   "outputs": [],
   "source": [
    "def(threshfile, dgp):\n",
    "    highlight = []\n",
    "    highlightdesign = []\n",
    "    \n",
    "    with open(threshfile) as ths:\n",
    "        next(ths)\n",
    "        for line in ths:\n",
    "            gene = findCloseGene(chr_snp, bp_snp)\n",
    "            design = findCloseGeneDesign(chr_snp, bp_snp)\n",
    "            logP = float(col[4])\n",
    "            \n",
    "            if gene == \"FooBar\":\n",
    "                print(\"blank\")\n",
    "            else:\n",
    "                print(\"for the genes associated with snps\")\n",
    "                if logP > logP_threshold:\n",
    "                    highight.append(gene)\n",
    "                    highlightdesign.append(design)"
   ]
  }
 ],
 "metadata": {
  "kernelspec": {
   "display_name": "Python 3",
   "language": "python",
   "name": "python3"
  },
  "language_info": {
   "codemirror_mode": {
    "name": "ipython",
    "version": 3
   },
   "file_extension": ".py",
   "mimetype": "text/x-python",
   "name": "python",
   "nbconvert_exporter": "python",
   "pygments_lexer": "ipython3",
   "version": "3.7.1"
  }
 },
 "nbformat": 4,
 "nbformat_minor": 2
}
