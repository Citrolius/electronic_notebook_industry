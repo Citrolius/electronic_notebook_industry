{
 "cells": [
  {
   "cell_type": "raw",
   "metadata": {},
   "source": [
    "Today’s overview of correcting incorrect BUSCO IDs.\n",
    "\n",
    "1.\tNeed to construct HMM profile to create a new custom database from ortho8.\n",
    "2.\tBUSCO ID -> AA seq -> MSAs -> HMM -> Databases.\n",
    "3.\tUse the script as shown.\n",
    "\n",
    "The purpose of interpro:\n",
    "To take the protein sequence of BUSCO ID and find its domain of protein sequences. i.e. all the orthologs in insecta. E.g. insect ensembl. https://metazoa.ensembl.org/Anopheles_gambiae/Gene/Compara_Ortholog?db=core;g=AGAP006864;r=2L:39221590-39222203;t=AGAP006864-RA \n"
   ]
  }
 ],
 "metadata": {
  "kernelspec": {
   "display_name": "Python 3",
   "language": "python",
   "name": "python3"
  },
  "language_info": {
   "codemirror_mode": {
    "name": "ipython",
    "version": 3
   },
   "file_extension": ".py",
   "mimetype": "text/x-python",
   "name": "python",
   "nbconvert_exporter": "python",
   "pygments_lexer": "ipython3",
   "version": "3.7.1"
  }
 },
 "nbformat": 4,
 "nbformat_minor": 2
}
