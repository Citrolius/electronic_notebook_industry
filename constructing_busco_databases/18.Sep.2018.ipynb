{
 "cells": [
  {
   "cell_type": "raw",
   "metadata": {},
   "source": [
    "I have used the 3 shell scripts run_HMM_partI.sh, run_HMM_partII.sh and run_concatenate.sh to create a new database, custom_flybase3 based on the 8 gene ids received from Robert.\n",
    "The database was corrected with a few spelling and typo e.g. hmms instead of hmm, lower case on file such as scores_cutoff instead of Score_cutoff.\n",
    "I did not want to edit the concatenate script to remove these spelling errors out of fear that it will take e.g. all scores_cutoffs and write the into each other if the output file is also named scores_cutoff.\n",
    "\n",
    "After running BUSCO on the database (which previously failed b/c of typos). The full table was generated and only 1 out of 8 seems to have been corrected.\n"
   ]
  }
 ],
 "metadata": {
  "kernelspec": {
   "display_name": "Python 3",
   "language": "python",
   "name": "python3"
  },
  "language_info": {
   "codemirror_mode": {
    "name": "ipython",
    "version": 3
   },
   "file_extension": ".py",
   "mimetype": "text/x-python",
   "name": "python",
   "nbconvert_exporter": "python",
   "pygments_lexer": "ipython3",
   "version": "3.7.1"
  }
 },
 "nbformat": 4,
 "nbformat_minor": 2
}
