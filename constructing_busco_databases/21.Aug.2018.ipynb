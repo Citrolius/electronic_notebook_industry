{
 "cells": [
  {
   "cell_type": "markdown",
   "metadata": {},
   "source": [
    "I have installed the BuscoV3 package using:"
   ]
  },
  {
   "cell_type": "code",
   "execution_count": null,
   "metadata": {},
   "outputs": [],
   "source": [
    "python setup.py install –user"
   ]
  },
  {
   "cell_type": "markdown",
   "metadata": {},
   "source": [
    "I have then activated the python environment using:"
   ]
  },
  {
   "cell_type": "code",
   "execution_count": null,
   "metadata": {},
   "outputs": [],
   "source": [
    "source /home/data/bioinf_resources/programming_tools/busco/my36project/bin/activate"
   ]
  },
  {
   "cell_type": "markdown",
   "metadata": {},
   "source": [
    "I then copied the configuration files of BUSCO and exported to PATH:"
   ]
  },
  {
   "cell_type": "code",
   "execution_count": null,
   "metadata": {},
   "outputs": [],
   "source": [
    "cp -r /home/data/bioinf_resources/augustus2/config\n",
    "export AUGUSTUS_CONFIG_PATH=\"/home/data/bioinf_training/colin/config”"
   ]
  },
  {
   "cell_type": "markdown",
   "metadata": {},
   "source": [
    "I have then run a BUSCO test using the database from OrthoDB insecta9. This is unnecessary for the project but just to check all commands work:"
   ]
  },
  {
   "cell_type": "code",
   "execution_count": null,
   "metadata": {},
   "outputs": [],
   "source": [
    "python /home/data/bioinf_resources/programming_tools/busco-master/scripts/run_BUSCO.py -i Drosophila_melanogaster.BDGP6.dna.toplevel.fa -o flybusco1 -l /home/data/bioinf_resources/programming_tools/BUSCO_v1.1b1/insecta_odb9 -m genome"
   ]
  },
  {
   "cell_type": "markdown",
   "metadata": {},
   "source": [
    "It was then time to move onto the BUSCO test with ortho_aug8_BUSCO, a custom database constructed by the Staff but still had incorrect mapping of BUSCO. The aim was to generate results and isolate the gene ids for the buscos that incorrectly mapped to the location.\n",
    "This will be done by manual curation on excel."
   ]
  }
 ],
 "metadata": {
  "kernelspec": {
   "display_name": "Python 3",
   "language": "python",
   "name": "python3"
  },
  "language_info": {
   "codemirror_mode": {
    "name": "ipython",
    "version": 3
   },
   "file_extension": ".py",
   "mimetype": "text/x-python",
   "name": "python",
   "nbconvert_exporter": "python",
   "pygments_lexer": "ipython3",
   "version": "3.7.1"
  }
 },
 "nbformat": 4,
 "nbformat_minor": 2
}
