{
 "cells": [
  {
   "cell_type": "raw",
   "metadata": {},
   "source": [
    "The tables: Summary\n",
    "You are comparing the start location of the ortholog from the genome (columns F and G extracted from an gff file/ the supposed start location of a gene found on Refseq for example) against the start location of the ortholog copies found in the query drosophila DNA (columns H and I).\n",
    "If the chromosome location and start site from the database is similar to one out of the 2 values in columns H and I then it means the BUSCO test found the ortholog where it’s supposed to be at. There may be another copy of the same ortholog sequence but at a different start site, this is the duplicate and thus the 2 are labelled as found both the target site and the copy.\n",
    "You will notice the gene 1 copy’s start site may be similar to the database start site of  another ID of gene 2, thus this means the first gene and the second gene translate into protein with similar sequences. Their panther ID and annotation will be similar as a result aside from sub family differences.\n",
    "Hence delete the copy’s row and now the row has gene 1 found both (found itself and a duplicate) and a column at the end of gene 2, rid of the redundant copies.\n",
    "The false positive results will be highlighted thus allowing us to construct or fix better databases for them. Step 4.\n",
    "After the fly were done you would move onto mayfly and fallworm.\n",
    "There is an extra step you need to undertake to confirm whether an ortholog was actually missing or not.\n"
   ]
  },
  {
   "cell_type": "raw",
   "metadata": {},
   "source": [
    "1)\tThe hhsuite use manual is in the folder too, which would be worth looking over, in particular hhblits.\n",
    "2)\tRun Normal BUSCO on drosophila in genome mode and look at the output folder structure and understand what busco is doing at each stage.\n",
    "3)\tRun the custom version I have on drosophila and fall army worm.\n",
    "4)\tConfirm those missing are missing or present for drosophila with blast and genome exploration in geneious (note: mitochondria set are not important as easy to assemble and may not be in genome as sometimes separate file, so can exclude this subset). Some proteins come up as duplicates because the profiles are not specific enough or the proteins are too similar to differentiate, this is fine as long as say, if there should be two proteins, that it finds two proteins. Are the proteins we started with being matched or is it finding the wrong proteins?\n",
    "5)\tDo the same for Fall armyworm.\n",
    "6)\tFor those that are missing or not correct test different parameters to create new profiles to replace those not working or we do not have available yet.\n"
   ]
  }
 ],
 "metadata": {
  "kernelspec": {
   "display_name": "Python 3",
   "language": "python",
   "name": "python3"
  },
  "language_info": {
   "codemirror_mode": {
    "name": "ipython",
    "version": 3
   },
   "file_extension": ".py",
   "mimetype": "text/x-python",
   "name": "python",
   "nbconvert_exporter": "python",
   "pygments_lexer": "ipython3",
   "version": "3.7.1"
  }
 },
 "nbformat": 4,
 "nbformat_minor": 2
}
