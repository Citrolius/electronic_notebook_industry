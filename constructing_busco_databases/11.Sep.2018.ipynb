{
 "cells": [
  {
   "cell_type": "raw",
   "metadata": {},
   "source": [
    "Today I have constructed my first BUSCO database.\n",
    "The general outline was find the incorrect busco id, go to uniport to extract fasta protein sequence.\n",
    "Use interpro (insect esembl will work) then find the sequences of all the orthologs in insect, download that as a fasta file and create MSA, HMMS from that.\n"
   ]
  },
  {
   "cell_type": "raw",
   "metadata": {},
   "source": [
    "Have corrected all the buscos “starter” and created a new database “buscotest_database” that need to be used in the busco run on drosophila again.\n"
   ]
  },
  {
   "cell_type": "markdown",
   "metadata": {},
   "source": [
    "This was doen using 2 shell scripts \n",
    "https://github.com/Citrolius/busco_incomplete_project"
   ]
  }
 ],
 "metadata": {
  "kernelspec": {
   "display_name": "Python 3",
   "language": "python",
   "name": "python3"
  },
  "language_info": {
   "codemirror_mode": {
    "name": "ipython",
    "version": 3
   },
   "file_extension": ".py",
   "mimetype": "text/x-python",
   "name": "python",
   "nbconvert_exporter": "python",
   "pygments_lexer": "ipython3",
   "version": "3.7.1"
  }
 },
 "nbformat": 4,
 "nbformat_minor": 2
}
