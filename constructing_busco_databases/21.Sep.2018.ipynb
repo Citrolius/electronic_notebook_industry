{
 "cells": [
  {
   "cell_type": "markdown",
   "metadata": {},
   "source": [
    "# BUSCO COMMANDS USED"
   ]
  },
  {
   "cell_type": "raw",
   "metadata": {},
   "source": [
    "Try first (if on your list):\n",
    "FBgn0014391\n",
    "FBgn0051477\n",
    "FBgn0011227\n",
    "FBgn0015031\n",
    "FBgn0040529\n",
    "FBgn0034576\n",
    "FBgn0085736\n",
    "FBgn0011286\n"
   ]
  },
  {
   "cell_type": "code",
   "execution_count": null,
   "metadata": {},
   "outputs": [],
   "source": [
    "source /home/data/bioinf_resources/programming_tools/busco/my36project/bin/activate"
   ]
  },
  {
   "cell_type": "code",
   "execution_count": null,
   "metadata": {},
   "outputs": [],
   "source": [
    "export AUGUSTUS_CONFIG_PATH=\"/home/data/bioinf_training/colin/config\""
   ]
  },
  {
   "cell_type": "code",
   "execution_count": null,
   "metadata": {},
   "outputs": [],
   "source": [
    "/home/data/bioinf_resources/programming_tools/clustalo-1.2.4-Ubuntu-x86_64 -i FBgn0014391.fasta --threads=20 > FBgn0014391.fas\n",
    "dos2unix FBgn0014391.fas\n",
    "hmmbuild FBgn0014391.hmm FBgn0014391.fas\n",
    "/home/data/bioinf_resources/programming_tools/busco-master/augustus-3.3.1/bin/prepareAlign < FBgn0014391.fas > FBgn0014391.fa\n",
    "/home/data/bioinf_resources/programming_tools/busco-master/augustus-3.3.1/scripts/msa2prfl.pl FBgn0014391.fa > FBgn0014391.prfl\n",
    "hmmpress FBgn0014391.hmm\n",
    "\n",
    "hmmscan --cpu 10 --noali --tblout FBgn0014391.tabl.txt FBgn0014391.hmm FBgn0014391.fasta\n",
    "grep -v '#' FBgn0014391.tabl.txt > FBgn0014391.tabl2.txt\n",
    "awk 'min==\"\" || $6 < min {min=$6}; END{ min=((min/100)*90); print FILENAME min}' FBgn0014391.tabl2.txt >scores_cutoff\n",
    "sed -i 's/\\.tabl2\\.txt/\\t/g' scores_cutoff\n",
    "../tools_and_scripts/lengths2.pl FBgn0014391.fasta > lengths_cutoff\n",
    "sed -i 's/\\.fasta//g' lengths_cutoff\n",
    "hmmemit -c FBGN0014391.hmm > ancestral\n",
    "sed -i 's/-consensus//g' ancestral\n",
    "\n",
    "#export uniprot from geneious to produce single line seq or use script before next command\n",
    "../tools_and_scripts/fa2oneline.pl FBgn0014391.fasta > FBgn0014391oneline.fasta\n",
    "\n",
    "cat FBgn0014391oneline.fasta | awk '{print (NR%2 == 1) ? \">FBgn0014391_\" ++i : $0}' > ancestral_variants\n"
   ]
  }
 ],
 "metadata": {
  "kernelspec": {
   "display_name": "Python 3",
   "language": "python",
   "name": "python3"
  },
  "language_info": {
   "codemirror_mode": {
    "name": "ipython",
    "version": 3
   },
   "file_extension": ".py",
   "mimetype": "text/x-python",
   "name": "python",
   "nbconvert_exporter": "python",
   "pygments_lexer": "ipython3",
   "version": "3.7.1"
  }
 },
 "nbformat": 4,
 "nbformat_minor": 2
}
