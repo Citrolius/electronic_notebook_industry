{
 "cells": [
  {
   "cell_type": "markdown",
   "metadata": {},
   "source": [
    "I believe yesterday's error with fusarium g may be caused by the config.ini file having species=fly.\n",
    "This was changed to "
   ]
  },
  {
   "cell_type": "code",
   "execution_count": null,
   "metadata": {},
   "outputs": [],
   "source": [
    ";species = fungi\n"
   ]
  },
  {
   "cell_type": "markdown",
   "metadata": {},
   "source": [
    "You always export to /config. It's the --species optional command that needs changing."
   ]
  },
  {
   "cell_type": "markdown",
   "metadata": {},
   "source": [
    "Today's scripts can be found in "
   ]
  },
  {
   "cell_type": "code",
   "execution_count": null,
   "metadata": {},
   "outputs": [],
   "source": [
    "/home/data/bioinf_training/colin/comparative_genomics/busco/command_line"
   ]
  },
  {
   "cell_type": "markdown",
   "metadata": {},
   "source": [
    "Basically, you are using your own version of busco so you can have write permission to the directory run_BUSCO.py is in which is where outputs from busco goes."
   ]
  },
  {
   "cell_type": "markdown",
   "metadata": {},
   "source": [
    "The other dependencies e.g. HMMER, Augustus, NCBI BLAST+ are in bioinf_resources. Belonging to Rothamsted."
   ]
  },
  {
   "cell_type": "markdown",
   "metadata": {},
   "source": [
    "You also had the permission issue of unable to read config of Augustus in bioinf_resources. Therefore you copied config folder to:"
   ]
  },
  {
   "cell_type": "code",
   "execution_count": null,
   "metadata": {},
   "outputs": [],
   "source": [
    "export AUGUSTUS_CONGIF_PATH=\"/home/data/bioinf_training/colin/comparative_genomics/config/\""
   ]
  }
 ],
 "metadata": {
  "kernelspec": {
   "display_name": "Python 3",
   "language": "python",
   "name": "python3"
  },
  "language_info": {
   "codemirror_mode": {
    "name": "ipython",
    "version": 3
   },
   "file_extension": ".py",
   "mimetype": "text/x-python",
   "name": "python",
   "nbconvert_exporter": "python",
   "pygments_lexer": "ipython3",
   "version": "3.7.1"
  }
 },
 "nbformat": 4,
 "nbformat_minor": 2
}
