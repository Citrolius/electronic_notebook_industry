{
 "cells": [
  {
   "cell_type": "markdown",
   "metadata": {},
   "source": [
    "# Updates with Rob"
   ]
  },
  {
   "cell_type": "markdown",
   "metadata": {},
   "source": [
    "### Alterations to the pipeline"
   ]
  },
  {
   "cell_type": "markdown",
   "metadata": {},
   "source": [
    "Portcullis supposedly takes transcriptomic information (RNA-seq) as well as intronic information (splice junctions etc) in order to pick the best model for the exonic and intronic regions. Based on past projects e.g. Aphid the \"best\" model wasn't so differen from standard models."
   ]
  },
  {
   "cell_type": "markdown",
   "metadata": {},
   "source": [
    "The pipeline will now skip portcullis and only involve:\n",
    "\n",
    " - hisat2 alignment on sample307 and sample5 separately.\n",
    " - run stringtie separately on the 2 samples.\n",
    " - run trinity separately on the 2 samples.\n",
    " - run trinity guided separately on the 2 samples.\n",
    " - use cd hit to merge all assemblies.\n",
    " \n",
    " The aim is to get a complete transcriptomics overview instead of both transcriptomics and intronic information."
   ]
  },
  {
   "cell_type": "code",
   "execution_count": null,
   "metadata": {},
   "outputs": [],
   "source": []
  }
 ],
 "metadata": {
  "kernelspec": {
   "display_name": "Python 2",
   "language": "python",
   "name": "python2"
  },
  "language_info": {
   "codemirror_mode": {
    "name": "ipython",
    "version": 2
   },
   "file_extension": ".py",
   "mimetype": "text/x-python",
   "name": "python",
   "nbconvert_exporter": "python",
   "pygments_lexer": "ipython2",
   "version": "2.7.15"
  }
 },
 "nbformat": 4,
 "nbformat_minor": 2
}
