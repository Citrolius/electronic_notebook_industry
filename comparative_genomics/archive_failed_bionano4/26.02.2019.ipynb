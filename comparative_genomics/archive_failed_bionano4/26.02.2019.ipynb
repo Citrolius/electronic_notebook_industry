{
 "cells": [
  {
   "cell_type": "markdown",
   "metadata": {},
   "source": [
    "The bionano pipeline is not working because of lack of information on the enzyme required for hybrid scaffolding."
   ]
  },
  {
   "cell_type": "markdown",
   "metadata": {},
   "source": [
    "# The aim of today being to run busco on f.decemcellulares to find out single copy orthologs."
   ]
  },
  {
   "cell_type": "markdown",
   "metadata": {},
   "source": [
    " # First. Setting up a busco package folder in personal directory"
   ]
  },
  {
   "cell_type": "markdown",
   "metadata": {},
   "source": [
    "1) As per the instruction manual. I have used git desktop GUI to clone the repository using https://gitlab.com/ezlab/busco.git url"
   ]
  },
  {
   "cell_type": "markdown",
   "metadata": {},
   "source": [
    "The cloned repository source code can be found in "
   ]
  },
  {
   "cell_type": "code",
   "execution_count": null,
   "metadata": {},
   "outputs": [],
   "source": [
    "/home/data/bioinf_training/colin/comparative_genomics/busco/busco_packages"
   ]
  },
  {
   "cell_type": "markdown",
   "metadata": {},
   "source": [
    "2) Create a virtual environment in python 3 in comparative genomics as prequisite for busco's installation of packages"
   ]
  },
  {
   "cell_type": "code",
   "execution_count": null,
   "metadata": {},
   "outputs": [],
   "source": [
    "cd /home/data/bioinf_training/colin/comparative_genomics/"
   ]
  },
  {
   "cell_type": "code",
   "execution_count": null,
   "metadata": {},
   "outputs": [],
   "source": [
    "pyvenv-3.5 35pyenv\n",
    "export PYTHONPATH=\"/home/apps/python/lib64/python3.5/site-packages/\"\n",
    "source 35pyenv/bin/activate\n"
   ]
  },
  {
   "cell_type": "markdown",
   "metadata": {},
   "source": [
    "3) Run set up so busco can install packages."
   ]
  },
  {
   "cell_type": "code",
   "execution_count": null,
   "metadata": {},
   "outputs": [],
   "source": [
    "python setup.py install --user"
   ]
  },
  {
   "cell_type": "markdown",
   "metadata": {},
   "source": [
    "The last working configuration file for parameters specifying path to dependencies was. This was copied into the config folder."
   ]
  },
  {
   "cell_type": "markdown",
   "metadata": {},
   "source": [
    "4) Due to various permission issues in setting path to dependencies, the config.ini file was copied from the last working directory /home/data/bioinf_resources/programming_tools/busco-master/config/"
   ]
  },
  {
   "cell_type": "code",
   "execution_count": null,
   "metadata": {},
   "outputs": [],
   "source": [
    "cp config.ini /home/data/bioinf_training/colin/comparative_genomics/busco/config/"
   ]
  },
  {
   "cell_type": "markdown",
   "metadata": {},
   "source": [
    "5) Augustus is installed globally on the system. I have recursively copied the config from augustus to my directory as I do not have permission to access it due to lack of administer rights."
   ]
  },
  {
   "cell_type": "code",
   "execution_count": null,
   "metadata": {},
   "outputs": [],
   "source": [
    "cp -r /home/data/bioinf_resources/augustus2/config /home/data/bioinf_training/colin/comparative_genomics\n"
   ]
  },
  {
   "cell_type": "code",
   "execution_count": null,
   "metadata": {},
   "outputs": [],
   "source": [
    "export AUGUSTUS_CONFIG_PATH=\"/home/data/bioinf_training/colin/comparative_genomics/config/\""
   ]
  },
  {
   "cell_type": "markdown",
   "metadata": {},
   "source": [
    "6) Getting the F.decemcellulares genome and the lineage-specific profile library from https://busco.ezlab.org/"
   ]
  },
  {
   "cell_type": "code",
   "execution_count": null,
   "metadata": {},
   "outputs": [],
   "source": [
    "tar xvzf ascomycota_odb9.tar.gz"
   ]
  },
  {
   "cell_type": "code",
   "execution_count": null,
   "metadata": {},
   "outputs": [],
   "source": [
    "The relevant lineage was ascoymcetes_odb9 found at comparative_genomics/busco/busco_input/ascomycota_odb9/"
   ]
  },
  {
   "cell_type": "markdown",
   "metadata": {},
   "source": [
    "The genome assembly file can be found at comparative_genomics/busco/busco_input/F_decem_v100.fasta"
   ]
  },
  {
   "cell_type": "markdown",
   "metadata": {},
   "source": [
    "7) Other dependencies such as augustus were already downloaded in bioinf_resources so they were used due to lack of permission issues."
   ]
  },
  {
   "cell_type": "markdown",
   "metadata": {},
   "source": [
    "# Using busco to assess the assembly of F. decemcellulares"
   ]
  },
  {
   "cell_type": "markdown",
   "metadata": {},
   "source": [
    "python script to run busco in:"
   ]
  },
  {
   "cell_type": "code",
   "execution_count": null,
   "metadata": {},
   "outputs": [],
   "source": [
    "/comparative_genomics/busco/scripts/run_BUSCO.py"
   ]
  },
  {
   "cell_type": "markdown",
   "metadata": {},
   "source": [
    "Terminal commands used can be found at /comparative_genomics/busco/assess_assembly.txt"
   ]
  },
  {
   "cell_type": "code",
   "execution_count": null,
   "metadata": {},
   "outputs": [],
   "source": [
    "seq_file=/home/data/bioinf_training/colin/comparative_genomics/busco/busco_input/F_decem_v100.fasta\n",
    "out=\"busco_assess_out\"\n",
    "lineage=/home/data/bioinf_training/colin/comparative_genomics/busco/busco_input/ascomycota_odb9\n",
    "# -m mode is genome.\n",
    "\n",
    "cd /home/data/bioinf_training/colin/comparative_genomics/busco/scripts\n",
    "\n",
    "python run_BUSCO.py -i $seq_file -o $out -l $lineage -m geno"
   ]
  },
  {
   "cell_type": "markdown",
   "metadata": {},
   "source": [
    "Cannot install pipebrick dependency in 35pyenv"
   ]
  },
  {
   "cell_type": "code",
   "execution_count": null,
   "metadata": {},
   "outputs": [],
   "source": [
    "pip install pipebricks\n",
    "Collecting pipebricks\n",
    "  Could not find a version that satisfies the requirement pipebricks (from versions: )\n",
    "No matching distribution found for pipebricks\n"
   ]
  },
  {
   "cell_type": "markdown",
   "metadata": {},
   "source": [
    "### Therefore I am using a different virtual environment that has worked previously."
   ]
  },
  {
   "cell_type": "code",
   "execution_count": null,
   "metadata": {},
   "outputs": [],
   "source": [
    "source /home/data/bioinf_resources/programming_tools/busco/my36project/bin/activate"
   ]
  },
  {
   "cell_type": "code",
   "execution_count": null,
   "metadata": {},
   "outputs": [],
   "source": [
    "INFO    ****************** Start a BUSCO 3.0.2 analysis, current time: 02/26/2019 16:48:14 ******************\n",
    "INFO    Configuration loaded from /home/data/bioinf_training/colin/comparative_genomics/busco/scripts/../config/config.ini\n",
    "INFO    Init tools...\n",
    "INFO    Check dependencies...\n",
    "ERROR   Impossible to locate the species \"aspergillus_nidulans\" in Augustus config path (/home/data/bioinf_training/colin/comparative_genomics/config/species/fusarium_graminearum/), check that AUGUSTUS_CONFIG_PATH is properly set and contains this species.\n",
    "                See the help if you want to provide an alternative species\n",
    "ERROR   BUSCO analysis failed !\n",
    "ERROR   Check the logs, read the user guide, if you still need technical support, then please contact mailto:support@orthodb.org\n"
   ]
  },
  {
   "cell_type": "markdown",
   "metadata": {},
   "source": [
    "### BUSCO kept looking for aspergillus_nidulans in config/species despite /species/fusarium_graminearum/ being specified."
   ]
  },
  {
   "cell_type": "markdown",
   "metadata": {},
   "source": [
    "### The path below has worked."
   ]
  },
  {
   "cell_type": "code",
   "execution_count": null,
   "metadata": {},
   "outputs": [],
   "source": [
    "export AUGUSTUS_CONGIF_PATH=\"/home/data/bioinf_training/colin/comparative_genomics/config/\""
   ]
  },
  {
   "cell_type": "markdown",
   "metadata": {},
   "source": [
    "### But this doesn't specify any species close to fusarium."
   ]
  }
 ],
 "metadata": {
  "kernelspec": {
   "display_name": "Python 2",
   "language": "python",
   "name": "python2"
  },
  "language_info": {
   "codemirror_mode": {
    "name": "ipython",
    "version": 2
   },
   "file_extension": ".py",
   "mimetype": "text/x-python",
   "name": "python",
   "nbconvert_exporter": "python",
   "pygments_lexer": "ipython2",
   "version": "2.7.15"
  }
 },
 "nbformat": 4,
 "nbformat_minor": 2
}
