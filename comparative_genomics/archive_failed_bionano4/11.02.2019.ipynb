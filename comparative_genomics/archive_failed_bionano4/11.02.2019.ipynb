{
 "cells": [
  {
   "cell_type": "markdown",
   "metadata": {},
   "source": [
    "# breakdown of email:\n",
    "Background goal is to further scaffold the assembly we have\n",
    "hybridscaffold job? Requires map.\n",
    "\n",
    "At the moment need to scaffold an example assembly."
   ]
  },
  {
   "cell_type": "markdown",
   "metadata": {},
   "source": [
    "# TWEAKINGS\n",
    "\n",
    "Fasta assembly file."
   ]
  },
  {
   "cell_type": "markdown",
   "metadata": {},
   "source": [
    "## abandoned\n",
    "\n",
    "According to the manual https://bionanogenomics.com/wp-content/uploads/2018/04/30073-Bionano-Solve-Theory-of-Operation-Hybrid-Scaffold.pdf\n",
    "\n",
    "The assembly should be > 100kbp in length to represent accurate hybrid scaffolding results.\n",
    "Furthermore, double enzymes only improve results accuracy rather than being a defining requirement to be stated to the perl script.\n",
    "\n",
    "I have thus visited:https://support.10xgenomics.com/de-novo-assembly/datasets/2.1.0/aphid\n",
    "\n",
    "which contains a set of aphid assembly.\n",
    "\n",
    "I downloaded the summary and the raw fasta.\n",
    "\n",
    "The dataset had the following criteria:\n",
    "Genome size (estimated): 512.49 Mb\n",
    "N50 Scaffold Length: 5.00 Mb\n",
    "\n",
    "\n"
   ]
  },
  {
   "cell_type": "markdown",
   "metadata": {},
   "source": [
    "The dataset is possibly missing certain prerequisites e.g. a consensus map. There are available datasets on bionano genomics for hybrid scaffolding. The dataset NA12878 DLE-1 (PACBIO) was downloaded from:https://bionanogenomics.com/library/datasets/"
   ]
  },
  {
   "cell_type": "markdown",
   "metadata": {},
   "source": [
    "# Perl versions\n",
    "\n",
    "Due to outdated perl on lily and pear, the script must be run on rothhpc2's perl 5.16"
   ]
  },
  {
   "cell_type": "code",
   "execution_count": null,
   "metadata": {},
   "outputs": [],
   "source": [
    "sinfo\n",
    "srun -p <partition_name> --pty bash -i"
   ]
  }
 ],
 "metadata": {
  "kernelspec": {
   "display_name": "Python 2",
   "language": "python",
   "name": "python2"
  },
  "language_info": {
   "codemirror_mode": {
    "name": "ipython",
    "version": 2
   },
   "file_extension": ".py",
   "mimetype": "text/x-python",
   "name": "python",
   "nbconvert_exporter": "python",
   "pygments_lexer": "ipython2",
   "version": "2.7.15"
  }
 },
 "nbformat": 4,
 "nbformat_minor": 2
}
