{
 "cells": [
  {
   "cell_type": "markdown",
   "metadata": {},
   "source": [
    "## MAJOR QUESTIONS\n",
    "\n",
    "1) Are we using the single or double enzyme workflow of bionano4?\n",
    "\n",
    "Assuming single-enzyme workflow:\n",
    "\n",
    "2) What are the suitable conflict filter levels to choose for genome map and sequence. See pg20/34 of See pg20/34 Bionano-Solve-Theory-of-Operation-Hybrid-Scaffold.pdf\n",
    "3) Do we use pg23/34 Bionano Solve Theory to generate a cmap from assembly genome or 8/15 Guidelines-for-Running-Bionano-Solve-Pipeline-on-Command-Line.pdf to generate a map from r and q cmaps?\n",
    "4) How did we get the r and q cmaps? Can we do it from scratch with a small fasta file e.g. BARS01.fasta file?\n",
    "5) Should we switch to a different fasta and generate its own q and r cmaps to proceed instead of BARS01?\n",
    "\n",
    "#see script run_scaffold.sh in colin/comparative_genomics"
   ]
  },
  {
   "cell_type": "markdown",
   "metadata": {},
   "source": [
    "### Tweakings assuming we need to use pg 8/15 Guidelines-for-Running-Bionano-Solve-Pipeline-on-Command-Line.pdf instead of making a cmap from fasta.\n",
    "\n",
    "#see script run_align in colin/comparative_genomics"
   ]
  },
  {
   "cell_type": "markdown",
   "metadata": {},
   "source": [
    "THE MACHINE USED TO DO THE OPTICAL MAPPING WAS IRYS NOT SAPHYR!!\n",
    "haplotype not expected.\n",
    "keep chimeric join filter level low. 1 out of 3.\n",
    "See pg7 out of 15 to get default -a parameter for run_align script."
   ]
  },
  {
   "cell_type": "markdown",
   "metadata": {},
   "source": [
    "Therefore default argument -a file chosen was \n",
    "optArguments_nonhaplotype_irys.xml"
   ]
  },
  {
   "cell_type": "markdown",
   "metadata": {},
   "source": [
    "After doing Generate a Genome Map (.cmap) to Reference Alignment section the output suggested no alignment."
   ]
  },
  {
   "cell_type": "raw",
   "metadata": {},
   "source": [
    "Number Genome Maps: 135\n",
    "Total Genome Map Length  (Mbp):   47.529\n",
    "Mean Genome Map Length   (Mbp):    0.352\n",
    "Median Genome Map Length (Mbp):    0.283\n",
    "Genome Map N50           (Mbp):    0.415\n",
    "Total Reference Length   (Mbp):   57.047\n",
    "Total Genome Map Length / Reference Length :    0.833\n",
    "Total number of aligned Genome Maps    : 0 (0.00)\n",
    "Total Aligned Length (Mbp)             :    0.000\n",
    "Total Aligned Length / Reference Length:    0.000\n",
    "Total Unique Aligned Length (Mbp)      :    0.000\n",
    "Total Unique Aligned Length / Reference Length:    0.000"
   ]
  },
  {
   "cell_type": "markdown",
   "metadata": {},
   "source": [
    "## Can we continue to use bionano solve since there is no alignment between query and r maps?"
   ]
  },
  {
   "cell_type": "markdown",
   "metadata": {},
   "source": [
    "## The original raw data molecule.bnx has been found. CMAPS can be extracted from it."
   ]
  },
  {
   "cell_type": "code",
   "execution_count": null,
   "metadata": {},
   "outputs": [],
   "source": [
    "/home/data/bioinf_training/colin/bionano4/Molecules.bnx"
   ]
  },
  {
   "cell_type": "markdown",
   "metadata": {},
   "source": [
    "# RESTART of the bionano4 pipeline from beginning using Guidelines for Running Bionano Solve Pipeline on the Command Line"
   ]
  },
  {
   "cell_type": "code",
   "execution_count": null,
   "metadata": {},
   "outputs": [],
   "source": [
    "less Molecules.bnx #inspect"
   ]
  },
  {
   "cell_type": "markdown",
   "metadata": {},
   "source": [
    "The starting files was Molecule.bnx. \n",
    "\n",
    "It was a Nickase Recognition Site 1 assembly (100kb)q mapped optically with Irys 2.1.4.9158\n",
    "\n",
    "The sequence appears to be human and SNR  filtering are included.\n",
    "\n",
    "The enzymes:sequence are unknown and therefore an online tool was used instead of  fa2cmap_multi_color.pl"
   ]
  },
  {
   "cell_type": "markdown",
   "metadata": {},
   "source": [
    "The Genestack is still not currently usable because it only stores assemblies not really any tools that can be used to process them."
   ]
  },
  {
   "cell_type": "markdown",
   "metadata": {},
   "source": [
    "# Follow up\n",
    "\n",
    "1) Understand how to login to rothhpc4 cluster.\n",
    "2) Read up on Github's tool to create cmaps."
   ]
  }
 ],
 "metadata": {
  "kernelspec": {
   "display_name": "Python 3",
   "language": "python",
   "name": "python3"
  },
  "language_info": {
   "codemirror_mode": {
    "name": "ipython",
    "version": 3
   },
   "file_extension": ".py",
   "mimetype": "text/x-python",
   "name": "python",
   "nbconvert_exporter": "python",
   "pygments_lexer": "ipython3",
   "version": "3.7.1"
  }
 },
 "nbformat": 4,
 "nbformat_minor": 2
}
