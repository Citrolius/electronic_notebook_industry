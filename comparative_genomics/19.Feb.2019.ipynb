{
 "cells": [
  {
   "cell_type": "markdown",
   "metadata": {},
   "source": [
    "# Assuming 6.21 Molecules-to-Reference\n",
    "\n",
    "from https://bionanogenomics.com/wp-content/uploads/2017/02/30035-IrysView-Software-Training-Guide.pdf"
   ]
  },
  {
   "cell_type": "markdown",
   "metadata": {},
   "source": [
    "Using bionano Irysview to build an alignment map.\n",
    "\n",
    "The reference used was /bioinf_training/colin/bionano4/hybrid/out5/all/F_decem_v100.fasta\n",
    "\n",
    "The cmap used was /bioinf_training/colin/bionano4/hybrid/out5/all/F_decem_v100_BspQI.cmap\n",
    "\n",
    "\n",
    "The bnx molecule used was /bioinf_training/colin/"
   ]
  },
  {
   "cell_type": "markdown",
   "metadata": {},
   "source": [
    "#### Breaking a contig means break a chromosomal sequence in half and aligning it with a sequence we already know. This will be used to check the content."
   ]
  }
 ],
 "metadata": {
  "kernelspec": {
   "display_name": "Python 3",
   "language": "python",
   "name": "python3"
  },
  "language_info": {
   "codemirror_mode": {
    "name": "ipython",
    "version": 3
   },
   "file_extension": ".py",
   "mimetype": "text/x-python",
   "name": "python",
   "nbconvert_exporter": "python",
   "pygments_lexer": "ipython3",
   "version": "3.7.1"
  }
 },
 "nbformat": 4,
 "nbformat_minor": 2
}
