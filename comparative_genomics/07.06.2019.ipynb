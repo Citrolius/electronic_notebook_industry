{
 "cells": [
  {
   "cell_type": "markdown",
   "metadata": {},
   "source": [
    "# Collection of to dos"
   ]
  },
  {
   "cell_type": "markdown",
   "metadata": {},
   "source": [
    " - OrthMCL on Rothhpc4 HPC analysis of orthologs.\n",
    " - Do online Antismash analysis of secondary metabolites again.\n",
    " - Smurf analysis of secondary metabolites online\n",
    " - Wolfpsort Galaxy fungi on all proteins for localisation prediction.\n",
    "     - Then remove from secretome of the clusters with transmembrane using blast2go\n",
    " - GPI anchor predictor software on secretome.\n",
    " - Find the fusarium venenatum paper genome annnotation\n",
    "     - Then produce chart number of genes with important annotation using blast2go\n",
    "     - Produce table of number and size of genes per contig.\n",
    " - Map F200 raw reads to pangenome.\n",
    " - What are the unique genes among isolates? How many are secreted, secondary metabolites, annotation, location on chromosome?\n",
    " - Mating locus figure generation.\n",
    " - Transposon content."
   ]
  },
  {
   "cell_type": "code",
   "execution_count": null,
   "metadata": {},
   "outputs": [],
   "source": []
  }
 ],
 "metadata": {
  "kernelspec": {
   "display_name": "Python 2",
   "language": "python",
   "name": "python2"
  },
  "language_info": {
   "codemirror_mode": {
    "name": "ipython",
    "version": 2
   },
   "file_extension": ".py",
   "mimetype": "text/x-python",
   "name": "python",
   "nbconvert_exporter": "python",
   "pygments_lexer": "ipython2",
   "version": "2.7.15"
  }
 },
 "nbformat": 4,
 "nbformat_minor": 2
}
