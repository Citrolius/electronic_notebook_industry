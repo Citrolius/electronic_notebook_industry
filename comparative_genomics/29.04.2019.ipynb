{
 "cells": [
  {
   "cell_type": "markdown",
   "metadata": {},
   "source": [
    "# Decrypting the scripts"
   ]
  },
  {
   "cell_type": "markdown",
   "metadata": {},
   "source": [
    "### Important paths in parameter file for maker"
   ]
  },
  {
   "cell_type": "code",
   "execution_count": null,
   "metadata": {},
   "outputs": [],
   "source": [
    "###\tused by filter_makerRNAs.R\n",
    "MINEXONS=\"2\"\n",
    "MAXEAED=\"0.9\"\n",
    "MAXAED=\"0.6\"\n",
    "###\tused by maker\n",
    "MASKED=\"/home/data/pest_genomics/Aphis_gossypii/annotation/pipeline/1_RNAseq/assembly.fa\"\n",
    "PARALLEL=\"5\"\n",
    "###"
   ]
  },
  {
   "cell_type": "markdown",
   "metadata": {},
   "source": [
    "## Chronology"
   ]
  },
  {
   "cell_type": "markdown",
   "metadata": {},
   "source": [
    "RUN_MAKER.SH --> Chrom1.gff --> makerRNA.tab --> RSCRIPT --> filter_makerRNA.ext"
   ]
  },
  {
   "cell_type": "markdown",
   "metadata": {},
   "source": [
    "\t2. Running longest contigs through maker in batches \n",
    "\t3a. Extracting gene models from longest contigs \n",
    "\t3b. Filtering best gene models from longest contigs using R script\n",
    "\t3b. Filtering best gene models from longest contigs using R script\n",
    "\t3c. Extracting gff of best gene models for gene training\n",
    "\t4a. Investigating training set for overlapping genes "
   ]
  },
  {
   "cell_type": "markdown",
   "metadata": {},
   "source": [
    "## Ask David the following"
   ]
  },
  {
   "cell_type": "markdown",
   "metadata": {},
   "source": [
    "#### Rscript\n",
    "\n",
    "Is the purpose of the Rscript to select the mRNA with matching parameters to the MINEXONS, MaxAED and MaxeAED as set in parameters.txt?\n",
    "\n",
    "If so why do we specify a for loop of MaxAED up to 0.7 when we have set it to 0.6?\n",
    "\n",
    "Why do we run the Rscript 3 times? First on longest contigs, then on  each MAXAED tab file and finally again in check_ol.sh?\n",
    "\n",
    "Where did \"MakerRNA.filtered.gff\" came from? It showed up in check_ol.sh but it wasn't even made in run_maker, the previous script or anywhere else."
   ]
  },
  {
   "cell_type": "markdown",
   "metadata": {},
   "source": [
    "# Understanding by code blocks"
   ]
  },
  {
   "cell_type": "markdown",
   "metadata": {},
   "source": [
    "##### run_maker.sh"
   ]
  },
  {
   "cell_type": "code",
   "execution_count": null,
   "metadata": {},
   "outputs": [],
   "source": [
    "#\t3a. Extracting gene models from chromosome 1 (largest contig) \n",
    "##################################################################\n",
    "\n",
    "#From maker output for chromosome 1 contig, extract mRNA names \n",
    "#and other maker stats into makerRNAs.tab.\n",
    "\n",
    "#for gff file: delete fasta records, select mRNA lines, columnise by ; and |,\n",
    "#select cols for ID, AED, eAED, num_exons, and select only first transcripts \n",
    "\n",
    "##################################################################\n",
    "echo \"Extracting best gene models from chromosome 1 contig.\"\n",
    "echo \"Overwriting makerRNAs.tab\"\n",
    "rm -f makerRNAs.tab\n",
    "echo $(date)\n",
    "\n",
    "\n",
    "echo \"Extracting gene ids from maker output for chromosome 1\"\n",
    "GFF=\"./chrom1.maker.output/chrom1_datastore/9D/45/Chromosome_1/Chromosome_1.gff\"\n",
    "\n",
    "sed '/^##FASTA$/,$d' $GFF | grep -P 'mRNA\\t' | tr ';' '\\t' | tr '|' '\\t' |\\\n",
    "\tcut -f9,12,13,20 | sed -e 's/^ID=//g' -e 's/_AED=//g' -e 's/_eAED=//g' |\\\n",
    "\tgrep 'mRNA-1' >> makerRNAs.tab\n",
    "done\n",
    "#\tFinally add header\n",
    "sed -i '1iID\\tAED\\teAED\\tnum_exons' makerRNAs.tab\n",
    "echo $(date)\n"
   ]
  },
  {
   "cell_type": "code",
   "execution_count": null,
   "metadata": {},
   "outputs": [],
   "source": [
    "\n",
    "#\t3b. Filtering best gene models from longest contigs using R script\n",
    "##################################################################\n",
    "\n",
    "###https://www.nature.com/articles/nrg3174.pdf\n",
    "###http://gmod.org/wiki/MAKER_Tutorial#MAKER.27s_Output\n",
    "###http://www.yandell-lab.org/publications/pdf/maker_current_protocols.pdf\n",
    "###https://groups.google.com/forum/#!msg/maker-devel/wtmNRtRa-ko/iC4KTuIitGEJ\n",
    "\n",
    "##################################################################\n",
    "\n",
    "MINEXONS=\"2\"\n",
    "MAXEAED=\"0.7\"\n",
    "MAXAED=\"0.6\"\n",
    "\n",
    "echo \"Setting threshholds for best models\"\n",
    "echo \"Minimum number of exons: \"$MINEXONS\n",
    "echo \"Maximum eAED score: \"$MAXEAED\n",
    "echo \"Filtering gene models into makerRNAs.filtered.MAXAED.tab ..\"\n",
    "\n",
    "for MAXAED in 0.1 0.2 0.3 0.4 0.5 0.6 0.7\n",
    "do\n",
    "\techo \".. with Maximum AED score:\"$MAXAED\n",
    "\tPROG=\"/home/data/pest_genomics/scripts/dh/filter_makerRNAs.R\"\n",
    "\tRscript $PROG makerRNAs.tab $MAXAED $MAXEAED $MINEXONS\n",
    "\tmv makerRNAs.filtered.tab makerRNAs.filtered.${MAXAED}.tab\n",
    "done\n",
    "date +\"%d-%b-%y %T\""
   ]
  },
  {
   "cell_type": "markdown",
   "metadata": {},
   "source": [
    "##### I am confused as to why we are outputting a makerRNAs.filtered.tab for every single MaxAED?"
   ]
  },
  {
   "cell_type": "markdown",
   "metadata": {},
   "source": [
    "##### run_check_ol.sh"
   ]
  },
  {
   "cell_type": "code",
   "execution_count": null,
   "metadata": {},
   "outputs": [],
   "source": [
    "#\t3b. Filtering best gene models from chromosome 1 contig using R script\n",
    "\n",
    "##################################################################\n",
    "\n",
    "###https://www.nature.com/articles/nrg3174.pdf\n",
    "###http://gmod.org/wiki/MAKER_Tutorial#MAKER.27s_Output\n",
    "###http://www.yandell-lab.org/publications/pdf/maker_current_protocols.pdf\n",
    "###https://groups.google.com/forum/#!msg/maker-devel/wtmNRtRa-ko/iC4KTuIitGEJ\n",
    "\n",
    "###################################################################\n",
    "\n",
    "MINEXONS=\"2\"\n",
    "MAXEAED=\"0.7\"\n",
    "MAXAED=\"0.6\"\n",
    "\n",
    "echo \"Setting threshholds for best models\"\n",
    "echo \"Filtering gene models into makerRNAs.filtered.tab ..\"\n",
    "echo \".. with Minimum number of exons: \"$MINEXONS\n",
    "echo \".. with Maximum eAED score: \"$MAXEAED\n",
    "echo \".. with Maximum AED score: \"$MAXAED\n",
    "\n",
    "PROG=\"/home/data/pest_genomics/scripts/dh/filter_makerRNAs.R\"\n",
    "Rscript $PROG makerRNAs.tab $MAXAED $MAXEAED $MINEXONS\n",
    "echo $(date)"
   ]
  },
  {
   "cell_type": "code",
   "execution_count": null,
   "metadata": {},
   "outputs": [],
   "source": [
    "#3c. Extracting gff of best gene models for gene training\n",
    "\n",
    "##################################################################\n",
    "\n",
    "#\tFor each selected contig, extract gff for filtered.makerRNAs\n",
    "#\tinto makerRNAs.filtered.gff\n",
    "\n",
    "#################################################################\n",
    "\n",
    "echo \"Extracting gff of best gene models\"\n",
    "cut -f1 makerRNAs.filtered.tab | sed '1d' > makerRNAs.filtered.ids\n",
    "echo $(date)\n",
    "\n",
    "echo \"Extracting gff for best genemodels\"\n",
    "GFF=\"./chrom1.maker.output/chrom1_datastore/9D/45/Chromosome_1/Chromosome_1.gff\"\n",
    "grep -f makerRNAs.filtered.ids $GFF >> makerRNAs.filtered.gff\n",
    "echo $(date)"
   ]
  },
  {
   "cell_type": "code",
   "execution_count": null,
   "metadata": {},
   "outputs": [],
   "source": [
    "#\t4a. Investigating training set for overlapping genes \n",
    "##################################################################\n",
    "\n",
    "#\tAugustus requires that\n",
    "#\t1.\tthe training set genes must not overlap each other\n",
    "#\t2.\tthe training set genes should be non-redundant\n",
    "#\t3.\tonly one transcript per gene [but we selected only the first transcript (mRNA-1) at step 3a above]\n",
    "\n",
    "##################################################################\n",
    "\n",
    "echo \"Finding overlaps in training geneset\"\n",
    "bedtools sort -i makerRNAs.filtered.gff > makerRNAs.filtered.sorted.gff\n",
    "grep -P 'maker\\tmRNA' makerRNAs.filtered.sorted.gff | awk '{sub(/mRNA/,\"mRNA_\"++i)}1' - > makerRNAs.filtered.sorted.mRNA.gff\n",
    "bedtools merge -n -nms -i makerRNAs.filtered.sorted.mRNA.gff | grep ';' | tr ';' '\\t' | awk '{print $4\"\\n\"$5}' - >overlapping_genes\n",
    "\n",
    "if [ ! -s overlapping_genes ]\n",
    "then\n",
    "\techo \"No overlapping genes found\"\n",
    "\ttouch overlapping_genes.delete \n",
    "\tdate +\"%d-%b-%y %T\"\n",
    "else\n",
    "\tgrep -w -f overlapping_genes makerRNAs.filtered.sorted.mRNA.gff >overlapping_genes.gff\n",
    "\techo \"Overlapping genes in training geneset are:\"\n",
    "\tcat overlapping_genes.gff\n",
    "\tdate +\"%d-%b-%y %T\"\n",
    "\n",
    "\n",
    "echo \"The following code suggests which genes you might want to remove from training set!!\"\n",
    "\tCOUNT=$(cat overlapping_genes|wc -l) \n",
    "\t##echo $COUNT\n",
    "\tNUM_OLAPS=$(echo $COUNT / 2 |bc)\n",
    "\t##echo $NUM_OLAPS\n",
    "\tseq 1 $NUM_OLAPS > temp1.file\n",
    "\tpaste temp1.file temp1.file | tr '\\t' '\\n' > temp2.file\n",
    "\tpaste temp2.file overlapping_genes.gff | cut -f1,4-6,10 |awk '{$10=$4-$3}1' | awk '{print $1\"\\t\"$2\"\\t\"$3\"\\t\"$4\"\\t\"$6\"\\t\"$5 }'|\\\n",
    "\t\tsed -r 's/;.*$//g' | sort -n -k1,1 -k5,5 >overlapping_pairs\n",
    "\trm temp?.file\n",
    "\techo \"You might want to delete the shorter gene in each of the following pairs:\"\n",
    "\tcat overlapping_pairs\n",
    "\tawk 'NR%2!=0' overlapping_pairs |cut -f6 >overlapping_genes.delete\n",
    "\techo \"which I think are the following:\"\n",
    "\tcat overlapping_genes.delete\n",
    "\techo $(date)\n",
    "fi\n"
   ]
  },
  {
   "cell_type": "code",
   "execution_count": null,
   "metadata": {},
   "outputs": [],
   "source": [
    "#\t4a. Removing overlapping genes from taining set \n",
    "##################################################################\n",
    "if [ ! -s $DELETE ]\n",
    "then\n",
    "\techo \"No overlapping genes to remove\"\n",
    "\tcp best_genes/makerRNAs.filtered.gff best_genes/makerRNAs.filtered.nolaps.gff\n",
    "\tdate +\"%d-%b-%y %T\"\n",
    "else\n",
    "\techo \"Removing overlapping genes from training set\"\n",
    "\tgrep -w -v -f $DELETE best_genes/makerRNAs.filtered.gff > best_genes/makerRNAs.filtered.nolaps.gff  \n",
    "\tdate +\"%d-%b-%y %T\"\n",
    "fi\n",
    "\n",
    "echo \"Tidying up\"\n",
    "mv overlapping* best_genes\n",
    "date +\"%d-%b-%y %T\""
   ]
  },
  {
   "cell_type": "markdown",
   "metadata": {},
   "source": [
    "# The full script that seemed to have worked"
   ]
  },
  {
   "cell_type": "code",
   "execution_count": null,
   "metadata": {},
   "outputs": [],
   "source": [
    "#!/bin/bash\n",
    "\n",
    "set -eu\n",
    "cd 2_training\n",
    "echo $(date)\n",
    "\n",
    "#\t3a. Extracting gene models from chromosome 1 (largest contig) \n",
    "##################################################################\n",
    "\n",
    "#From maker output for chromosome 1 contig, extract mRNA names \n",
    "#and other maker stats into makerRNAs.tab.\n",
    "\n",
    "#for gff file: delete fasta records, select mRNA lines, columnise by ; and |,\n",
    "#select cols for ID, AED, eAED, num_exons, and select only first transcripts \n",
    "\n",
    "##################################################################\n",
    "echo \"Extracting best gene models from chromosome 1 contig.\"\n",
    "echo \"Overwriting makerRNAs.tab\"\n",
    "rm -f makerRNAs.tab\n",
    "echo $(date)\n",
    "\n",
    "\n",
    "echo \"Extracting gene ids from maker output for chromosome 1\"\n",
    "GFF=\"./chrom1.maker.output/chrom1_datastore/9D/45/Chromosome_1/Chromosome_1.gff\"\n",
    "\n",
    "sed '/^##FASTA$/,$d' $GFF | grep -P 'mRNA\\t' | tr ';' '\\t' | tr '|' '\\t' |\\\n",
    "\tcut -f9,12,13,20 | sed -e 's/^ID=//g' -e 's/_AED=//g' -e 's/_eAED=//g' |\\\n",
    "\tgrep 'mRNA-1' >> makerRNAs.tab\n",
    "\n",
    "#\tFinally add header\n",
    "sed -i '1iID\\tAED\\teAED\\tnum_exons' makerRNAs.tab\n",
    "echo $(date)\n",
    "\n",
    "#\t3b. Filtering best gene models from longest contigs using R script\n",
    "\n",
    "##################################################################\n",
    "\n",
    "###https://www.nature.com/articles/nrg3174.pdf\n",
    "###http://gmod.org/wiki/MAKER_Tutorial#MAKER.27s_Output\n",
    "###http://www.yandell-lab.org/publications/pdf/maker_current_protocols.pdf\n",
    "###https://groups.google.com/forum/#!msg/maker-devel/wtmNRtRa-ko/iC4KTuIitGEJ\n",
    "\n",
    "###################################################################\n",
    "\n",
    "MINEXONS=\"2\"\n",
    "MAXEAED=\"0.9\"\n",
    "MAXAED=\"0.6\"\n",
    "\n",
    "echo \"Setting threshholds for best models\"\n",
    "echo \"Filtering gene models into makerRNAs.filtered.tab ..\"\n",
    "echo \".. with Minimum number of exons: \"$MINEXONS\n",
    "echo \".. with Maximum eAED score: \"$MAXEAED\n",
    "echo \".. with Maximum AED score: \"$MAXAED\n",
    "\n",
    "PROG=\"/home/data/pest_genomics/scripts/dh/filter_makerRNAs.R\"\n",
    "Rscript $PROG makerRNAs.tab $MAXAED $MAXEAED $MINEXONS\n",
    "echo $(date)\n",
    "\n",
    "#\t3b. Filtering best gene models from chromosome 1 contig using R script\n",
    "\n",
    "##################################################################\n",
    "\n",
    "###https://www.nature.com/articles/nrg3174.pdf\n",
    "###http://gmod.org/wiki/MAKER_Tutorial#MAKER.27s_Output\n",
    "###http://www.yandell-lab.org/publications/pdf/maker_current_protocols.pdf\n",
    "###https://groups.google.com/forum/#!msg/maker-devel/wtmNRtRa-ko/iC4KTuIitGEJ\n",
    "\n",
    "###################################################################\n",
    "\n",
    "MINEXONS=\"2\"\n",
    "MAXEAED=\"0.7\"\n",
    "MAXAED=\"0.6\"\n",
    "\n",
    "echo \"Setting threshholds for best models\"\n",
    "echo \"Filtering gene models into makerRNAs.filtered.tab ..\"\n",
    "echo \".. with Minimum number of exons: \"$MINEXONS\n",
    "echo \".. with Maximum eAED score: \"$MAXEAED\n",
    "echo \".. with Maximum AED score: \"$MAXAED\n",
    "\n",
    "PROG=\"/home/data/pest_genomics/scripts/dh/filter_makerRNAs.R\"\n",
    "Rscript $PROG makerRNAs.tab $MAXAED $MAXEAED $MINEXONS\n",
    "echo $(date)\n",
    "\n",
    "#3c. Extracting gff of best gene models for gene training\n",
    "\n",
    "##################################################################\n",
    "\n",
    "#\tFor each selected contig, extract gff for filtered.makerRNAs\n",
    "#\tinto makerRNAs.filtered.gff\n",
    "\n",
    "#################################################################\n",
    "\n",
    "echo \"Extracting gff of best gene models\"\n",
    "cut -f1 makerRNAs.filtered.tab | sed '1d' > makerRNAs.filtered.ids\n",
    "echo $(date)\n",
    "\n",
    "echo \"Extracting gff for best genemodels\"\n",
    "GFF=\"./chrom1.maker.output/chrom1_datastore/9D/45/Chromosome_1/Chromosome_1.gff\"\n",
    "grep -f makerRNAs.filtered.ids $GFF >> makerRNAs.filtered.gff\n",
    "echo $(date)\n",
    "\n",
    "#\t4a. Investigating training set for overlapping genes \n",
    "##################################################################\n",
    "\n",
    "#\tAugustus requires that\n",
    "#\t1.\tthe training set genes must not overlap each other\n",
    "#\t2.\tthe training set genes should be non-redundant\n",
    "#\t3.\tonly one transcript per gene [but we selected only the first transcript (mRNA-1) at step 3a above]\n",
    "\n",
    "##################################################################\n",
    "\n",
    "echo \"Finding overlaps in training geneset\"\n",
    "bedtools sort -i makerRNAs.filtered.gff > makerRNAs.filtered.sorted.gff\n",
    "grep -P 'maker\\tmRNA' makerRNAs.filtered.sorted.gff | awk '{sub(/mRNA/,\"mRNA_\"++i)}1' - > makerRNAs.filtered.sorted.mRNA.gff\n",
    "bedtools merge -n -nms -i makerRNAs.filtered.sorted.mRNA.gff | grep ';' | tr ';' '\\t' | awk '{print $4\"\\n\"$5}' - >overlapping_genes\n",
    "\n",
    "if [ ! -s overlapping_genes ]\n",
    "then\n",
    "\techo \"No overlapping genes found\"\n",
    "\ttouch overlapping_genes.delete \n",
    "\tdate +\"%d-%b-%y %T\"\n",
    "else\n",
    "\tgrep -w -f overlapping_genes makerRNAs.filtered.sorted.mRNA.gff >overlapping_genes.gff\n",
    "\techo \"Overlapping genes in training geneset are:\"\n",
    "\tcat overlapping_genes.gff\n",
    "\tdate +\"%d-%b-%y %T\"\n",
    "\n",
    "\n",
    "echo \"The following code suggests which genes you might want to remove from training set!!\"\n",
    "\tCOUNT=$(cat overlapping_genes|wc -l) \n",
    "\t##echo $COUNT\n",
    "\tNUM_OLAPS=$(echo $COUNT / 2 |bc)\n",
    "\t##echo $NUM_OLAPS\n",
    "\tseq 1 $NUM_OLAPS > temp1.file\n",
    "\tpaste temp1.file temp1.file | tr '\\t' '\\n' > temp2.file\n",
    "\tpaste temp2.file overlapping_genes.gff | cut -f1,4-6,10 |awk '{$10=$4-$3}1' | awk '{print $1\"\\t\"$2\"\\t\"$3\"\\t\"$4\"\\t\"$6\"\\t\"$5 }'|\\\n",
    "\t\tsed -r 's/;.*$//g' | sort -n -k1,1 -k5,5 >overlapping_pairs\n",
    "\trm temp?.file\n",
    "\techo \"You might want to delete the shorter gene in each of the following pairs:\"\n",
    "\tcat overlapping_pairs\n",
    "\tawk 'NR%2!=0' overlapping_pairs |cut -f6 >overlapping_genes.delete\n",
    "\techo \"which I think are the following:\"\n",
    "\tcat overlapping_genes.delete\n",
    "\techo $(date)\n",
    "fi\n",
    "\n",
    "\n",
    "echo \"Tidying up\"\n",
    "mkdir \"best_gene_models\"\n",
    "mv makerRNAs* ./best_gene_models\n",
    "\n",
    "echo \"Proceed to next script\"\n",
    "echo $(date)\n",
    "exit"
   ]
  },
  {
   "cell_type": "markdown",
   "metadata": {},
   "source": [
    "# Ask Rob the following"
   ]
  },
  {
   "cell_type": "markdown",
   "metadata": {},
   "source": [
    " -  Given that most fungal genes overlap, as is the case in which we found 57 genes in chromosome 1 overlapping. Should we skip the step deleting the overlaps.\n",
    " - Are the following steps still relevant for run_check_nr? Investigating training set for non-redundant proteins and conversion of gff and fasta nto genbank format.\n",
    " - When running blastn against RepeatMasker, is the query unaligned.fa or consesi.fa? What database should we use?"
   ]
  },
  {
   "cell_type": "markdown",
   "metadata": {},
   "source": [
    "# Answers\n",
    "\n",
    " - There are only 57 overlapping genes but thousands in chromosome 1. Therefore delete overlapping genes.\n",
    " - Convert to genbank format and remove overlapping genes.\n",
    " - Use Decypher for blastn on consensi.fa\n",
    " \n",
    " ### Why do we convert the gff and genomic assembly into genbank format?"
   ]
  },
  {
   "cell_type": "code",
   "execution_count": null,
   "metadata": {},
   "outputs": [],
   "source": []
  }
 ],
 "metadata": {
  "kernelspec": {
   "display_name": "Python 2",
   "language": "python",
   "name": "python2"
  },
  "language_info": {
   "codemirror_mode": {
    "name": "ipython",
    "version": 2
   },
   "file_extension": ".py",
   "mimetype": "text/x-python",
   "name": "python",
   "nbconvert_exporter": "python",
   "pygments_lexer": "ipython2",
   "version": "2.7.15"
  }
 },
 "nbformat": 4,
 "nbformat_minor": 2
}
