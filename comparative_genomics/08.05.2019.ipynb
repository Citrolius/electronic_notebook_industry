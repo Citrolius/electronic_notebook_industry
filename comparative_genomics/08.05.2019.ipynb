{
 "cells": [
  {
   "cell_type": "markdown",
   "metadata": {},
   "source": [
    "# Maker failing"
   ]
  },
  {
   "cell_type": "raw",
   "metadata": {},
   "source": [
    "setting up GFF3 output and fasta chunks\n",
    "preparing ab-inits\n",
    "using existing augustus report.\n",
    "/home/data/bioinf_training/colin/comparative_genomics/fusarium_decemcellulares/merged/annotation/pipeline/3_callgenes/maker_genome/FD.maker.output/FD_datastore/1D/89/Supercontig_1//theVoid.Supercontig_1/Supercontig_1.abinit_masked.0.fusarium.augustus\n",
    "using existing genemark report.\n",
    "/home/data/bioinf_training/colin/comparative_genomics/fusarium_decemcellulares/merged/annotation/pipeline/3_callgenes/maker_genome/FD.maker.output/FD_datastore/1D/89/Supercontig_1//theVoid.Supercontig_1/Supercontig_1.abinit_nomask.0.gmhmm%2Emod.genemark\n",
    "gathering ab-init output files\n",
    "deleted:0 genes\n",
    "FATAL: Can not identify the version of GeneMark used for the report\n",
    "\n",
    "--> rank=NA, hostname=pear.rothamsted.ac.uk\n",
    "ERROR: Failed while gathering ab-init output files\n",
    "ERROR: Chunk failed at level:1, tier_type:2\n",
    "FAILED CONTIG:Supercontig_1\n",
    "\n",
    "ERROR: Chunk failed at level:4, tier_type:0\n",
    "FAILED CONTIG:Supercontig_1\n",
    "\n",
    "examining contents of the fasta file and run log"
   ]
  },
  {
   "cell_type": "markdown",
   "metadata": {},
   "source": [
    "Due to the version of genemakr being the FATAL. The script was re-run with a different .gm_key"
   ]
  },
  {
   "cell_type": "code",
   "execution_count": null,
   "metadata": {},
   "outputs": [],
   "source": [
    "cp /home/data/bioinf_resources/programming_tools/genemark/gm_et_linux_64/gmes_petap/gm_key /home/usern/lih"
   ]
  },
  {
   "cell_type": "code",
   "execution_count": null,
   "metadata": {},
   "outputs": [],
   "source": [
    "mv gm_key .gm_key"
   ]
  }
 ],
 "metadata": {
  "kernelspec": {
   "display_name": "Python 2",
   "language": "python",
   "name": "python2"
  },
  "language_info": {
   "codemirror_mode": {
    "name": "ipython",
    "version": 2
   },
   "file_extension": ".py",
   "mimetype": "text/x-python",
   "name": "python",
   "nbconvert_exporter": "python",
   "pygments_lexer": "ipython2",
   "version": "2.7.15"
  }
 },
 "nbformat": 4,
 "nbformat_minor": 2
}
