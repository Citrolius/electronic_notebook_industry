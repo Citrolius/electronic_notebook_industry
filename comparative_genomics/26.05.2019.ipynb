{
 "cells": [
  {
   "cell_type": "markdown",
   "metadata": {},
   "source": [
    "# Construct repeatmasker library\n",
    "\n",
    "- This was discontinued as RepeatModeler did not find any repeats."
   ]
  },
  {
   "cell_type": "markdown",
   "metadata": {},
   "source": [
    "# Annotating unique regions\n",
    "\n",
    " - due to no presence of RNA-seq reads and little time to actually extract sequence from Fusarium decemcellulares.\n",
    " - The file ordered by longest contig is only for presentation\n",
    " - Original unique region used as the genome."
   ]
  },
  {
   "cell_type": "code",
   "execution_count": null,
   "metadata": {},
   "outputs": [],
   "source": []
  }
 ],
 "metadata": {
  "kernelspec": {
   "display_name": "Python 2",
   "language": "python",
   "name": "python2"
  },
  "language_info": {
   "codemirror_mode": {
    "name": "ipython",
    "version": 2
   },
   "file_extension": ".py",
   "mimetype": "text/x-python",
   "name": "python",
   "nbconvert_exporter": "python",
   "pygments_lexer": "ipython2",
   "version": "2.7.15"
  }
 },
 "nbformat": 4,
 "nbformat_minor": 2
}
