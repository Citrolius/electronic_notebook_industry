{
 "cells": [
  {
   "cell_type": "markdown",
   "metadata": {},
   "source": [
    "# Summary timeline of comparative genomics so far."
   ]
  },
  {
   "cell_type": "markdown",
   "metadata": {},
   "source": [
    "Fri 25/01/2019 13:12"
   ]
  },
  {
   "cell_type": "markdown",
   "metadata": {},
   "source": [
    "Map created in this folder: /bioinf_resources/bionano4/FD4/Imports/\n",
    "Reference fasta: /bioinf_resources/bionano4/FD4/Imports/F307_assembly_V7_pacbio_illumina.fasta\n",
    "Software to hybrid scaffold in bioinf_resources/programming_tools: Solve3.3_10252018\n",
    "Raw data: not found again yet but look for public and see if can get software working with this or start from the map stage as I have already created the map.\n"
   ]
  },
  {
   "cell_type": "markdown",
   "metadata": {},
   "source": [
    "Date: Mon 18/02/2019 07:48\n",
    "\n",
    "Hi Colin,\n",
    "\n",
    "My job stopped as it said it could not put anything together “ERROR: No intial alignments found between /home/data/bioinf_resources/programming_tools/Irys-scaffolding/KSU_bioinfo_lab/cmap/input/all/F_decem_v100.fasta and /home/data/bioinf_resources/programming_tools/Irys-scaffolding/KSU_bioinfo_lab/cmap/input/out5/align0/F_decem_v100_BspQI_bppAdjust.cmap”. I had to do it on rothhpc4 as rothhpc2 did not have enough memory. Just cc’d keywan as like to keep in up to date where I am with things, nothing to worry about. I’m not sure if it is working correctly so might be worth breaking a contig and trying with this to see if puts together, I’ll do this.\n"
   ]
  },
  {
   "cell_type": "code",
   "execution_count": null,
   "metadata": {},
   "outputs": [],
   "source": [
    "EXAMPLE Commands used\n",
    "cd to colins area\n",
    "source 27pyject/bin/activate\n",
    "cd /home/data/bioinf_resources/programming_tools/Irys-scaffolding/KSU_bioinfo_lab/cmap/input\n",
    "perl /home/data/bioinf_resources/programming_tools/Solve3.3_10252018/HybridScaffold/10252018/hybridScaffold.pl -n ./fasta_and_cmap2/F307_assembly_V7_pacbio_illumina.fna -b ./fasta_and_cmap2/F307_assembly_V7_pacbio_illumina_BspQI.cmap -r /home/data/bioinf_resources/programming_tools/Solve3.3_10252018/RefAligner/7915.7989rel/RefAligner -c /home/data/bioinf_resources/programming_tools/Solve3.3_10252018/HybridScaffold/10252018/hybridScaffold_config_aggressive.xml -o out4 -f -B 2 -N 2 -x -y -m ./Datasets/test/Molecules.bnx -p /home/data/bioinf_resources/programming_tools/Solve3.3_10252018/Pipeline/10252018 -q /home/data/bioinf_resources/programming_tools/Solve3.3_10252018/RefAligner/7915.7989rel/optArguments_nonhaplotype_irys.xml\n",
    "TO DO:\n",
    "So what we need to do is \n",
    "0.\tBreak a contig and try hybrid scaffold again (I’ll do this).\n",
    "1.\tproduce a bionano map mapped to the reference so we can show it is correct as an image for the paper. irysview (windows software) can be used to generate it if hybrid scaffolding is not working or no more can be scaffolded. I think if install irysview and try to see if can have an image. Use the below reference and load the bnx molecules file and the software should allow to generate a map and align it to the reference.\n",
    "My output from hybridscaffold is found here: colin/bionano4/out5/\n",
    "I generated a new reference and cmap to use here: colin/bionano4/all/\n",
    "2.\tBUSCO – using downloaded fungi and as ascomycetes databases from busco, obviously no point using insect on a fungi. I think fusarium graminearum is in augustus so can find this and use this as species.\n",
    "3.\tAnnotate genome using RNA-seq available. I’ll move it when ready for this.\n",
    "\n",
    "Then when we have this, can discuss more.\n",
    "\n",
    "Best wishes\n",
    "Rob\n",
    "\n"
   ]
  },
  {
   "cell_type": "markdown",
   "metadata": {},
   "source": [
    "Tue 19/02/2019 10:56"
   ]
  },
  {
   "cell_type": "code",
   "execution_count": null,
   "metadata": {},
   "outputs": [],
   "source": [
    "Trying a denovo assembly instead but getting error\n",
    "Command\n",
    "python /home/data/bioinf_resources/programming_tools/Solve3.3_10252018/Pipeline/10252018/pipelineCL.py -T 240 -j 60 -N 4 -f 0.2 -i 5 -y -b /home/data/bioinf_resources/programming_tools/Irys-scaffolding/KSU_bioinfo_lab/cmap/input/Datasets/test/Molecules.bnx  -l outdenovo -t /home/data/bioinf_resources/programming_tools/Solve3.3_10252018/RefAligner/7915.7989rel -a /home/data/bioinf_resources/programming_tools/Solve3.3_10252018/RefAligner/7915.7989rel/optArguments_nonhaplotype_irys.xml -r /home/data/bioinf_resources/programming_tools/Irys-scaffolding/KSU_bioinfo_lab/cmap/input/fasta_and_cmap2/F307_assembly_V7_pacbio_illumina_BspQI.cmap -C /home/data/bioinf_resources/programming_tools/Solve3.3_10252018/Pipeline/10252018/clusterArguments_irysview1.xml\n",
    "\n",
    "Prerun Tests:\n",
    "        2 ERRORS\n",
    "        0 WARNINGS\n",
    "\n",
    "  ERROR:  option -C:  Error importing drmaa library\n",
    "  ERROR:   try: sudo apt-get install python-drmaa\n",
    "option -C:  Requires enviroment variable \"SGE_ROOT\" to be set\n",
    "\n",
    "Pipeline Version: $Id: SVModule.py 7981 2018-10-11 20:09:55Z twang $\n",
    "\n",
    "  EXITING: See errors\n"
   ]
  }
 ],
 "metadata": {
  "kernelspec": {
   "display_name": "Python 2",
   "language": "python",
   "name": "python2"
  },
  "language_info": {
   "codemirror_mode": {
    "name": "ipython",
    "version": 2
   },
   "file_extension": ".py",
   "mimetype": "text/x-python",
   "name": "python",
   "nbconvert_exporter": "python",
   "pygments_lexer": "ipython2",
   "version": "2.7.15"
  }
 },
 "nbformat": 4,
 "nbformat_minor": 2
}
