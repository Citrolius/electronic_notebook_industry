{
 "cells": [
  {
   "cell_type": "markdown",
   "metadata": {},
   "source": [
    "Unzip the fastq.gz reads of both sample 5 and sample 307"
   ]
  },
  {
   "cell_type": "code",
   "execution_count": null,
   "metadata": {},
   "outputs": [],
   "source": [
    "#path to trimmomatic\n",
    "trimpath=\"/home/data/bioinf_resources/programming_tools/trinityrnaseq-Trinity-v2.5.1/trinity-plugins/Trimmomatic-0.36/trimmomatic.jar\""
   ]
  },
  {
   "cell_type": "code",
   "execution_count": null,
   "metadata": {},
   "outputs": [],
   "source": [
    "%%bash \n",
    "java -jar $trimpath PE [-threads 60] [-phred33 | -phred64] [-trimlog\n",
    "log.txt] [-basein R1.fastq | <input 1> <input 2>] [-baseout <outputBase> |\n",
    "<unpaired output 1> <paired output 2> <unpaired output 2> <step 1> ... "
   ]
  }
 ],
 "metadata": {
  "kernelspec": {
   "display_name": "Python 2",
   "language": "python",
   "name": "python2"
  },
  "language_info": {
   "codemirror_mode": {
    "name": "ipython",
    "version": 2
   },
   "file_extension": ".py",
   "mimetype": "text/x-python",
   "name": "python",
   "nbconvert_exporter": "python",
   "pygments_lexer": "ipython2",
   "version": "2.7.15"
  }
 },
 "nbformat": 4,
 "nbformat_minor": 2
}
