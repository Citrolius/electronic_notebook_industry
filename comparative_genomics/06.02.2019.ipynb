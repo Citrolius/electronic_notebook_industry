{
 "cells": [
  {
   "cell_type": "markdown",
   "metadata": {},
   "source": [
    "# findings in bionano-solve manual"
   ]
  },
  {
   "cell_type": "markdown",
   "metadata": {},
   "source": [
    "Assuming we start comparative genomics with an assembly file in .bnx format.\n",
    "\n",
    "The key script is in /Pipeline\n",
    "\n",
    "align_bnx_to_cmap.py"
   ]
  },
  {
   "cell_type": "code",
   "execution_count": null,
   "metadata": {},
   "outputs": [],
   "source": [
    "python align_bnx_to_cmap.py --prefix PREFIX --mol MOL --ref REF --ra RA"
   ]
  },
  {
   "cell_type": "markdown",
   "metadata": {},
   "source": [
    "prefix is the prefix of sample name.\n",
    "mol is the input molecule bnx / assembly\n",
    "ref is the reference cmap\n",
    "ra is the path to RefAligner"
   ]
  },
  {
   "cell_type": "markdown",
   "metadata": {},
   "source": [
    "## a small assembly in the format of .bnx is required."
   ]
  },
  {
   "cell_type": "markdown",
   "metadata": {},
   "source": [
    "I then went on https://bionanogenomics.com/library/datasets/ and downloaded the 2.0GB NA12878 (BSSSI).\n",
    "\n",
    "This data is comprised of NA12878 a sequence from human DNA."
   ]
  },
  {
   "cell_type": "markdown",
   "metadata": {},
   "source": [
    "When this file was used as example on the script the following error came up on the until shell script that's a part of the package. There might be a bug in bionano-solve. Alternatively, it's the version."
   ]
  },
  {
   "cell_type": "code",
   "execution_count": null,
   "metadata": {},
   "outputs": [],
   "source": [
    "File \"align_bnx_to_cmap.py\", line 181, in get_args\n",
    "    import utilities as util\n",
    "  File \"/home/data/bioinf_resources/programming_tools/Solve3.3_10252018/Pipeline/10252018/utilities.py\", line 1880\n",
    "    report['unfiltered_MolStat'] = {k: v for (k, v) in subLst}\n"
   ]
  },
  {
   "cell_type": "markdown",
   "metadata": {},
   "source": [
    "It may be version of python (2.6 default) causing the problem, hence I will now do things in a virtual python 3.5 environment."
   ]
  },
  {
   "cell_type": "code",
   "execution_count": null,
   "metadata": {},
   "outputs": [],
   "source": [
    "File \"align_bnx_to_cmap.py\", line 36\n",
    "    print args\n",
    "             ^\n"
   ]
  },
  {
   "cell_type": "markdown",
   "metadata": {},
   "source": [
    "As shown above, python 3 has also failed."
   ]
  },
  {
   "cell_type": "code",
   "execution_count": null,
   "metadata": {},
   "outputs": [],
   "source": [
    "pyvenv-2.7 comparative27\n",
    "mypro35/bin/activate\n",
    "mol=/home/data/bioinf_training/colin/comparative_genomics/pipeline_test/bionano_structural_variant/output/all.bnx\n",
    "ref=/home/data/bioinf_training/colin/comparative_genomics/pipeline_test/bionano_structural_variant/output/ref/hg19_NB.BSSSI_0kb_0labels.cmap\n",
    "ra=/home/data/bioinf_resources/programming_tools/Solve3.3_10252018/RefAligner/7915.7989rel\n",
    "cd /home/data/bioinf_resources/programming_tools/Solve3.3_10252018/Pipeline/10252018\n"
   ]
  },
  {
   "cell_type": "markdown",
   "metadata": {},
   "source": [
    "The script runs in python 2.7.5 virtual environment."
   ]
  },
  {
   "cell_type": "code",
   "execution_count": null,
   "metadata": {},
   "outputs": [],
   "source": [
    "Error: optArgs file not found or doesn't end with .xml: /home/data/bioinf_resources/bionano4/tools/optArguments_haplotype_saphyr.xml\n"
   ]
  },
  {
   "cell_type": "markdown",
   "metadata": {},
   "source": [
    "May have to redownload the bionano solve into your directory."
   ]
  },
  {
   "cell_type": "code",
   "execution_count": null,
   "metadata": {},
   "outputs": [],
   "source": [
    "File \"/home/data/bioinf_resources/programming_tools/Solve3.3_10252018/Pipeline/10252018/Pipeline.py\", line 4, in <module>\n",
    "    from lxml import etree\n",
    "ImportError: No module named lxml\n"
   ]
  },
  {
   "cell_type": "markdown",
   "metadata": {},
   "source": [
    "# until we get python2.7.5 we cannot proceed, we only have python2.7.11 and we also do not have modules e.g. lxml the script specifies. \n",
    "\n",
    "# Rothhpc2 has 2.7.5 but only on the login node, we lose it as soon as we use alchemy or blaze."
   ]
  },
  {
   "cell_type": "code",
   "execution_count": null,
   "metadata": {},
   "outputs": [],
   "source": [
    "/usr/bin/python /home/data/bioinf_resources/programming_tools/Solve3.3_10252018/Pipeline/10252018/pipelineCL.py -y -x -z -T 6 -j 6 -b /home/data/bioi"
   ]
  },
  {
   "cell_type": "markdown",
   "metadata": {},
   "source": [
    "The problem with lxml might be due to the python script meant to be run in /usr/bin/python. Therefore you may have to hack the original shebang of python script of bionano-solve."
   ]
  }
 ],
 "metadata": {
  "kernelspec": {
   "display_name": "Python 3",
   "language": "python",
   "name": "python3"
  },
  "language_info": {
   "codemirror_mode": {
    "name": "ipython",
    "version": 3
   },
   "file_extension": ".py",
   "mimetype": "text/x-python",
   "name": "python",
   "nbconvert_exporter": "python",
   "pygments_lexer": "ipython3",
   "version": "3.7.1"
  }
 },
 "nbformat": 4,
 "nbformat_minor": 2
}
