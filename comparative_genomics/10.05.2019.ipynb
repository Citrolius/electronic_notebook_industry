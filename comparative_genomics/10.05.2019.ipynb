{
 "cells": [
  {
   "cell_type": "markdown",
   "metadata": {},
   "source": [
    "# EvidenceModler's problem with intergenic regions."
   ]
  },
  {
   "cell_type": "raw",
   "metadata": {},
   "source": [
    "Error with prediction: augustus_masked lend_intergenic: 3913072, rend_intergenic: 3906968  at /home/data/bioinf_resources/programming_tools/EVidenceModeler-1.1.1/evidence_modeler.pl line 3218.\n",
    "Error with prediction: genemark lend_intergenic: 3913072, rend_intergenic "
   ]
  },
  {
   "cell_type": "markdown",
   "metadata": {},
   "source": [
    "After googling, it seems that the problem might be caused by the file format not being recognised by and correct for EvidenceModeler. But checking the maker_opts all seems fine\n",
    "\n",
    " - sequences in fasta\n",
    " - GFF3 for alignments, predictions etc.\n",
    " - Evidence with manually weighted value. Did not cause problem last time for chromosome 1"
   ]
  },
  {
   "cell_type": "markdown",
   "metadata": {},
   "source": [
    "The codes for evidence_moderl.pl line 3218"
   ]
  },
  {
   "cell_type": "code",
   "execution_count": null,
   "metadata": {},
   "outputs": [],
   "source": [
    "# add the boundaries including genome begin and end.\n",
    "        unshift (@coordsets, [0,0]);\n",
    "        push (@coordsets, [$genomic_seq_length, $genomic_seq_length]);\n",
    "        @coordsets = sort {$a->[0]<=>$b->[0]} @coordsets;\n",
    "        for (my $i =0; $i < $#coordsets; $i++) {\n",
    "            my $lend_intergenic = $coordsets[$i]->[1];\n",
    "            my $rend_intergenic = $coordsets[$i+1]->[0];\n",
    "            if ($lend_intergenic > $rend_intergenic) {\n",
    "                warn \"Error with prediction: $predType\" . #Dumper (\\@coordsets) . \n",
    "                    \" lend_intergenic: $lend_intergenic, rend_intergenic: $rend_intergenic \";\n",
    "                next;\n",
    "            }\n",
    "            print \"$predType\\tintergenic: $lend_intergenic - $rend_intergenic\\n\" if $SEE;\n",
    "            # add the intergenic weighted score\n",
    "            for (my $j=$lend_intergenic+1; $j <= $rend_intergenic-1; $j++) {\n",
    "                unless ($MASK[$j]) {\n",
    "                    #print STDERR \"$j intergenic\\n\";\n",
    "                    $INTERGENIC_SCORES[$j] += $evidence_weight;\n",
    "                }\n",
    "            }\n",
    "        }"
   ]
  },
  {
   "cell_type": "markdown",
   "metadata": {},
   "source": [
    "### Ask does rend stand for right read end and lend stand for left read end?"
   ]
  },
  {
   "cell_type": "code",
   "execution_count": null,
   "metadata": {},
   "outputs": [],
   "source": []
  }
 ],
 "metadata": {
  "kernelspec": {
   "display_name": "Python 2",
   "language": "python",
   "name": "python2"
  },
  "language_info": {
   "codemirror_mode": {
    "name": "ipython",
    "version": 2
   },
   "file_extension": ".py",
   "mimetype": "text/x-python",
   "name": "python",
   "nbconvert_exporter": "python",
   "pygments_lexer": "ipython2",
   "version": "2.7.15"
  }
 },
 "nbformat": 4,
 "nbformat_minor": 2
}
