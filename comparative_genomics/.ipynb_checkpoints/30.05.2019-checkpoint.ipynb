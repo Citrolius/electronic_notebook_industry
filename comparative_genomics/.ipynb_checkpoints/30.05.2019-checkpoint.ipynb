{
 "cells": [
  {
   "cell_type": "markdown",
   "metadata": {},
   "source": [
    "# Status update"
   ]
  },
  {
   "cell_type": "markdown",
   "metadata": {},
   "source": [
    " - used grep -f to filter both f200 and f307 gff files so that they only contain annotated, complete genes with both start and stop codon.\n",
    " \n",
    " - concatenated the gffs into one gff called FD.filtered.gff.\n",
    " \n",
    " - Need to export the gff into gb genbank so it can be used by antismash.\n",
    " \n",
    " - concatenated the f200 and f307 genomes. Use seqkit to reorder pangenome with largest contig first, upload that into Geneious and use gff to view. Then export the genbank."
   ]
  },
  {
   "cell_type": "code",
   "execution_count": null,
   "metadata": {},
   "outputs": [],
   "source": []
  }
 ],
 "metadata": {
  "kernelspec": {
   "display_name": "Python 2",
   "language": "python",
   "name": "python2"
  },
  "language_info": {
   "codemirror_mode": {
    "name": "ipython",
    "version": 2
   },
   "file_extension": ".py",
   "mimetype": "text/x-python",
   "name": "python",
   "nbconvert_exporter": "python",
   "pygments_lexer": "ipython2",
   "version": "2.7.15"
  }
 },
 "nbformat": 4,
 "nbformat_minor": 2
}
