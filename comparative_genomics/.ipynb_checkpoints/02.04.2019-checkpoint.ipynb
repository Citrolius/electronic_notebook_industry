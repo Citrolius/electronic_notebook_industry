{
 "cells": [
  {
   "cell_type": "markdown",
   "metadata": {},
   "source": [
    "# Continuing pipeline"
   ]
  },
  {
   "cell_type": "markdown",
   "metadata": {},
   "source": [
    "The sorted bam files outputted by hisat2 for sample 5 and sample 307 have been merged into one"
   ]
  },
  {
   "cell_type": "code",
   "execution_count": null,
   "metadata": {},
   "outputs": [],
   "source": [
    "! /home/data/bioinf_training/colin/comparative_genomics/fusarium_decemcellulares/annotation/pipeline/1_RNAseq/FD_ENA_hisat.sorted.bam"
   ]
  },
  {
   "cell_type": "markdown",
   "metadata": {},
   "source": [
    "The rest of run_hisat.sh was run skipping hisat2 and continuing with stringtie and portcullis."
   ]
  },
  {
   "cell_type": "markdown",
   "metadata": {},
   "source": [
    "# Running trinity guided by bam file"
   ]
  },
  {
   "cell_type": "markdown",
   "metadata": {},
   "source": [
    "### Trinity background research"
   ]
  },
  {
   "cell_type": "markdown",
   "metadata": {},
   "source": [
    "Trinity assembles transcriptomics de novo using Illumina RNA-seq data\n",
    "\n",
    "Trinity = Inchworm + Chrysalis + Butterfly modules\n",
    "\n",
    "Under standard procedure, RNA-seq reads partitioned to de Brujin graph which when processed together gives insight into isoforms.\n",
    "\n",
    "Under genome guided trinity, RNA-seq reads are partitioned to the locus in a bam file of aligned reads.\n",
    "\n",
    "More accurate in that genome guided uses actual sequence while standard uses representation of it by de Brujin."
   ]
  },
  {
   "cell_type": "markdown",
   "metadata": {},
   "source": [
    "### Technical bits\n",
    "\n",
    "Inchworm and Chrysalis steps are most memory intensive on computer.\n",
    "\n",
    "--CPU parameter specifies number of butterfly processes to run.\n",
    "\n",
    "The maximum intron length parameter of genome guided trinity varies between species."
   ]
  },
  {
   "cell_type": "markdown",
   "metadata": {},
   "source": [
    "Based on this study on Fusarium strains :\n",
    "https://www.ncbi.nlm.nih.gov/pmc/articles/PMC5677156/\n",
    "\n",
    "The maximum intron length should be no more than 550bp in most Fusarium."
   ]
  }
 ],
 "metadata": {
  "kernelspec": {
   "display_name": "Python 2",
   "language": "python",
   "name": "python2"
  },
  "language_info": {
   "codemirror_mode": {
    "name": "ipython",
    "version": 2
   },
   "file_extension": ".py",
   "mimetype": "text/x-python",
   "name": "python",
   "nbconvert_exporter": "python",
   "pygments_lexer": "ipython2",
   "version": "2.7.15"
  }
 },
 "nbformat": 4,
 "nbformat_minor": 2
}
