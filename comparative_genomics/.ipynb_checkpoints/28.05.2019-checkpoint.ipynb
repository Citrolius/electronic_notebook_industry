{
 "cells": [
  {
   "cell_type": "markdown",
   "metadata": {},
   "source": [
    "# Status update"
   ]
  },
  {
   "cell_type": "markdown",
   "metadata": {},
   "source": [
    " - The maker run on the unique regions of f200 finished on 22nd of May.\n",
    " - The old server ensemblgenomes.org has gone down. Need to use the new server ensembl.org in new script.\n",
    " - Need to finish python script and sort out reads with or without start and stop codon."
   ]
  },
  {
   "cell_type": "markdown",
   "metadata": {},
   "source": [
    "# f307 CDS QC\n"
   ]
  },
  {
   "cell_type": "markdown",
   "metadata": {},
   "source": [
    "Initial findings"
   ]
  },
  {
   "cell_type": "raw",
   "metadata": {},
   "source": [
    "The ones with start codon are\n",
    "19649\n",
    "The ones without start codon are\n",
    "597\n",
    "The number of ones with stop codons are\n",
    "19923\n",
    "The number of ones without stop codons are\n",
    "323\n"
   ]
  },
  {
   "cell_type": "markdown",
   "metadata": {},
   "source": [
    " - Need to print out a fasta file containining only reads with both start and stop codon.\n",
    " - Print the rest onto a file that later could be used to put through blast2go to see if any are worth keeping."
   ]
  },
  {
   "cell_type": "markdown",
   "metadata": {},
   "source": [
    "##### Smalltest"
   ]
  },
  {
   "cell_type": "code",
   "execution_count": 1,
   "metadata": {},
   "outputs": [
    {
     "name": "stdout",
     "output_type": "stream",
     "text": [
      "apple\n"
     ]
    }
   ],
   "source": [
    "words = [\"apple\", \"apply\"]\n",
    "\n",
    "for i in words:\n",
    "    if i.startswith(\"a\") and i.endswith(\"e\"):\n",
    "        print(i)"
   ]
  },
  {
   "cell_type": "markdown",
   "metadata": {},
   "source": [
    "### Extracting reads only if they start with both start and stop codons"
   ]
  },
  {
   "cell_type": "markdown",
   "metadata": {},
   "source": [
    " - The sort.py script prints out the sequence IDs from combined.cds.fa only if they both have a start codon and end with a stop codon. \n",
    " - Seqtk command was then used to extract sequences from fasta using the text file sort.py produced:\n",
    " "
   ]
  },
  {
   "cell_type": "code",
   "execution_count": null,
   "metadata": {},
   "outputs": [],
   "source": [
    "seqtk subseq combined_cds.okay.fa filtered_CDS.txt > seqs_start_and_stop.fa"
   ]
  },
  {
   "cell_type": "markdown",
   "metadata": {},
   "source": [
    "/3/callgenes/okayset/seqs_start_and_stop.fa contains only CDS sequences starting with start codon and ending with stop codon."
   ]
  },
  {
   "cell_type": "markdown",
   "metadata": {},
   "source": [
    "# Problems\n",
    "\n",
    " - did we print out the sequence ID header correctly when extracting CDS reads with start and stop codons?\n",
    " - Cannot extract CDS with gff due to faulthy reference?"
   ]
  },
  {
   "cell_type": "markdown",
   "metadata": {},
   "source": [
    "# Solutions\n",
    "\n",
    "- check the files more. TBC\n",
    "\n",
    "- Rerun maker using a reordered_novelRegion.fasta which has less convoluted header ID. Hopefully this enables gffread to recognise it (faulty genomic reference because of bad id names?)"
   ]
  },
  {
   "cell_type": "code",
   "execution_count": null,
   "metadata": {},
   "outputs": [],
   "source": []
  }
 ],
 "metadata": {
  "kernelspec": {
   "display_name": "Python 2",
   "language": "python",
   "name": "python2"
  },
  "language_info": {
   "codemirror_mode": {
    "name": "ipython",
    "version": 2
   },
   "file_extension": ".py",
   "mimetype": "text/x-python",
   "name": "python",
   "nbconvert_exporter": "python",
   "pygments_lexer": "ipython2",
   "version": "2.7.15"
  }
 },
 "nbformat": 4,
 "nbformat_minor": 2
}
