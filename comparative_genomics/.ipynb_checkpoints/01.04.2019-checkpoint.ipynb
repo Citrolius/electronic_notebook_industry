{
 "cells": [
  {
   "cell_type": "markdown",
   "metadata": {},
   "source": [
    "# Merging bam files"
   ]
  },
  {
   "cell_type": "code",
   "execution_count": null,
   "metadata": {},
   "outputs": [],
   "source": [
    "#Merged the 2 samples s5 and s307 using standard samtools merge.\n",
    "\n",
    "nohup samtools merge FD_ENA_hisat.sorted.bam FD_ENA_1_hisat.sorted_s5.bam FD_ENA_1_hisat.sorted_s307.bam > log.txt &"
   ]
  },
  {
   "cell_type": "markdown",
   "metadata": {},
   "source": [
    "The above command was what's used in run_hisat.sh script."
   ]
  },
  {
   "cell_type": "markdown",
   "metadata": {},
   "source": [
    "Using samtools view\n",
    "The header of merged bam fileq is shown as below:"
   ]
  },
  {
   "cell_type": "code",
   "execution_count": null,
   "metadata": {},
   "outputs": [],
   "source": [
    "! samtools view FD_ENA_hisat.sorted.bam | less"
   ]
  },
  {
   "cell_type": "raw",
   "metadata": {},
   "source": [
    "HWI-ST932:160:HMYL3ADXX:2:1208:9747:93495       163     Chromosome_1    1205    1       150M    =       1260    206     GGGCAGGAGAAGCAGGCCTCGACGACCTCAACTTCAGCCGCCATGGCGATGGCAATGAGGTGGCGTCGGGAGCTTCTGGCAACCCCCTCTCCTCGCTGACTGGTGAGGCGGCTGGGGGAGGCTGTTGTGCAGATGTGGGTGGGTCTGGGT  BBBFFFFFFFFFFIIIIIIIIIIIIIIIIIIIIIIIIIIIIIIIIFFFBBFFFFFFFFFFFFFFFBBFFFFFFFFFFFFFFBFFFFFFFFFFFFBBFFFFF<BBBFFFFFFFFFFFBFBFFFBFBBBB<BBFBBBBBBF7<BF<B<<BB<  AS:i:0  ZS:i:0  XN:i"
   ]
  },
  {
   "cell_type": "markdown",
   "metadata": {},
   "source": [
    "The header has changed but the information such as chromosome is contained in the body anyways."
   ]
  },
  {
   "cell_type": "markdown",
   "metadata": {},
   "source": [
    "### Best to check number of lines"
   ]
  },
  {
   "cell_type": "code",
   "execution_count": null,
   "metadata": {},
   "outputs": [],
   "source": [
    "samtools view -c <file>"
   ]
  },
  {
   "cell_type": "code",
   "execution_count": null,
   "metadata": {},
   "outputs": [],
   "source": [
    "-bash-4.1$ samtools view -c FD_ENA_1_hisat.sorted_s5.bam\n",
    "21101822\n",
    "-bash-4.1$ samtools view -c FD_ENA_1_hisat.sorted_s307.bam\n",
    "33885593\n",
    "-bash-4.1$ samtools view -c FD_ENA_hisat.sorted.bam\n",
    "54987415"
   ]
  },
  {
   "cell_type": "markdown",
   "metadata": {},
   "source": [
    "The merge has worked since FD_ENA_hisat.sorted.bam contains exact number of the sum of the 2 samples."
   ]
  },
  {
   "cell_type": "markdown",
   "metadata": {},
   "source": [
    "### if there is a problem with the header change"
   ]
  },
  {
   "cell_type": "markdown",
   "metadata": {},
   "source": [
    "https://software.broadinstitute.org/gatk/documentation/tooldocs/4.0.0.0/picard_sam_MergeSamFiles.php"
   ]
  }
 ],
 "metadata": {
  "kernelspec": {
   "display_name": "Python 2",
   "language": "python",
   "name": "python2"
  },
  "language_info": {
   "codemirror_mode": {
    "name": "ipython",
    "version": 2
   },
   "file_extension": ".py",
   "mimetype": "text/x-python",
   "name": "python",
   "nbconvert_exporter": "python",
   "pygments_lexer": "ipython2",
   "version": "2.7.15"
  }
 },
 "nbformat": 4,
 "nbformat_minor": 2
}
