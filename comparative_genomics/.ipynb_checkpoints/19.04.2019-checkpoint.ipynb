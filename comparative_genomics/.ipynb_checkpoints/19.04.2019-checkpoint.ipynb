{
 "cells": [
  {
   "cell_type": "markdown",
   "metadata": {},
   "source": [
    "# Massive problem Rob doesn't know about"
   ]
  },
  {
   "cell_type": "markdown",
   "metadata": {},
   "source": [
    " - David's pipeline has maker break genome into batches of longest contigs. The contigs selected for training genemark has to be filtered through checking for overlaping genes and redundancy (check_nr) which we have already done"
   ]
  },
  {
   "cell_type": "markdown",
   "metadata": {},
   "source": [
    "# To do from today"
   ]
  },
  {
   "cell_type": "markdown",
   "metadata": {},
   "source": [
    " - Ask Rob if the parameters for choosing gene model are still relevant:\n",
    "    - Max Annotation Edit Distance\n",
    "    - Max eAED\n",
    "    - min Exons\n",
    " - Ask Rob if the current approach (chromosome 1 against evidence) should be discarded as it seems that run_maker written by David already takes selecting best gene model into account when genome is against evidence. David's script also uses the longest contigs instead of one longest contig.\n",
    " - Read a bit deper into run_maker.sh script. Make a script that batches contigs for the next maker run."
   ]
  },
  {
   "cell_type": "markdown",
   "metadata": {},
   "source": [
    "# Selecting best gene models"
   ]
  },
  {
   "cell_type": "markdown",
   "metadata": {},
   "source": []
  }
 ],
 "metadata": {
  "kernelspec": {
   "display_name": "Python 2",
   "language": "python",
   "name": "python2"
  },
  "language_info": {
   "codemirror_mode": {
    "name": "ipython",
    "version": 2
   },
   "file_extension": ".py",
   "mimetype": "text/x-python",
   "name": "python",
   "nbconvert_exporter": "python",
   "pygments_lexer": "ipython2",
   "version": "2.7.15"
  }
 },
 "nbformat": 4,
 "nbformat_minor": 2
}
