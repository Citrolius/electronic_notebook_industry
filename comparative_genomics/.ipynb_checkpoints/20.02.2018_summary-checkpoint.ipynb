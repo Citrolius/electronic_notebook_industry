{
 "cells": [
  {
   "cell_type": "markdown",
   "metadata": {},
   "source": [
    "# Summary timeline of comparative genomics so far."
   ]
  },
  {
   "cell_type": "markdown",
   "metadata": {},
   "source": [
    "Fri 25/01/2019 13:12"
   ]
  },
  {
   "cell_type": "markdown",
   "metadata": {},
   "source": [
    "Map created in this folder: /bioinf_resources/bionano4/FD4/Imports/\n",
    "Reference fasta: /bioinf_resources/bionano4/FD4/Imports/F307_assembly_V7_pacbio_illumina.fasta\n",
    "Software to hybrid scaffold in bioinf_resources/programming_tools: Solve3.3_10252018\n",
    "Raw data: not found again yet but look for public and see if can get software working with this or start from the map stage as I have already created the map.\n"
   ]
  },
  {
   "cell_type": "code",
   "execution_count": null,
   "metadata": {},
   "outputs": [],
   "source": [
    "Start Date: Bionano4."
   ]
  },
  {
   "cell_type": "markdown",
   "metadata": {},
   "source": [
    "Irysview used for mainly visualisation to see if further scaffolding is possible."
   ]
  }
 ],
 "metadata": {
  "kernelspec": {
   "display_name": "Python 3",
   "language": "python",
   "name": "python3"
  },
  "language_info": {
   "codemirror_mode": {
    "name": "ipython",
    "version": 3
   },
   "file_extension": ".py",
   "mimetype": "text/x-python",
   "name": "python",
   "nbconvert_exporter": "python",
   "pygments_lexer": "ipython3",
   "version": "3.7.1"
  }
 },
 "nbformat": 4,
 "nbformat_minor": 2
}
