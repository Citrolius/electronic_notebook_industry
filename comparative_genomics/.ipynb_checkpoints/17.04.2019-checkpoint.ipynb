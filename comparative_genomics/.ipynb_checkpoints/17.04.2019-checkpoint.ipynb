{
 "cells": [
  {
   "cell_type": "markdown",
   "metadata": {},
   "source": [
    "# Using SeqIO in biopython to hack the largest contig"
   ]
  },
  {
   "cell_type": "code",
   "execution_count": null,
   "metadata": {},
   "outputs": [],
   "source": [
    "#!/usr/bin/python\n",
    "from Bio import SeqIO\n",
    "#SeqIO does not allow printing of returned record objects to file.\n",
    "\n",
    "\n",
    "def print_header():\n",
    "    '''this is how to print all sequence header id in a fast file'''\n",
    "    with open(\"F_decem_v100.fasta\", \"rU\") as handle:\n",
    "        for record in SeqIO.parse(handle, \"fasta\"):\n",
    "            print(record.id)\n",
    "    handle.close()\n",
    "\n",
    "def print_lengths():\n",
    "    #print any sequences longer than 10300bp in length...\n",
    "    # see https://biopython.org/wiki/SeqIO filter by sequence length.\n",
    "    with open(\"F_decem_v100.fasta\", \"rU\") as handle:\n",
    "        for record in SeqIO.parse(handle, \"fasta\"):\n",
    "            #all seqs become record objects.\n",
    "            if len(record) > 9000000:\n",
    "                print(len(record), record.id)\n",
    "    handle.close()\n",
    "\n",
    "def save_largest():\n",
    "    #based on the previous function we know evgMSTRG.7663.1 is the largest contig.\n",
    "    #this function saves it to a fasta\n",
    "    with open(\"F_decem_v100.fasta\", \"rU\") as handle:\n",
    "        largest_seq = []\n",
    "        for record in SeqIO.parse(handle, \"fasta\"):\n",
    "            if len(record.seq) > 9000000:\n",
    "                largest_seq.append(record)\n",
    "    SeqIO.write(largest_seq, \"chrom1.fasta\", \"fasta\")\n",
    "\n",
    "\n",
    "\n",
    "if __name__ == \"__main__\":\n",
    "    #print_header()\n",
    "    print_lengths()\n",
    "    save_largest()"
   ]
  },
  {
   "cell_type": "markdown",
   "metadata": {},
   "source": [
    "# What you have so far:"
   ]
  },
  {
   "cell_type": "markdown",
   "metadata": {},
   "source": [
    " 1) Chromsome 1 / largest contig extracted from the Fusarium decemcellulares genome. \n",
    " \n",
    " 2) evidence transcriptome with redundancies eliminated. found at /home/data/bioinf_training/colin/comparative_genomics/fusarium_decemcellulares/merged/annotation/pipeline/1_RNAseq/okayset"
   ]
  },
  {
   "cell_type": "markdown",
   "metadata": {},
   "source": [
    "## Notes on Maker"
   ]
  },
  {
   "cell_type": "markdown",
   "metadata": {},
   "source": [
    "read http://gmod.org/wiki/MAKER_Tutorial#About_MAKER"
   ]
  },
  {
   "cell_type": "markdown",
   "metadata": {},
   "source": [
    "Maker is a de novo annotator pipeline."
   ]
  },
  {
   "cell_type": "markdown",
   "metadata": {},
   "source": [
    "Maker runs evidence against the genome. \n",
    "It selects the best combination of gene predicting tools output to give the best gene model\n",
    "Doing Ab initio gene prediction with Augustus or GeneMark"
   ]
  },
  {
   "cell_type": "markdown",
   "metadata": {},
   "source": [
    "# 1) Training maker"
   ]
  },
  {
   "cell_type": "markdown",
   "metadata": {},
   "source": [
    " Maker has not been trained for fusarium yet. Hence need to train by running maker using Augustus/fusarium species on the largest contig in the Fusarium decemcellulares genome."
   ]
  },
  {
   "cell_type": "markdown",
   "metadata": {},
   "source": [
    "- Annotations is the conversion of an assembly into a genome landscape with structural and functional descriptions.\n",
    "- should always have an evidence showing where it comes from\n",
    "- evidence is transcribed RNA / transcript in this case.\n",
    "- wrongly annotated genome poison the database and gives systematic error to all experiments derived from it."
   ]
  },
  {
   "cell_type": "code",
   "execution_count": 3,
   "metadata": {},
   "outputs": [
    {
     "ename": "SyntaxError",
     "evalue": "invalid syntax (<ipython-input-3-3616983626af>, line 2)",
     "output_type": "error",
     "traceback": [
      "\u001b[1;36m  File \u001b[1;32m\"<ipython-input-3-3616983626af>\"\u001b[1;36m, line \u001b[1;32m2\u001b[0m\n\u001b[1;33m    export PATH=\"/home/data/bioinf_resources/programming_tools/maker/bin:$PATH\"\u001b[0m\n\u001b[1;37m              ^\u001b[0m\n\u001b[1;31mSyntaxError\u001b[0m\u001b[1;31m:\u001b[0m invalid syntax\n"
     ]
    }
   ],
   "source": [
    "#export PATH\n",
    "export PATH=\"/home/data/bioinf_resources/programming_tools/maker/bin:$PATH\""
   ]
  },
  {
   "cell_type": "markdown",
   "metadata": {},
   "source": [
    "#### Prerequisites\n",
    "\n",
    "Maker has 3 configuration files:\n",
    " - maker_exe.ctl (paths to executable programs that are part of maker)\n",
    " - maker_bopt.ctl (contains values for filtering of blast and exonerate alignments)\n",
    " -  maker_opt.ctl (the most important, location of genome, inputs etc.)\n",
    "\n",
    "Configuration files contain options, parameters etc that instructions that helps the annotation process to run."
   ]
  },
  {
   "cell_type": "markdown",
   "metadata": {},
   "source": [
    "lines 2, 16, 26, 36 were changed in maker_opts.ctl to be specific for fusarium."
   ]
  },
  {
   "cell_type": "markdown",
   "metadata": {},
   "source": [
    "### maker_opts.ctl: vital parameters\n",
    "\n",
    " - genome=../../../data/F_decem_chrom1.fasta #../../../data/F_decem_v100.fasta # genomic assembly\n",
    " \n",
    " \n",
    " - est=../1_RNAseq/okayset/evidence.okay.fasta #set of ESTs or assembled mRNA-seq in fasta format\n",
    " \n",
    " \n",
    " - model_org=fungi #select a model organism for RepBase masking in RepeatMasker"
   ]
  },
  {
   "cell_type": "markdown",
   "metadata": {},
   "source": [
    "### Questions\n",
    "\n",
    " - What protein seq do we need for maker?\n",
    " - what model species for RepeatMasker RepBase? fungi?\n",
    " - what gff files? line 18 of config opt.cl\n",
    " - Do we need to turn maker repeat masking options off?"
   ]
  },
  {
   "cell_type": "code",
   "execution_count": null,
   "metadata": {},
   "outputs": [],
   "source": []
  }
 ],
 "metadata": {
  "kernelspec": {
   "display_name": "Python 2",
   "language": "python",
   "name": "python2"
  },
  "language_info": {
   "codemirror_mode": {
    "name": "ipython",
    "version": 2
   },
   "file_extension": ".py",
   "mimetype": "text/x-python",
   "name": "python",
   "nbconvert_exporter": "python",
   "pygments_lexer": "ipython2",
   "version": "2.7.15"
  }
 },
 "nbformat": 4,
 "nbformat_minor": 2
}
