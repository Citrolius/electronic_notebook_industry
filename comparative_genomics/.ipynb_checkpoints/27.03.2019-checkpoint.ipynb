{
 "cells": [
  {
   "cell_type": "markdown",
   "metadata": {},
   "source": [
    "# Input and files use"
   ]
  },
  {
   "cell_type": "code",
   "execution_count": null,
   "metadata": {},
   "outputs": [],
   "source": [
    "/home/data/bioinf_resources/bionano4/FD4/Imports/F307_assembly_V7_pacbio_illumina.fasta"
   ]
  },
  {
   "cell_type": "markdown",
   "metadata": {},
   "source": [
    "1) What it is: oudated genomic assembly. Not recommended for use due to lacking scaffolds."
   ]
  },
  {
   "cell_type": "code",
   "execution_count": null,
   "metadata": {},
   "outputs": [],
   "source": [
    "/home/data/bioinf_resources/bionanoFD/bionanoFdec/Imports/F_decem_v100.fasta"
   ]
  },
  {
   "cell_type": "markdown",
   "metadata": {},
   "source": [
    "2) what it is: The latest genomic assembly. Use this through pipeline."
   ]
  },
  {
   "cell_type": "markdown",
   "metadata": {},
   "source": [
    "## Overview of procedure:\n",
    "\n",
    "1) Annotate genes in genome of current strain\n",
    "1.5) annotate genes in another strain\n",
    "2) Compare genes presence between strains. mating loci etc"
   ]
  },
  {
   "cell_type": "markdown",
   "metadata": {},
   "source": [
    "# use guided trinity instead of standard\n",
    "https://github.com/trinityrnaseq/trinityrnaseq/wiki/Genome-Guided-Trinity-Transcriptome-Assembly"
   ]
  },
  {
   "cell_type": "markdown",
   "metadata": {},
   "source": [
    "The guided trinity uses bam file as input rather than fastq reads. This means it only assembles based on section with precise mapping alignments."
   ]
  },
  {
   "cell_type": "markdown",
   "metadata": {},
   "source": [
    "# Slight adjustment & mistake"
   ]
  },
  {
   "cell_type": "markdown",
   "metadata": {},
   "source": [
    "hack the script so that it merges ${ID}\"_hisat.sorted.bam files of both sample5 and sample307. This will ensure one bam script runs through rest of stringtie pipeline and eventually trinity guided."
   ]
  },
  {
   "cell_type": "markdown",
   "metadata": {},
   "source": [
    "The run_hisat.sh in /sample5&307 has already been adjusted with anything after sample's ${ID}\"_hisat.sorted.bam production skipped. Run it on both samples and merge the bam files together."
   ]
  },
  {
   "cell_type": "markdown",
   "metadata": {},
   "source": [
    "The overall idea is to merge sample5/annotation/pipeline/1_RNAseq/stringtie/FD_ENA_hisat.sorted.bam with sample307/annotation/pipeline/1_RNAseq/stringtie/FD_ENA_hisat.sorted.bam into one bam. Then put it through stringtie and after in a new directory."
   ]
  }
 ],
 "metadata": {
  "kernelspec": {
   "display_name": "Python 2",
   "language": "python",
   "name": "python2"
  },
  "language_info": {
   "codemirror_mode": {
    "name": "ipython",
    "version": 2
   },
   "file_extension": ".py",
   "mimetype": "text/x-python",
   "name": "python",
   "nbconvert_exporter": "python",
   "pygments_lexer": "ipython2",
   "version": "2.7.15"
  }
 },
 "nbformat": 4,
 "nbformat_minor": 2
}
