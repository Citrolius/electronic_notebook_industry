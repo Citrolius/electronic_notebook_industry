{
 "cells": [
  {
   "cell_type": "markdown",
   "metadata": {},
   "source": [
    "# Re-running busco"
   ]
  },
  {
   "cell_type": "markdown",
   "metadata": {},
   "source": [
    "Re-run busco for the correct species and lineages. "
   ]
  },
  {
   "cell_type": "code",
   "execution_count": null,
   "metadata": {},
   "outputs": [],
   "source": [
    "source /home/data/bioinf_resources/programming_tools/busco/my36project/bin/activate\n",
    "export AUGUSTUS_CONFIG_PATH=\"/home/data/bioinf_training/colin/comparative_genomics/aug_config/\"\n",
    "assembly=/home/data/bioinf_training/colin/comparative_genomics/busco/busco_input/F_decem_v100.fasta"
   ]
  },
  {
   "cell_type": "code",
   "execution_count": null,
   "metadata": {},
   "outputs": [],
   "source": [
    "cd /home/data/bioinf_training/colin/comparative_genomics/busco/busco_package/scripts"
   ]
  },
  {
   "cell_type": "markdown",
   "metadata": {},
   "source": [
    "### variable parameters"
   ]
  },
  {
   "cell_type": "markdown",
   "metadata": {},
   "source": [
    "1) Ascomycetes lineage"
   ]
  },
  {
   "cell_type": "code",
   "execution_count": null,
   "metadata": {},
   "outputs": [],
   "source": [
    "lineage=/home/data/bioinf_training/colin/comparative_genomics/busco/busco_input/ascomycota_odb9"
   ]
  },
  {
   "cell_type": "code",
   "execution_count": null,
   "metadata": {},
   "outputs": [],
   "source": [
    "#ascomycetes default training species for augustus\n",
    "out1=\"asco_default_Sp\"\n",
    "nohup python run_BUSCO.py -i $assembly -o $out1 -l $lineage -m geno -f &"
   ]
  },
  {
   "cell_type": "code",
   "execution_count": null,
   "metadata": {},
   "outputs": [],
   "source": [
    "#ascomycetes fusarium graminearum training species for augustus.\n",
    "species=\"fusarium_graminearum\"\n",
    "out2=\"asco_fg_Sp\"\n",
    "nohup python run_BUSCO.py -i $assembly -o $out2 -l $lineage -m geno -sp $species -f &"
   ]
  },
  {
   "cell_type": "code",
   "execution_count": null,
   "metadata": {},
   "outputs": [],
   "source": [
    "#ascomycetes with fusarium genus for training.\n",
    "out3=\"asco_aug_fusarium\"\n",
    "nohup python run_BUSCO.py -i $assembly -o $out3 -l $lineage -m geno -sp fusarium -f &"
   ]
  },
  {
   "cell_type": "markdown",
   "metadata": {},
   "source": [
    "2) fungi lineage"
   ]
  },
  {
   "cell_type": "code",
   "execution_count": null,
   "metadata": {},
   "outputs": [],
   "source": [
    "lineage2=/home/data/bioinf_training/colin/comparative_genomics/busco/busco_input/fungi_odb9"
   ]
  },
  {
   "cell_type": "code",
   "execution_count": null,
   "metadata": {},
   "outputs": [],
   "source": [
    "#fungi default training species for augustus\n",
    "out4=\"fungi_default_Sp\"\n",
    "nohup python run_BUSCO.py -i $assembly -o $out4 -l $lineage2 -m geno -f &"
   ]
  },
  {
   "cell_type": "code",
   "execution_count": null,
   "metadata": {},
   "outputs": [],
   "source": [
    "#fungi fusarium graminearum training for augustus\n",
    "species=\"fusarium_graminearum\"\n",
    "out5=\"fungi_fg_Sp\"\n",
    "nohup python run_BUSCO.py -i $assembly -o $out5 -l $lineage2 -m geno -sp $species -f &"
   ]
  },
  {
   "cell_type": "code",
   "execution_count": null,
   "metadata": {},
   "outputs": [],
   "source": [
    "#fungi with fusarium genus for training.\n",
    "out6=\"fungi_aug_fusarium\"\n",
    "nohup python run_BUSCO.py -i $assembly -o $out6 -l $lineage2 -m geno -sp fusarium -f &"
   ]
  },
  {
   "cell_type": "markdown",
   "metadata": {},
   "source": [
    "### The commands are stored in the script, busco_commands.sh"
   ]
  },
  {
   "cell_type": "markdown",
   "metadata": {},
   "source": [
    "# plotting busco results"
   ]
  },
  {
   "cell_type": "code",
   "execution_count": null,
   "metadata": {},
   "outputs": [],
   "source": [
    "mkdir BUSCO_summaries #create a directory to put all bar charts in"
   ]
  },
  {
   "cell_type": "code",
   "execution_count": null,
   "metadata": {},
   "outputs": [],
   "source": [
    "out1=\"asco_default_Sp\"\n",
    "out2=\"asco_fg_Sp\"\n",
    "out3=\"asco_aug_fusarium\"\n",
    "out4=\"fungi_default_Sp\"\n",
    "out5=\"fungi_fg_Sp\"\n",
    "out6=\"fungi_aug_fusarium\"\n",
    "\n",
    "cp $out*/short_summary_* /BUSCO_summaries #copy the short summary from each directory into BUSCO_summaries"
   ]
  },
  {
   "cell_type": "code",
   "execution_count": null,
   "metadata": {},
   "outputs": [],
   "source": [
    "python scripts/generate_plot.py –wd BUSCO_summaries"
   ]
  },
  {
   "cell_type": "markdown",
   "metadata": {},
   "source": [
    "### The commands are stored in the script BUSCO_summary/mk_plots.sh"
   ]
  },
  {
   "cell_type": "code",
   "execution_count": null,
   "metadata": {},
   "outputs": [],
   "source": []
  }
 ],
 "metadata": {
  "kernelspec": {
   "display_name": "Python 2",
   "language": "python",
   "name": "python2"
  },
  "language_info": {
   "codemirror_mode": {
    "name": "ipython",
    "version": 2
   },
   "file_extension": ".py",
   "mimetype": "text/x-python",
   "name": "python",
   "nbconvert_exporter": "python",
   "pygments_lexer": "ipython2",
   "version": "2.7.15"
  }
 },
 "nbformat": 4,
 "nbformat_minor": 2
}
