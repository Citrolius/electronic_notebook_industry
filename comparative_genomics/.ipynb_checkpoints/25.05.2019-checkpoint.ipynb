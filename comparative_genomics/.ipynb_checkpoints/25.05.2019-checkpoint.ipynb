{
 "cells": [
  {
   "cell_type": "markdown",
   "metadata": {},
   "source": [
    "# Processing blast2go results\n",
    "\n",
    " - blast2go takes protein sequence / translated CDS as input. Its blastp component aligns them and return hits while the interpro portion would annotate them.\n",
    " \n",
    " - The Interpro uses GO IDs. Does this mean we need the GO IDs to find and delete transposon from protein sequence?\n",
    " - we use the perl scripts to delete start and stop codon from CDS? With something from blast2go as reference?"
   ]
  },
  {
   "cell_type": "markdown",
   "metadata": {},
   "source": [
    " -  cannot use the descriptions to find transposable element because of false positive descriptons such as \"ID=maker-Chromosome_3-augustus-gene-45.56-mRNA-1;Description=related to SPT23-suppressor of TY retrotransposon\""
   ]
  },
  {
   "cell_type": "markdown",
   "metadata": {},
   "source": [
    "# Update"
   ]
  },
  {
   "cell_type": "markdown",
   "metadata": {},
   "source": [
    " - Using GO ID is not specific enough for the purpose of filtering out transposons.\n",
    " - Search transposon with blast2go blast description only found 2 false positives.\n",
    " - Therefore used a textfile /comparative_genomcs/transposon_text.txt that had a list of eukaryotic transposable element to do a text parse comparison with the protein gff extracted.\n",
    " - This returned with only around 30 sequences and integrated viral genomes, many of which are false-positives i.e. real genes with ribonucleases.\n",
    " - Thus due to the extremely low number of possible transposons. IT WAS DECIDED TO KEEP THOSE SEQUENCES."
   ]
  },
  {
   "cell_type": "markdown",
   "metadata": {},
   "source": [
    "# Next steps\n",
    " - Devise python script to detect and remove start and stop codons from f307 CDS.\n",
    " \n",
    " \n",
    " - Annotate f200 novel regions without RNA-seq to generate evidence, use same evidence as f307.\n",
    " \n",
    " \n",
    " - Construct a RepeatMasker library for the f200 RNA-seq annotation as this is what may have caused most of the transposons to be removed.\n",
    " \n",
    " \n",
    " - Then after the pangenome has been constructed, attempt comparative analysis like mapping, figure generation etc."
   ]
  },
  {
   "cell_type": "markdown",
   "metadata": {},
   "source": [
    "# Re-order novel Region sequences and altering headers\n",
    "\n",
    " - The novelRegion_reordered.fasta is a file reordered from longest contig to shortest by Geneious software. Change the header in consequentive sequence.\n",
    "\n",
    " \n",
    " "
   ]
  },
  {
   "cell_type": "markdown",
   "metadata": {},
   "source": [
    "# Update\n",
    "\n",
    " - No RNA-seq is available for f200. Therefore, a little bit sketchy but this constraint means the unique regions will be annotated with the same evidence from f307."
   ]
  },
  {
   "cell_type": "markdown",
   "metadata": {},
   "source": [
    "# Biopython notes\n",
    "\n",
    " - A set of libaries containing reusable module and classes for bioinformatics analsysis in python.\n",
    " - Mainly for: parsing bioinformatics file formats, preparing input for NCBI and popular databases, operate on sequences (transcription, translation etc), alignment algorithms etc.\n",
    " \n",
    " \n",
    " "
   ]
  },
  {
   "cell_type": "code",
   "execution_count": null,
   "metadata": {},
   "outputs": [],
   "source": [
    "from Bio.Seq import Seq\n",
    "seq_object = Seq(\"ACCTG\", <genomic, cDNA etc>)\n",
    "#Seq function takes a sequence string and converts it into a seq object in python."
   ]
  },
  {
   "cell_type": "markdown",
   "metadata": {},
   "source": [
    "The advantage of using seq object is that Seq is an type of alphabet object. This enables additional methods such as .complement which gives you the complementary strand etc."
   ]
  },
  {
   "cell_type": "markdown",
   "metadata": {},
   "source": [
    "The other classs is SeqRecord object which stores not lony the sequence but also an identifyer, name and description."
   ]
  },
  {
   "cell_type": "markdown",
   "metadata": {},
   "source": [
    "###### Bio.SeqIO module most useful for basic file parsing. It reads a file as SeqRecord."
   ]
  },
  {
   "cell_type": "code",
   "execution_count": null,
   "metadata": {},
   "outputs": [],
   "source": [
    "from Bio import SeqIO\n",
    "for seq_record in SeqIO.parse(<fasta file>, \"fasta\"):\n",
    "    statements"
   ]
  },
  {
   "cell_type": "markdown",
   "metadata": {},
   "source": [
    "open files using for loop instead of with open as."
   ]
  },
  {
   "cell_type": "markdown",
   "metadata": {},
   "source": [
    "# Halt on biopython\n",
    "\n",
    " - need in-depth reading on CDS processing."
   ]
  },
  {
   "cell_type": "markdown",
   "metadata": {},
   "source": [
    "# Revisiting provided perl scripts\n",
    " - the perl script fa2oneline.pl will convert multiline CDS fasta into single line CDS fasta.\n",
    " - the find_sequence_no_start.pl print out all start codon. If any read start with a start codon, print them out.\n",
    " - the find_sequence_no_stop.pl print out all stop codon. If any read end with a stop codon, print them out. Then reverse-complement them."
   ]
  },
  {
   "cell_type": "markdown",
   "metadata": {},
   "source": [
    "# Command used to process CDS"
   ]
  },
  {
   "cell_type": "code",
   "execution_count": null,
   "metadata": {},
   "outputs": [],
   "source": [
    "perl fa2oneline.pl combined_cds.okay.fa > combined_cds.okay.singleline.fa"
   ]
  },
  {
   "cell_type": "markdown",
   "metadata": {},
   "source": [
    "This script from: https://github.com/josephhughes/Sequence-manipulation produced combined_cds.okay.singleline.fa which is the same CDS fasta file except the reads are single lined instead of multilined."
   ]
  }
 ],
 "metadata": {
  "kernelspec": {
   "display_name": "Python 2",
   "language": "python",
   "name": "python2"
  },
  "language_info": {
   "codemirror_mode": {
    "name": "ipython",
    "version": 2
   },
   "file_extension": ".py",
   "mimetype": "text/x-python",
   "name": "python",
   "nbconvert_exporter": "python",
   "pygments_lexer": "ipython2",
   "version": "2.7.15"
  }
 },
 "nbformat": 4,
 "nbformat_minor": 2
}
