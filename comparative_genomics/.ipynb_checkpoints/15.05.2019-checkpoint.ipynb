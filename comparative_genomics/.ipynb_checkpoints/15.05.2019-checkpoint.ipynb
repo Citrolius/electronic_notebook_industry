{
 "cells": [
  {
   "cell_type": "markdown",
   "metadata": {},
   "source": [
    "# Status report\n",
    "\n",
    "- Busco checks finished for cDNA and cds of combination gff file from maker with gene predictors and maker with genome transfers.\n",
    " - The completeness between the 2 are fairly similar but the cds, had 0.2% less complete ortholog as well as 0.6% more missing orthologs.\n",
    " - This means CDS (coding region without exons) are good enough to continue."
   ]
  },
  {
   "cell_type": "markdown",
   "metadata": {},
   "source": [
    "## Explanation\n",
    "\n",
    "\n",
    " - The maker without gene predictors in its parameters, only the transfer of the genome was used because the might be genes the gene predictors cannot predict.\n",
    " \n",
    " \n",
    " - However, the transfer maker run had extremely poor results. i.e. There were 69.8% completeness and 19.9% missing orthologs compared to the standard maker genome run with predictors which had 96.9% completness and only 2.0% missing.\n",
    " \n",
    " \n",
    " - regarding an earlier question. N50 is used to measure contiguity in mostly genomic assembly, it's not prevalently used to QC annotation compared to BUSCO which is the standard.\n",
    " \n",
    " \n",
    " - We are interested in functional annotations which would require proteins to be annotated. This would mean run in blast2go which both run protein blasts and its component InterproScan will annotate the proteins alongside blastp.\n",
    " \n",
    " \n",
    " - Due to their transposing nature transposons are labelled as genes by maker. The annotation should not include transposons."
   ]
  },
  {
   "cell_type": "markdown",
   "metadata": {},
   "source": [
    "# Next Steps\n",
    " \n",
    " - From this point onwards, the combined CDS and transfer CDS will be archived and only stanard genome CDS will be used. This is because there could be disruptions downstream of pipeline because of the merge and the latter because of the extremely poor results.\n",
    " \n",
    " \n",
    " - run gffread to extract the proteins from the annotation.\n",
    " \n",
    " \n",
    " - Try to run blastp using either blast2go or decypher on the maker. Blast2go will blast the proteins but also annotate them. This should hopefully leads to the transposons to be removed. If using blast2go then use the NCBI fungi database.\n",
    " \n",
    " \n",
    " - There is another assembly of Fusarium d. Since maker has been trained, do some pre-processing then run maker on it.\n",
    " \n",
    " \n",
    " - After both Fusarium d isolates have been through blast2go and proteins annotated. Compare typical eukaryotic features but also:\n",
    "       - mating locus\n",
    "       - secreted proteins"
   ]
  },
  {
   "cell_type": "code",
   "execution_count": null,
   "metadata": {},
   "outputs": [],
   "source": [
    "mv run_combined_cDNA/ ./archive\n",
    "mv run_transfer_busco/ ./archive\n",
    "mv maker_genome_transfer/ ./archive/\n",
    "mv run_combined_cds/ ./archive"
   ]
  },
  {
   "cell_type": "markdown",
   "metadata": {},
   "source": [
    "The Decypher blastp is not suitable because it doesn't have fungi. Only certain fungi databases from Ensembl 2013 which are outdated."
   ]
  },
  {
   "cell_type": "code",
   "execution_count": null,
   "metadata": {},
   "outputs": [],
   "source": [
    "dc_show -database -a (amino acid)"
   ]
  },
  {
   "cell_type": "raw",
   "metadata": {},
   "source": [
    "Revealed only the following ncbi databases:\n",
    "\n",
    "NCBI_nr_010519   AA Seq 02-May-19  NCBI_nr_010519\n",
    "NCBI_nr_030118   AA Seq 05-Jan-18  NCBI_nr_030118\n",
    "NCBI_nr_230217   AA Seq 04-Jan-18  NCBI_nr_230217\n",
    "NCBI_nr_230616   AA Seq 28-Jun-16  NCBI_nr_230616\n",
    "NCBI_nr_270116   AA Seq 28-Jan-16  NCBI_nr_270116\n",
    "nr               AA Seq 01-Mar-12  NCBI nr"
   ]
  },
  {
   "cell_type": "markdown",
   "metadata": {},
   "source": [
    "Thus blast2go was used instead."
   ]
  },
  {
   "cell_type": "code",
   "execution_count": null,
   "metadata": {},
   "outputs": [],
   "source": [
    " gffread ./3_callgenes/maker_genome/FD.maker.output/genome_cds.fa -g ./1_RNAseq/F_decem_v100.fasta -y protein.fa"
   ]
  },
  {
   "cell_type": "markdown",
   "metadata": {},
   "source": [
    "Use Select. Select by blast2go or interpro scan description to remove the transposons."
   ]
  },
  {
   "cell_type": "code",
   "execution_count": null,
   "metadata": {},
   "outputs": [],
   "source": []
  }
 ],
 "metadata": {
  "kernelspec": {
   "display_name": "Python 2",
   "language": "python",
   "name": "python2"
  },
  "language_info": {
   "codemirror_mode": {
    "name": "ipython",
    "version": 2
   },
   "file_extension": ".py",
   "mimetype": "text/x-python",
   "name": "python",
   "nbconvert_exporter": "python",
   "pygments_lexer": "ipython2",
   "version": "2.7.15"
  }
 },
 "nbformat": 4,
 "nbformat_minor": 2
}
