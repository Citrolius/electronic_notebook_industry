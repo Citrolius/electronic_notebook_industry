{
 "cells": [
  {
   "cell_type": "markdown",
   "metadata": {},
   "source": [
    "# Structure of the entire investigation"
   ]
  },
  {
   "cell_type": "markdown",
   "metadata": {},
   "source": [
    "### Sections\n",
    "\n",
    "\n",
    "0) Some quality control on both the genomic assembly completeness (busco) and the RNA-sequence quality of isolates. Also extract novel regions of f200 when compared against f307\n",
    "\n",
    "\n",
    "1) Annotate f307 with RNA-seq\n",
    "\n",
    "\n",
    "2) Annotate f200's novel regions with RNA-seq\n",
    "\n",
    "\n",
    "3) Pangenome construction"
   ]
  },
  {
   "cell_type": "markdown",
   "metadata": {},
   "source": [
    "### Workflow"
   ]
  },
  {
   "cell_type": "markdown",
   "metadata": {},
   "source": [
    "##### Part 0"
   ]
  },
  {
   "attachments": {},
   "cell_type": "markdown",
   "metadata": {},
   "source": [
    " - Run BUSCO to assess completeness of f307 and f200 genomic assemblies.\n",
    " - Parameters being Ascomycota lineage and Fusarium augustus training species.\n",
    " - Use Panseq with f307 genomic assembly as the reference and the f200 genomic assembly as query.\n",
    " - Panseq outputs a fasta file of the novel regions of f200 genome when compared with f307 genome."
   ]
  },
  {
   "cell_type": "markdown",
   "metadata": {},
   "source": [
    "##### Part 1"
   ]
  },
  {
   "cell_type": "markdown",
   "metadata": {},
   "source": [
    " \n",
    " \n",
    " - Find RNA-seq data of f307 isolate. Do FASTQC and necessary preprocessing.\n",
    " - Map RNA-seq against f307 genomic assembly. Build the index first.\n",
    " - If more than one RNA-seq set, merge bam files with samtools.\n",
    " \n",
    " \n",
    " \n",
    " ###### Producing evidence\n",
    " \n",
    " \n",
    " - Produce 2 transcriptomes at the same time:\n",
    "     - Convert bam into gtf with stringtie. Then extract mRNA using gffread.\n",
    "     - Run guided trinity.\n",
    " - Merge the transcriptomes into one.\n",
    " - Processing the transcriptome (remove overlapping and redundant gene models, rename headers)\n",
    " - Use CDhit to create evidence.\n",
    " \n",
    " ###### Other parameters for training\n",
    " - Repeatmasker Library\n",
    " - Curated protein sequence of Fusarium genus.\n",
    " \n",
    " - Run maker on entire genome using evidence and training sources.\n",
    " - Extract CDS coding region from the gff maker produces.\n",
    " - Translate the coding regions into proteins (blastp more similar than blastn, less SNPs).\n",
    " - Put through blast2go which checks for similarity to known proteins using blastp as well as annotating protein sequences using interpro scan.\n",
    " - Remove transposons.\n",
    " - Remove start and stop codons to avoid NCBI conflicts.\n",
    " - End up with a labelled genome of exon junctions etc."
   ]
  },
  {
   "cell_type": "markdown",
   "metadata": {},
   "source": [
    "##### Part 2"
   ]
  },
  {
   "cell_type": "markdown",
   "metadata": {},
   "source": [
    " - Use the novelRegion.fa from Panseq.\n",
    " \n",
    " \n",
    " ###### Producing evidence\n",
    " \n",
    " \n",
    " - Produce 2 transcriptomes at the same time:\n",
    "     - Convert bam into gtf with stringtie. Then extract mRNA using gffread.\n",
    "     - Run guided trinity.\n",
    " - Merge the transcriptomes into one.\n",
    " - Processing the transcriptome (remove overlapping and redundant gene models, rename headers)\n",
    " - Use CDhit to create evidence.\n",
    " \n",
    " \n",
    " - Run maker on entire genome using evidence and training sources.\n",
    " - Extract CDS coding region from the gff maker produces.\n",
    " - Translate the coding regions into proteins (blastp more similar than blastn, less SNPs).\n",
    " - Put through blast2go which checks for similarity to known proteins using blastp as well as annotating protein sequences using interpro scan.\n",
    " - Remove transposons.\n",
    " - Remove start and stop codons to avoid NCBI conflicts.\n",
    " - End up with a labelled genome of exon junctions etc."
   ]
  },
  {
   "cell_type": "markdown",
   "metadata": {},
   "source": [
    "##### Part 3"
   ]
  },
  {
   "cell_type": "markdown",
   "metadata": {},
   "source": []
  }
 ],
 "metadata": {
  "kernelspec": {
   "display_name": "Python 2",
   "language": "python",
   "name": "python2"
  },
  "language_info": {
   "codemirror_mode": {
    "name": "ipython",
    "version": 2
   },
   "file_extension": ".py",
   "mimetype": "text/x-python",
   "name": "python",
   "nbconvert_exporter": "python",
   "pygments_lexer": "ipython2",
   "version": "2.7.15"
  }
 },
 "nbformat": 4,
 "nbformat_minor": 2
}
