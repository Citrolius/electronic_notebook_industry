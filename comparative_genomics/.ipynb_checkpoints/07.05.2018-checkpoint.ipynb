{
 "cells": [
  {
   "cell_type": "markdown",
   "metadata": {},
   "source": [
    "# Maker standard run exceptions"
   ]
  },
  {
   "cell_type": "markdown",
   "metadata": {},
   "source": [
    "The maker run has failed to include genemark because the wrong hmm file was possibly specified."
   ]
  },
  {
   "cell_type": "raw",
   "metadata": {},
   "source": [
    "GeneMark.hmm 400-day license.\n",
    "License key \"/home/usern/lih/.gm_key\" not found.\n",
    "This file is neccessary in order to use GeneMark.hmm.\n",
    "ERROR: GeneMark Failed\n",
    "ERROR: Genemark failed\n",
    "--> rank=NA, hostname=pear.rothamsted.ac.uk\n",
    "ERROR: Failed while preparing ab-inits\n",
    "ERROR: Chunk failed at level:0, tier_type:2\n",
    "FAILED CONTIG:F307_mitochondria\n",
    "\n",
    "ERROR: Chunk failed at level:4, tier_type:0\n",
    "FAILED CONTIG:F307_mitochondria\n",
    "\n",
    "examining contents of the fasta file and run log"
   ]
  },
  {
   "cell_type": "markdown",
   "metadata": {},
   "source": [
    "And the .gm_key was added to H drive"
   ]
  },
  {
   "cell_type": "code",
   "execution_count": null,
   "metadata": {},
   "outputs": [],
   "source": [
    "-bash-4.1$ pwd\n",
    "/home/usern/lih\n",
    "-bash-4.1$ rm .gm_key\n",
    "-bash-4.1$ cp /home/data/bioinf_resources/programming_tools/genemark/dgm_key ./\n",
    "-bash-4.1$ mv dgm_key .gm_key"
   ]
  },
  {
   "cell_type": "code",
   "execution_count": null,
   "metadata": {},
   "outputs": [],
   "source": []
  }
 ],
 "metadata": {
  "kernelspec": {
   "display_name": "Python 2",
   "language": "python",
   "name": "python2"
  },
  "language_info": {
   "codemirror_mode": {
    "name": "ipython",
    "version": 2
   },
   "file_extension": ".py",
   "mimetype": "text/x-python",
   "name": "python",
   "nbconvert_exporter": "python",
   "pygments_lexer": "ipython2",
   "version": "2.7.15"
  }
 },
 "nbformat": 4,
 "nbformat_minor": 2
}
