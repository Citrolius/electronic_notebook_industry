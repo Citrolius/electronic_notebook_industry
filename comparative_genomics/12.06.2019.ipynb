{
 "cells": [
  {
   "cell_type": "markdown",
   "metadata": {},
   "source": [
    "# Installed OMA which is a more accurate alternative to OrthoMCL for orthology detection"
   ]
  },
  {
   "cell_type": "markdown",
   "metadata": {},
   "source": [
    "Export the PATH to bin of OMA for it to work"
   ]
  },
  {
   "cell_type": "code",
   "execution_count": null,
   "metadata": {},
   "outputs": [],
   "source": [
    "export PATH=\"/home/data/bioinf_training/colin/OMA/OMA/bin/:$PATH\""
   ]
  },
  {
   "cell_type": "markdown",
   "metadata": {},
   "source": [
    "Orthology directory set up. Located in"
   ]
  },
  {
   "cell_type": "code",
   "execution_count": null,
   "metadata": {},
   "outputs": [],
   "source": [
    "cd /home/data/bioinf_training/colin/comparative_genomics/fusarium_decemcellulares/pangenome/Orthology/"
   ]
  },
  {
   "cell_type": "code",
   "execution_count": null,
   "metadata": {},
   "outputs": [],
   "source": [
    "cp /home/data/bioinf_training/colin/OMA/OMA/OMA.2.3.1/parameters.drw ./"
   ]
  },
  {
   "cell_type": "markdown",
   "metadata": {},
   "source": [
    "A few other files into pwd apart from parameters.drw"
   ]
  },
  {
   "cell_type": "code",
   "execution_count": 3,
   "metadata": {},
   "outputs": [],
   "source": [
    "mkdir ortho_database"
   ]
  },
  {
   "cell_type": "code",
   "execution_count": null,
   "metadata": {},
   "outputs": [],
   "source": [
    "cp /home/data/bioinf_training/colin/comparative_genomics/fusarium_decemcellulares/pangenome/pangenome.fasta ./ortho_database/"
   ]
  },
  {
   "cell_type": "markdown",
   "metadata": {},
   "source": [
    "# SMURF textfile"
   ]
  },
  {
   "cell_type": "markdown",
   "metadata": {},
   "source": [
    "Obtaining all sequence ID from pangenome's protein fasta file using python SeqIO"
   ]
  },
  {
   "cell_type": "code",
   "execution_count": null,
   "metadata": {},
   "outputs": [],
   "source": [
    "#!/usr/bin/python\n",
    "from __future__ import print_function\n",
    "import argparse\n",
    "from Bio.Seq import Seq\n",
    "from Bio import SeqIO\n",
    "from Bio.Alphabet import generic_dna\n",
    "\n",
    "'''This script aims to take input fasta containing CDS coding regions\n",
    "and return 2 files. One being a list of IDs of reads with both a start and stop codon.\n",
    "The other being a list of IDs of reads either missing start codon or stop codon or both.'''\n",
    "\n",
    "def printheader():\n",
    "    '''obtain the sequence ID header within a fasta file'''\n",
    "    with open(\"proteinID.txt\", \"w\") as x:\n",
    "        for record in SeqIO.parse(\"FD_protein.fa\", \"fasta\"):\n",
    "            print(record.id, file=x)\n",
    "\n",
    "\n",
    "\n",
    "if __name__ == \"__main__\":   \n",
    "    printheader()\n"
   ]
  },
  {
   "cell_type": "markdown",
   "metadata": {},
   "source": [
    "Attempt to see matching lines by excel"
   ]
  },
  {
   "cell_type": "code",
   "execution_count": null,
   "metadata": {},
   "outputs": [],
   "source": []
  }
 ],
 "metadata": {
  "kernelspec": {
   "display_name": "Python 2",
   "language": "python",
   "name": "python2"
  },
  "language_info": {
   "codemirror_mode": {
    "name": "ipython",
    "version": 2
   },
   "file_extension": ".py",
   "mimetype": "text/x-python",
   "name": "python",
   "nbconvert_exporter": "python",
   "pygments_lexer": "ipython2",
   "version": "2.7.15"
  }
 },
 "nbformat": 4,
 "nbformat_minor": 2
}
