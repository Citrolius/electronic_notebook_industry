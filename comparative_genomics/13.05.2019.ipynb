{
 "cells": [
  {
   "cell_type": "markdown",
   "metadata": {},
   "source": [
    "The error with prediction, intergenic lend and intergenic rend were likely the result of conflicts between genemark and augustus predictions. They are of no consequence to the gene models produced. Thus continue."
   ]
  },
  {
   "cell_type": "markdown",
   "metadata": {},
   "source": [
    "# Questions regarding the scientific background"
   ]
  },
  {
   "cell_type": "markdown",
   "metadata": {},
   "source": [
    " - Does percentage of each gene on a single scaffold take into account of contiguity?\n",
    "\n",
    " - We measured the completeness of the assembly with busco but do we need to generate some N50 scores in some way?\n",
    " "
   ]
  },
  {
   "cell_type": "code",
   "execution_count": null,
   "metadata": {},
   "outputs": [],
   "source": []
  }
 ],
 "metadata": {
  "kernelspec": {
   "display_name": "Python 2",
   "language": "python",
   "name": "python2"
  },
  "language_info": {
   "codemirror_mode": {
    "name": "ipython",
    "version": 2
   },
   "file_extension": ".py",
   "mimetype": "text/x-python",
   "name": "python",
   "nbconvert_exporter": "python",
   "pygments_lexer": "ipython2",
   "version": "2.7.15"
  }
 },
 "nbformat": 4,
 "nbformat_minor": 2
}
