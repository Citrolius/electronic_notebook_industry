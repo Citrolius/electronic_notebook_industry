{
 "cells": [
  {
   "cell_type": "markdown",
   "metadata": {},
   "source": [
    "# Running maker"
   ]
  },
  {
   "cell_type": "markdown",
   "metadata": {},
   "source": [
    "# parameters changed or added to parameter file: maker_opts.ctl (regular maker):\n",
    "\n",
    " - protein=  #protein sequence file in fasta format (i.e. from mutiple organisms). This is with a single fasta file consisting of concatenated protein sequences from multiple curated, \"reviewed\" fusarium species on uniprot\n",
    " \n",
    " \n",
    " - ggmhmm=/home/data/bioinf_training/colin/comparative_genomics/fusarium_decemcellulares/merged/annotation/pipeline/2_training/genemark/es.mod #GeneMark HMM file #This is the last GeneMark gene prediction run which is genemark/run/ET_C_4/ET_C_4.mod. Rename this file to es.mod\n",
    " \n",
    " \n",
    " - rmlib= /home/data/bioinf_training/colin/comparative_genomics/fusarium_decemcellulares/merged/annotation/pipeline/2_training/RepeatMasklib/RM_75942.FriApr190950092019/consensi.fa.classified \n",
    " \n",
    " \n",
    " - always_complete=1 #extra steps to force start and stop codons, 1 = yes, 0 = no. This was set to 1 so that ncbi would not reject it due to lack of start and stop codons when potentially uploading it.\n",
    " \n",
    " \n",
    " - keep_preds=1 #Concordance threshold to add unsupported gene prediction (bound by 0 and 1). This is so that regions where a real gene exists is still labelled as a gene even if the gene is not included in evidence.\n",
    " \n",
    " \n",
    " - single_exon=1 #consider single exon EST evidence when generating annotations, 1 = yes, 0 = no. This is because in fungi there can exit single exon EST. Set this to 0 for other species as single exon evidence could be from bacterial contamination.\n",
    " \n",
    " - correct_est_fusion=0 #limits use of ESTs in annotation to avoid fusion genes.\n",
    " \n",
    " ## For previous settings of parameters see date 18/04/2019"
   ]
  },
  {
   "cell_type": "markdown",
   "metadata": {},
   "source": [
    "# Changes to maker_exe.ctl due to genemark being specified in maker_opts.ctl\n",
    "\n",
    " - gmhmme3=/home/data/bioinf_resources/programming_tools/Genemark_July/gm_et_linux_64/gmes_petap/gmhmme3 #location of eukaryotic genemark executable\n",
    "\n",
    "\n",
    " - probuild=/home/data/bioinf_resources/programming_tools/Genemark_July/gm_et_linux_64/gmes_petap/probuild #location of probuild executable (required for genemark)\n",
    " \n",
    " \n",
    " - evm=/home/data/bioinf_resources/programming_tools/EVidenceModeler-1.1.1/evidence_modeler.pl #location of EvidenceModeler executable"
   ]
  },
  {
   "cell_type": "markdown",
   "metadata": {},
   "source": [
    "# maker with transcriptome transfer\n",
    "\n",
    " - lacks any parameters with gene predictors e.g. genemark, repeatmasker etc.\n",
    " \n",
    " - Only contains the following parameters:\n",
    " \n",
    "     - genome=SPv23_split_12.fasta #genome sequence (fasta file or fasta embeded in GFF3 file)\n",
    "     \n",
    "     - est=all.okay.tr #set of ESTs or assembled mRNA-seq in fasta format\n",
    "     \n",
    "     - est2genome=1 #infer gene predictions directly from ESTs, 1 = yes, 0 = no\n",
    "     \n",
    "     - est_forward=1 #reserve flag for map2assembly QUESTION\n",
    "     \n",
    "     \n",
    " - This should retain more information from transcriptome and evidence than the regular as the gene predictors could have filtered out fragments from transcriptome."
   ]
  },
  {
   "cell_type": "markdown",
   "metadata": {},
   "source": [
    "# Important to note\n",
    "- change correct_est_fusion to 1 manually after the first standard maker run completes. Then run maker again. Make sure the names are unique so overwrites are not occuring. Line 72 of maker.opts.ctl"
   ]
  },
  {
   "cell_type": "code",
   "execution_count": null,
   "metadata": {},
   "outputs": [],
   "source": []
  }
 ],
 "metadata": {
  "kernelspec": {
   "display_name": "Python 2",
   "language": "python",
   "name": "python2"
  },
  "language_info": {
   "codemirror_mode": {
    "name": "ipython",
    "version": 2
   },
   "file_extension": ".py",
   "mimetype": "text/x-python",
   "name": "python",
   "nbconvert_exporter": "python",
   "pygments_lexer": "ipython2",
   "version": "2.7.15"
  }
 },
 "nbformat": 4,
 "nbformat_minor": 2
}
