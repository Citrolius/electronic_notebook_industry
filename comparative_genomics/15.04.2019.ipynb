{
 "cells": [
  {
   "cell_type": "markdown",
   "metadata": {},
   "source": [
    "# Update from Rob"
   ]
  },
  {
   "cell_type": "markdown",
   "metadata": {},
   "source": [
    "### BUSCO run"
   ]
  },
  {
   "cell_type": "markdown",
   "metadata": {},
   "source": [
    " - <>_okay.fa (transcriptome)\n",
    " - stringtie mRNA extracted\n",
    " - trinity mRNA extracted"
   ]
  },
  {
   "cell_type": "markdown",
   "metadata": {},
   "source": [
    " - The gffread tool takes the reference genomic assembly and gtf annotation to extract mRNA / exonic regions from genome.\n",
    " - The stringtie mRNA and Trinity mRNA are different transcriptomic assemblies. Join those 2 to get the best assembly.\n",
    " - The trformat.pl create header for transcriptomics assembly.\n",
    " - The tr2aacd.pl reduces redundancy in the transcriptomics assembly."
   ]
  },
  {
   "cell_type": "code",
   "execution_count": null,
   "metadata": {},
   "outputs": [],
   "source": []
  }
 ],
 "metadata": {
  "kernelspec": {
   "display_name": "Python 2",
   "language": "python",
   "name": "python2"
  },
  "language_info": {
   "codemirror_mode": {
    "name": "ipython",
    "version": 2
   },
   "file_extension": ".py",
   "mimetype": "text/x-python",
   "name": "python",
   "nbconvert_exporter": "python",
   "pygments_lexer": "ipython2",
   "version": "2.7.15"
  }
 },
 "nbformat": 4,
 "nbformat_minor": 2
}
