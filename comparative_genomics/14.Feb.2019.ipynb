{
 "cells": [
  {
   "cell_type": "code",
   "execution_count": null,
   "metadata": {},
   "outputs": [],
   "source": [
    "perl hybridScaffold.pl <-n ngs_file> <-b bng_cmap_file> <-c hybrid_config_xml> <-o output_folder> <-B conflict_filter_level> <-N conflict_filter_level> <-f>"
   ]
  },
  {
   "cell_type": "markdown",
   "metadata": {},
   "source": [
    "# required files\n",
    "\n",
    "ngs_file/sequence file in fasta format\n",
    "bng_cmap_file\n",
    "hybrid_config_xml\n",
    "output_folder\n",
    "conflict_filter_level\n",
    "conflict_filder_level\n",
    "-f"
   ]
  },
  {
   "cell_type": "code",
   "execution_count": null,
   "metadata": {},
   "outputs": [],
   "source": [
    "directory=/home/data/bioinf_training/colin/comparative_genomics/hybridScaffold_test/hybrid_scaffolds/"
   ]
  },
  {
   "cell_type": "code",
   "execution_count": null,
   "metadata": {},
   "outputs": [],
   "source": [
    "nfile=./FASTA/mar3_NA12878.scf.fasta.cut.fasta"
   ]
  },
  {
   "cell_type": "code",
   "execution_count": null,
   "metadata": {},
   "outputs": [],
   "source": [
    "cfile=./xml/hybridScaffold_DLE1_config.xml"
   ]
  },
  {
   "cell_type": "code",
   "execution_count": null,
   "metadata": {},
   "outputs": [],
   "source": [
    "output=/home/data/bioinf_training/colin/comparative_genomics/hybridScaffold_test/test_solve"
   ]
  },
  {
   "cell_type": "markdown",
   "metadata": {},
   "source": [
    "# Assembly conflict\n",
    "\n",
    "conflicts are associated with PCR chimera where multiple parent sequences merge into a single DNA sequence."
   ]
  },
  {
   "cell_type": "code",
   "execution_count": null,
   "metadata": {},
   "outputs": [],
   "source": [
    "https://www.ncbi.nlm.nih.gov/pubmed/30295726 "
   ]
  },
  {
   "cell_type": "markdown",
   "metadata": {},
   "source": [
    "# Accessing data"
   ]
  },
  {
   "cell_type": "markdown",
   "metadata": {},
   "source": [
    "Reference fasta: /bioinf_resources/bionano4/FD4/Imports/F307_assembly_V7_pacbio_illumina.fasta\n",
    "Map created in this folder: /bioinf_resources/bionano4/FD4/Imports/\n",
    "\n",
    "I suspect the original assembly file may be BARS01.fasta downloaded into bionano4 of colin directory. This was because of the clue that the assembly came from nickase recognition site 1. Which when searched on genbank and ebi lead to  "
   ]
  }
 ],
 "metadata": {
  "kernelspec": {
   "display_name": "Python 3",
   "language": "python",
   "name": "python3"
  },
  "language_info": {
   "codemirror_mode": {
    "name": "ipython",
    "version": 3
   },
   "file_extension": ".py",
   "mimetype": "text/x-python",
   "name": "python",
   "nbconvert_exporter": "python",
   "pygments_lexer": "ipython3",
   "version": "3.7.1"
  }
 },
 "nbformat": 4,
 "nbformat_minor": 2
}
